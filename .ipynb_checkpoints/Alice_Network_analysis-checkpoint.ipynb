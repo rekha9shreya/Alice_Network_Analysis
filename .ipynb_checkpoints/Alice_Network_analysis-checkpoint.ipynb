{
 "cells": [
  {
   "cell_type": "code",
   "execution_count": 3,
   "id": "8b23fc2e-146d-497c-9185-87a8833cf4d5",
   "metadata": {
    "tags": []
   },
   "outputs": [
    {
     "name": "stdout",
     "output_type": "stream",
     "text": [
      "Collecting pandas\n",
      "  Downloading pandas-2.2.2-cp312-cp312-win_amd64.whl.metadata (19 kB)\n",
      "Collecting numpy\n",
      "  Downloading numpy-1.26.4-cp312-cp312-win_amd64.whl.metadata (61 kB)\n",
      "     ---------------------------------------- 0.0/61.0 kB ? eta -:--:--\n",
      "     ------ --------------------------------- 10.2/61.0 kB ? eta -:--:--\n",
      "     -------------------------------------- 61.0/61.0 kB 806.3 kB/s eta 0:00:00\n",
      "Requirement already satisfied: python-dateutil>=2.8.2 in c:\\users\\bhimc\\anaconda3\\envs\\venv_alice\\lib\\site-packages (from pandas) (2.8.2)\n",
      "Collecting pytz>=2020.1 (from pandas)\n",
      "  Downloading pytz-2024.1-py2.py3-none-any.whl.metadata (22 kB)\n",
      "Collecting tzdata>=2022.7 (from pandas)\n",
      "  Downloading tzdata-2024.1-py2.py3-none-any.whl.metadata (1.4 kB)\n",
      "Requirement already satisfied: six>=1.5 in c:\\users\\bhimc\\anaconda3\\envs\\venv_alice\\lib\\site-packages (from python-dateutil>=2.8.2->pandas) (1.16.0)\n",
      "Downloading pandas-2.2.2-cp312-cp312-win_amd64.whl (11.5 MB)\n",
      "   ---------------------------------------- 0.0/11.5 MB ? eta -:--:--\n",
      "    --------------------------------------- 0.2/11.5 MB 5.3 MB/s eta 0:00:03\n",
      "   - -------------------------------------- 0.4/11.5 MB 5.3 MB/s eta 0:00:03\n",
      "   -- ------------------------------------- 0.7/11.5 MB 5.2 MB/s eta 0:00:03\n",
      "   --- ------------------------------------ 0.9/11.5 MB 5.4 MB/s eta 0:00:02\n",
      "   ---- ----------------------------------- 1.2/11.5 MB 5.6 MB/s eta 0:00:02\n",
      "   ----- ---------------------------------- 1.6/11.5 MB 6.2 MB/s eta 0:00:02\n",
      "   ------ --------------------------------- 2.0/11.5 MB 6.2 MB/s eta 0:00:02\n",
      "   ------- -------------------------------- 2.0/11.5 MB 5.6 MB/s eta 0:00:02\n",
      "   -------- ------------------------------- 2.4/11.5 MB 5.8 MB/s eta 0:00:02\n",
      "   --------- ------------------------------ 2.8/11.5 MB 6.1 MB/s eta 0:00:02\n",
      "   ---------- ----------------------------- 3.0/11.5 MB 6.4 MB/s eta 0:00:02\n",
      "   ------------ --------------------------- 3.6/11.5 MB 6.5 MB/s eta 0:00:02\n",
      "   ------------- -------------------------- 3.9/11.5 MB 6.6 MB/s eta 0:00:02\n",
      "   --------------- ------------------------ 4.4/11.5 MB 6.8 MB/s eta 0:00:02\n",
      "   ---------------- ----------------------- 4.8/11.5 MB 7.0 MB/s eta 0:00:01\n",
      "   ------------------ --------------------- 5.4/11.5 MB 7.4 MB/s eta 0:00:01\n",
      "   --------------------- ------------------ 6.2/11.5 MB 7.9 MB/s eta 0:00:01\n",
      "   ------------------------ --------------- 6.9/11.5 MB 8.4 MB/s eta 0:00:01\n",
      "   --------------------------- ------------ 7.8/11.5 MB 8.9 MB/s eta 0:00:01\n",
      "   ------------------------------ --------- 8.8/11.5 MB 9.5 MB/s eta 0:00:01\n",
      "   -------------------------------- ------- 9.4/11.5 MB 9.7 MB/s eta 0:00:01\n",
      "   ------------------------------------ --- 10.4/11.5 MB 10.4 MB/s eta 0:00:01\n",
      "   ---------------------------------------  11.4/11.5 MB 12.1 MB/s eta 0:00:01\n",
      "   ---------------------------------------- 11.5/11.5 MB 11.5 MB/s eta 0:00:00\n",
      "Downloading numpy-1.26.4-cp312-cp312-win_amd64.whl (15.5 MB)\n",
      "   ---------------------------------------- 0.0/15.5 MB ? eta -:--:--\n",
      "   -- ------------------------------------- 1.1/15.5 MB 22.7 MB/s eta 0:00:01\n",
      "   ----- ---------------------------------- 2.3/15.5 MB 24.1 MB/s eta 0:00:01\n",
      "   -------- ------------------------------- 3.5/15.5 MB 24.6 MB/s eta 0:00:01\n",
      "   ----------- ---------------------------- 4.6/15.5 MB 24.6 MB/s eta 0:00:01\n",
      "   -------------- ------------------------- 5.8/15.5 MB 24.8 MB/s eta 0:00:01\n",
      "   ----------------- ---------------------- 6.9/15.5 MB 24.6 MB/s eta 0:00:01\n",
      "   -------------------- ------------------- 8.1/15.5 MB 24.5 MB/s eta 0:00:01\n",
      "   ----------------------- ---------------- 9.2/15.5 MB 24.5 MB/s eta 0:00:01\n",
      "   -------------------------- ------------- 10.3/15.5 MB 25.2 MB/s eta 0:00:01\n",
      "   ----------------------------- ---------- 11.4/15.5 MB 25.2 MB/s eta 0:00:01\n",
      "   -------------------------------- ------- 12.5/15.5 MB 24.3 MB/s eta 0:00:01\n",
      "   ----------------------------------- ---- 13.6/15.5 MB 23.4 MB/s eta 0:00:01\n",
      "   ------------------------------------- -- 14.7/15.5 MB 23.4 MB/s eta 0:00:01\n",
      "   ---------------------------------------  15.5/15.5 MB 24.2 MB/s eta 0:00:01\n",
      "   ---------------------------------------- 15.5/15.5 MB 21.1 MB/s eta 0:00:00\n",
      "Downloading pytz-2024.1-py2.py3-none-any.whl (505 kB)\n",
      "   ---------------------------------------- 0.0/505.5 kB ? eta -:--:--\n",
      "   --------------------------------------- 505.5/505.5 kB 33.0 MB/s eta 0:00:00\n",
      "Downloading tzdata-2024.1-py2.py3-none-any.whl (345 kB)\n",
      "   ---------------------------------------- 0.0/345.4 kB ? eta -:--:--\n",
      "   --------------------------------------- 345.4/345.4 kB 20.9 MB/s eta 0:00:00\n",
      "Installing collected packages: pytz, tzdata, numpy, pandas\n",
      "Successfully installed numpy-1.26.4 pandas-2.2.2 pytz-2024.1 tzdata-2024.1\n",
      "Note: you may need to restart the kernel to use updated packages.\n"
     ]
    }
   ],
   "source": [
    "%pip install pandas numpy"
   ]
  },
  {
   "cell_type": "code",
   "execution_count": 4,
   "id": "b75d2009-d7f2-433a-af29-970afa5b840a",
   "metadata": {
    "tags": []
   },
   "outputs": [],
   "source": [
    "import pandas as pd"
   ]
  },
  {
   "cell_type": "code",
   "execution_count": 6,
   "id": "273d9654-60c2-4996-99a5-608aa949293d",
   "metadata": {
    "tags": []
   },
   "outputs": [],
   "source": [
    "data = pd.DataFrame({\"Name\": ['Aragorn', 'Boromir', 'Frodo','Galadriel'],\n",
    "                     \"Race\": [\"human\", \"human\", \"hobbit\", \"elf\"],\n",
    "                     \"Age\": [88,41,51,8382]})"
   ]
  },
  {
   "cell_type": "code",
   "execution_count": 8,
   "id": "acb404f3-d941-4d02-8005-46e0d539b77b",
   "metadata": {
    "tags": []
   },
   "outputs": [
    {
     "data": {
      "text/html": [
       "<div>\n",
       "<style scoped>\n",
       "    .dataframe tbody tr th:only-of-type {\n",
       "        vertical-align: middle;\n",
       "    }\n",
       "\n",
       "    .dataframe tbody tr th {\n",
       "        vertical-align: top;\n",
       "    }\n",
       "\n",
       "    .dataframe thead th {\n",
       "        text-align: right;\n",
       "    }\n",
       "</style>\n",
       "<table border=\"1\" class=\"dataframe\">\n",
       "  <thead>\n",
       "    <tr style=\"text-align: right;\">\n",
       "      <th></th>\n",
       "      <th>Name</th>\n",
       "      <th>Race</th>\n",
       "      <th>Age</th>\n",
       "    </tr>\n",
       "  </thead>\n",
       "  <tbody>\n",
       "    <tr>\n",
       "      <th>0</th>\n",
       "      <td>Aragorn</td>\n",
       "      <td>human</td>\n",
       "      <td>88</td>\n",
       "    </tr>\n",
       "    <tr>\n",
       "      <th>1</th>\n",
       "      <td>Boromir</td>\n",
       "      <td>human</td>\n",
       "      <td>41</td>\n",
       "    </tr>\n",
       "    <tr>\n",
       "      <th>2</th>\n",
       "      <td>Frodo</td>\n",
       "      <td>hobbit</td>\n",
       "      <td>51</td>\n",
       "    </tr>\n",
       "    <tr>\n",
       "      <th>3</th>\n",
       "      <td>Galadriel</td>\n",
       "      <td>elf</td>\n",
       "      <td>8382</td>\n",
       "    </tr>\n",
       "  </tbody>\n",
       "</table>\n",
       "</div>"
      ],
      "text/plain": [
       "        Name    Race   Age\n",
       "0    Aragorn   human    88\n",
       "1    Boromir   human    41\n",
       "2      Frodo  hobbit    51\n",
       "3  Galadriel     elf  8382"
      ]
     },
     "execution_count": 8,
     "metadata": {},
     "output_type": "execute_result"
    }
   ],
   "source": [
    "data"
   ]
  },
  {
   "cell_type": "code",
   "execution_count": 11,
   "id": "f4feed84-fd17-426f-aa19-e12bb72eee67",
   "metadata": {
    "tags": []
   },
   "outputs": [
    {
     "ename": "SyntaxError",
     "evalue": "invalid syntax (1739697623.py, line 1)",
     "output_type": "error",
     "traceback": [
      "\u001b[1;36m  Cell \u001b[1;32mIn[11], line 1\u001b[1;36m\u001b[0m\n\u001b[1;33m    data divide(row):\u001b[0m\n\u001b[1;37m         ^\u001b[0m\n\u001b[1;31mSyntaxError\u001b[0m\u001b[1;31m:\u001b[0m invalid syntax\n"
     ]
    }
   ],
   "source": [
    "data divide(row):\n",
    "        result = row['Age']/10\n",
    "        return result\n",
    "\n",
    "data['age_valinor'] = data.apply(divide, axis=1)\n",
    "\n",
    "data"
   ]
  },
  {
   "cell_type": "code",
   "execution_count": 12,
   "id": "a258c33b-7dd6-4153-be3f-f92ff06e7b48",
   "metadata": {
    "tags": []
   },
   "outputs": [],
   "source": [
    "import pandas as pd"
   ]
  },
  {
   "cell_type": "code",
   "execution_count": 13,
   "id": "c3fc5c03-870a-4933-b2e4-6aa87e88245a",
   "metadata": {
    "tags": []
   },
   "outputs": [
    {
     "ename": "SyntaxError",
     "evalue": "invalid syntax (1739697623.py, line 1)",
     "output_type": "error",
     "traceback": [
      "\u001b[1;36m  Cell \u001b[1;32mIn[13], line 1\u001b[1;36m\u001b[0m\n\u001b[1;33m    data divide(row):\u001b[0m\n\u001b[1;37m         ^\u001b[0m\n\u001b[1;31mSyntaxError\u001b[0m\u001b[1;31m:\u001b[0m invalid syntax\n"
     ]
    }
   ],
   "source": [
    "data divide(row):\n",
    "        result = row['Age']/10\n",
    "        return result\n",
    "\n",
    "data['age_valinor'] = data.apply(divide, axis=1)\n",
    "\n",
    "data"
   ]
  },
  {
   "cell_type": "code",
   "execution_count": 14,
   "id": "cd160aa3-e467-41c4-94fd-db3903b71c74",
   "metadata": {
    "tags": []
   },
   "outputs": [],
   "source": [
    "def divide(row):\n",
    "    result = row['Age'] / 10\n",
    "    return result"
   ]
  },
  {
   "cell_type": "code",
   "execution_count": 15,
   "id": "af0f1dda-d445-4d7d-b389-f7f1474fbd30",
   "metadata": {
    "tags": []
   },
   "outputs": [
    {
     "name": "stdout",
     "output_type": "stream",
     "text": [
      "        Name    Race   Age  age_valinor\n",
      "0    Aragorn   human    88          8.8\n",
      "1    Boromir   human    41          4.1\n",
      "2      Frodo  hobbit    51          5.1\n",
      "3  Galadriel     elf  8382        838.2\n"
     ]
    }
   ],
   "source": [
    "# Apply the division directly using a lambda function\n",
    "data['age_valinor'] = data['Age'] / 10\n",
    "\n",
    "print(data)"
   ]
  },
  {
   "cell_type": "code",
   "execution_count": 16,
   "id": "f0277bec-aa40-475b-b69a-9514ab2b3f2a",
   "metadata": {
    "tags": []
   },
   "outputs": [
    {
     "data": {
      "text/plain": [
       "0      8.8\n",
       "1      4.1\n",
       "2      5.1\n",
       "3    838.2\n",
       "Name: Age, dtype: float64"
      ]
     },
     "execution_count": 16,
     "metadata": {},
     "output_type": "execute_result"
    }
   ],
   "source": [
    "divide_2 = lambda x: x/10\n",
    "divide_2(data['Age'])"
   ]
  },
  {
   "cell_type": "code",
   "execution_count": 17,
   "id": "a761f445-f793-4aa4-81a8-27384d1c1eb7",
   "metadata": {
    "tags": []
   },
   "outputs": [
    {
     "data": {
      "text/html": [
       "<div>\n",
       "<style scoped>\n",
       "    .dataframe tbody tr th:only-of-type {\n",
       "        vertical-align: middle;\n",
       "    }\n",
       "\n",
       "    .dataframe tbody tr th {\n",
       "        vertical-align: top;\n",
       "    }\n",
       "\n",
       "    .dataframe thead th {\n",
       "        text-align: right;\n",
       "    }\n",
       "</style>\n",
       "<table border=\"1\" class=\"dataframe\">\n",
       "  <thead>\n",
       "    <tr style=\"text-align: right;\">\n",
       "      <th></th>\n",
       "      <th>Name</th>\n",
       "      <th>Race</th>\n",
       "      <th>Age</th>\n",
       "      <th>age_valinor</th>\n",
       "      <th>age_2</th>\n",
       "    </tr>\n",
       "  </thead>\n",
       "  <tbody>\n",
       "    <tr>\n",
       "      <th>0</th>\n",
       "      <td>Aragorn</td>\n",
       "      <td>human</td>\n",
       "      <td>88</td>\n",
       "      <td>8.8</td>\n",
       "      <td>8.8</td>\n",
       "    </tr>\n",
       "    <tr>\n",
       "      <th>1</th>\n",
       "      <td>Boromir</td>\n",
       "      <td>human</td>\n",
       "      <td>41</td>\n",
       "      <td>4.1</td>\n",
       "      <td>4.1</td>\n",
       "    </tr>\n",
       "    <tr>\n",
       "      <th>2</th>\n",
       "      <td>Frodo</td>\n",
       "      <td>hobbit</td>\n",
       "      <td>51</td>\n",
       "      <td>5.1</td>\n",
       "      <td>5.1</td>\n",
       "    </tr>\n",
       "    <tr>\n",
       "      <th>3</th>\n",
       "      <td>Galadriel</td>\n",
       "      <td>elf</td>\n",
       "      <td>8382</td>\n",
       "      <td>838.2</td>\n",
       "      <td>838.2</td>\n",
       "    </tr>\n",
       "  </tbody>\n",
       "</table>\n",
       "</div>"
      ],
      "text/plain": [
       "        Name    Race   Age  age_valinor  age_2\n",
       "0    Aragorn   human    88          8.8    8.8\n",
       "1    Boromir   human    41          4.1    4.1\n",
       "2      Frodo  hobbit    51          5.1    5.1\n",
       "3  Galadriel     elf  8382        838.2  838.2"
      ]
     },
     "execution_count": 17,
     "metadata": {},
     "output_type": "execute_result"
    }
   ],
   "source": [
    "data['age_2'] = divide_2(data['Age'])\n",
    "\n",
    "data"
   ]
  },
  {
   "cell_type": "code",
   "execution_count": 18,
   "id": "8ee26c18-2d31-46fa-abba-ebac9a9552a2",
   "metadata": {
    "tags": []
   },
   "outputs": [
    {
     "data": {
      "text/html": [
       "<div>\n",
       "<style scoped>\n",
       "    .dataframe tbody tr th:only-of-type {\n",
       "        vertical-align: middle;\n",
       "    }\n",
       "\n",
       "    .dataframe tbody tr th {\n",
       "        vertical-align: top;\n",
       "    }\n",
       "\n",
       "    .dataframe thead th {\n",
       "        text-align: right;\n",
       "    }\n",
       "</style>\n",
       "<table border=\"1\" class=\"dataframe\">\n",
       "  <thead>\n",
       "    <tr style=\"text-align: right;\">\n",
       "      <th></th>\n",
       "      <th>Name</th>\n",
       "      <th>Race</th>\n",
       "      <th>Age</th>\n",
       "      <th>age_valinor</th>\n",
       "      <th>age_2</th>\n",
       "      <th>age_3</th>\n",
       "    </tr>\n",
       "  </thead>\n",
       "  <tbody>\n",
       "    <tr>\n",
       "      <th>0</th>\n",
       "      <td>Aragorn</td>\n",
       "      <td>human</td>\n",
       "      <td>88</td>\n",
       "      <td>8.8</td>\n",
       "      <td>8.8</td>\n",
       "      <td>8.8</td>\n",
       "    </tr>\n",
       "    <tr>\n",
       "      <th>1</th>\n",
       "      <td>Boromir</td>\n",
       "      <td>human</td>\n",
       "      <td>41</td>\n",
       "      <td>4.1</td>\n",
       "      <td>4.1</td>\n",
       "      <td>4.1</td>\n",
       "    </tr>\n",
       "    <tr>\n",
       "      <th>2</th>\n",
       "      <td>Frodo</td>\n",
       "      <td>hobbit</td>\n",
       "      <td>51</td>\n",
       "      <td>5.1</td>\n",
       "      <td>5.1</td>\n",
       "      <td>5.1</td>\n",
       "    </tr>\n",
       "    <tr>\n",
       "      <th>3</th>\n",
       "      <td>Galadriel</td>\n",
       "      <td>elf</td>\n",
       "      <td>8382</td>\n",
       "      <td>838.2</td>\n",
       "      <td>838.2</td>\n",
       "      <td>838.2</td>\n",
       "    </tr>\n",
       "  </tbody>\n",
       "</table>\n",
       "</div>"
      ],
      "text/plain": [
       "        Name    Race   Age  age_valinor  age_2  age_3\n",
       "0    Aragorn   human    88          8.8    8.8    8.8\n",
       "1    Boromir   human    41          4.1    4.1    4.1\n",
       "2      Frodo  hobbit    51          5.1    5.1    5.1\n",
       "3  Galadriel     elf  8382        838.2  838.2  838.2"
      ]
     },
     "execution_count": 18,
     "metadata": {},
     "output_type": "execute_result"
    }
   ],
   "source": [
    "data['age_3'] = data['Age'].apply(lambda x: x/10)\n",
    "\n",
    "data"
   ]
  },
  {
   "cell_type": "code",
   "execution_count": 19,
   "id": "d05e3a0f-e57a-426d-af5a-9bd2dbccac4c",
   "metadata": {
    "tags": []
   },
   "outputs": [],
   "source": [
    "data['age_label_2'] = data['Age'].apply(\n",
    "lambda x:  'elven old' if x > 500 else ('middle-aged' if x >=100 else 'young'))"
   ]
  },
  {
   "cell_type": "code",
   "execution_count": 20,
   "id": "a1e6ebe9-d106-4234-93b2-ac7c2ec7ea69",
   "metadata": {
    "tags": []
   },
   "outputs": [
    {
     "data": {
      "text/html": [
       "<div>\n",
       "<style scoped>\n",
       "    .dataframe tbody tr th:only-of-type {\n",
       "        vertical-align: middle;\n",
       "    }\n",
       "\n",
       "    .dataframe tbody tr th {\n",
       "        vertical-align: top;\n",
       "    }\n",
       "\n",
       "    .dataframe thead th {\n",
       "        text-align: right;\n",
       "    }\n",
       "</style>\n",
       "<table border=\"1\" class=\"dataframe\">\n",
       "  <thead>\n",
       "    <tr style=\"text-align: right;\">\n",
       "      <th></th>\n",
       "      <th>Name</th>\n",
       "      <th>Race</th>\n",
       "      <th>Age</th>\n",
       "      <th>age_valinor</th>\n",
       "      <th>age_2</th>\n",
       "      <th>age_3</th>\n",
       "      <th>age_label_2</th>\n",
       "    </tr>\n",
       "  </thead>\n",
       "  <tbody>\n",
       "    <tr>\n",
       "      <th>0</th>\n",
       "      <td>Aragorn</td>\n",
       "      <td>human</td>\n",
       "      <td>88</td>\n",
       "      <td>8.8</td>\n",
       "      <td>8.8</td>\n",
       "      <td>8.8</td>\n",
       "      <td>young</td>\n",
       "    </tr>\n",
       "    <tr>\n",
       "      <th>1</th>\n",
       "      <td>Boromir</td>\n",
       "      <td>human</td>\n",
       "      <td>41</td>\n",
       "      <td>4.1</td>\n",
       "      <td>4.1</td>\n",
       "      <td>4.1</td>\n",
       "      <td>young</td>\n",
       "    </tr>\n",
       "    <tr>\n",
       "      <th>2</th>\n",
       "      <td>Frodo</td>\n",
       "      <td>hobbit</td>\n",
       "      <td>51</td>\n",
       "      <td>5.1</td>\n",
       "      <td>5.1</td>\n",
       "      <td>5.1</td>\n",
       "      <td>young</td>\n",
       "    </tr>\n",
       "    <tr>\n",
       "      <th>3</th>\n",
       "      <td>Galadriel</td>\n",
       "      <td>elf</td>\n",
       "      <td>8382</td>\n",
       "      <td>838.2</td>\n",
       "      <td>838.2</td>\n",
       "      <td>838.2</td>\n",
       "      <td>elven old</td>\n",
       "    </tr>\n",
       "  </tbody>\n",
       "</table>\n",
       "</div>"
      ],
      "text/plain": [
       "        Name    Race   Age  age_valinor  age_2  age_3 age_label_2\n",
       "0    Aragorn   human    88          8.8    8.8    8.8       young\n",
       "1    Boromir   human    41          4.1    4.1    4.1       young\n",
       "2      Frodo  hobbit    51          5.1    5.1    5.1       young\n",
       "3  Galadriel     elf  8382        838.2  838.2  838.2   elven old"
      ]
     },
     "execution_count": 20,
     "metadata": {},
     "output_type": "execute_result"
    }
   ],
   "source": [
    "data"
   ]
  },
  {
   "cell_type": "code",
   "execution_count": null,
   "id": "1f448c11-b483-4ee6-bb3e-8e88746341c9",
   "metadata": {},
   "outputs": [],
   "source": []
  }
 ],
 "metadata": {
  "kernelspec": {
   "display_name": "Python [conda env:venv_alice]",
   "language": "python",
   "name": "conda-env-venv_alice-py"
  },
  "language_info": {
   "codemirror_mode": {
    "name": "ipython",
    "version": 3
   },
   "file_extension": ".py",
   "mimetype": "text/x-python",
   "name": "python",
   "nbconvert_exporter": "python",
   "pygments_lexer": "ipython3",
   "version": "3.12.3"
  }
 },
 "nbformat": 4,
 "nbformat_minor": 5
}
