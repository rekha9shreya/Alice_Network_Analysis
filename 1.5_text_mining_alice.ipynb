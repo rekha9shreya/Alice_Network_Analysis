{
 "cells": [
  {
   "cell_type": "markdown",
   "id": "d505e865-e72b-4a63-bd0c-9e748bbcc18a",
   "metadata": {},
   "source": [
    "# 1.5 Text Mining"
   ]
  },
  {
   "cell_type": "code",
   "execution_count": 3,
   "id": "0b346c89-a0d3-41dd-822c-3e06c573da46",
   "metadata": {
    "tags": []
   },
   "outputs": [
    {
     "name": "stdout",
     "output_type": "stream",
     "text": [
      "Collecting textblobNote: you may need to restart the kernel to use updated packages.\n",
      "\n",
      "  Downloading textblob-0.18.0.post0-py3-none-any.whl.metadata (4.5 kB)\n",
      "Collecting nltk>=3.8 (from textblob)\n",
      "  Downloading nltk-3.8.1-py3-none-any.whl.metadata (2.8 kB)\n",
      "Collecting click (from nltk>=3.8->textblob)\n",
      "  Downloading click-8.1.7-py3-none-any.whl.metadata (3.0 kB)\n",
      "Collecting joblib (from nltk>=3.8->textblob)\n",
      "  Downloading joblib-1.4.2-py3-none-any.whl.metadata (5.4 kB)\n",
      "Collecting regex>=2021.8.3 (from nltk>=3.8->textblob)\n",
      "  Downloading regex-2024.5.15-cp312-cp312-win_amd64.whl.metadata (41 kB)\n",
      "     ---------------------------------------- 0.0/42.0 kB ? eta -:--:--\n",
      "     -------------------------------------  41.0/42.0 kB 991.0 kB/s eta 0:00:01\n",
      "     -------------------------------------- 42.0/42.0 kB 406.8 kB/s eta 0:00:00\n",
      "Collecting tqdm (from nltk>=3.8->textblob)\n",
      "  Downloading tqdm-4.66.4-py3-none-any.whl.metadata (57 kB)\n",
      "     ---------------------------------------- 0.0/57.6 kB ? eta -:--:--\n",
      "     ---------------------------------------- 57.6/57.6 kB 3.2 MB/s eta 0:00:00\n",
      "Requirement already satisfied: colorama in c:\\users\\bhimc\\anaconda3\\envs\\venv_alice\\lib\\site-packages (from click->nltk>=3.8->textblob) (0.4.6)\n",
      "Downloading textblob-0.18.0.post0-py3-none-any.whl (626 kB)\n",
      "   ---------------------------------------- 0.0/626.3 kB ? eta -:--:--\n",
      "   ------------- -------------------------- 204.8/626.3 kB 4.2 MB/s eta 0:00:01\n",
      "   ------------------------- -------------- 399.4/626.3 kB 4.2 MB/s eta 0:00:01\n",
      "   ---------------------------------------  624.6/626.3 kB 4.9 MB/s eta 0:00:01\n",
      "   ---------------------------------------- 626.3/626.3 kB 3.9 MB/s eta 0:00:00\n",
      "Downloading nltk-3.8.1-py3-none-any.whl (1.5 MB)\n",
      "   ---------------------------------------- 0.0/1.5 MB ? eta -:--:--\n",
      "   ------ --------------------------------- 0.3/1.5 MB 5.2 MB/s eta 0:00:01\n",
      "   ------------- -------------------------- 0.5/1.5 MB 6.2 MB/s eta 0:00:01\n",
      "   ----------------------- ---------------- 0.9/1.5 MB 6.1 MB/s eta 0:00:01\n",
      "   ------------------------------- -------- 1.2/1.5 MB 6.3 MB/s eta 0:00:01\n",
      "   ---------------------------------------  1.5/1.5 MB 6.4 MB/s eta 0:00:01\n",
      "   ---------------------------------------- 1.5/1.5 MB 5.6 MB/s eta 0:00:00\n",
      "Downloading regex-2024.5.15-cp312-cp312-win_amd64.whl (268 kB)\n",
      "   ---------------------------------------- 0.0/268.5 kB ? eta -:--:--\n",
      "   --------------------------------------  266.2/268.5 kB 16.0 MB/s eta 0:00:01\n",
      "   ---------------------------------------- 268.5/268.5 kB 4.1 MB/s eta 0:00:00\n",
      "Downloading click-8.1.7-py3-none-any.whl (97 kB)\n",
      "   ---------------------------------------- 0.0/97.9 kB ? eta -:--:--\n",
      "   ---------------------------------------- 97.9/97.9 kB 2.8 MB/s eta 0:00:00\n",
      "Downloading joblib-1.4.2-py3-none-any.whl (301 kB)\n",
      "   ---------------------------------------- 0.0/301.8 kB ? eta -:--:--\n",
      "   --------------------------------------  297.0/301.8 kB 17.9 MB/s eta 0:00:01\n",
      "   ---------------------------------------- 301.8/301.8 kB 6.2 MB/s eta 0:00:00\n",
      "Downloading tqdm-4.66.4-py3-none-any.whl (78 kB)\n",
      "   ---------------------------------------- 0.0/78.3 kB ? eta -:--:--\n",
      "   ---------------------------------------- 78.3/78.3 kB 2.2 MB/s eta 0:00:00\n",
      "Installing collected packages: tqdm, regex, joblib, click, nltk, textblob\n",
      "Successfully installed click-8.1.7 joblib-1.4.2 nltk-3.8.1 regex-2024.5.15 textblob-0.18.0.post0 tqdm-4.66.4\n"
     ]
    }
   ],
   "source": [
    "%pip install textblob"
   ]
  },
  {
   "cell_type": "code",
   "execution_count": 5,
   "id": "601dc815-cbda-4c04-91a7-8a30d9f29680",
   "metadata": {
    "tags": []
   },
   "outputs": [
    {
     "name": "stdout",
     "output_type": "stream",
     "text": [
      "Collecting seaborn\n",
      "  Downloading seaborn-0.13.2-py3-none-any.whl.metadata (5.4 kB)\n",
      "Requirement already satisfied: numpy!=1.24.0,>=1.20 in c:\\users\\bhimc\\anaconda3\\envs\\venv_alice\\lib\\site-packages (from seaborn) (1.26.4)\n",
      "Requirement already satisfied: pandas>=1.2 in c:\\users\\bhimc\\anaconda3\\envs\\venv_alice\\lib\\site-packages (from seaborn) (2.2.2)\n",
      "Requirement already satisfied: matplotlib!=3.6.1,>=3.4 in c:\\users\\bhimc\\anaconda3\\envs\\venv_alice\\lib\\site-packages (from seaborn) (3.9.0)\n",
      "Requirement already satisfied: contourpy>=1.0.1 in c:\\users\\bhimc\\anaconda3\\envs\\venv_alice\\lib\\site-packages (from matplotlib!=3.6.1,>=3.4->seaborn) (1.2.1)\n",
      "Requirement already satisfied: cycler>=0.10 in c:\\users\\bhimc\\anaconda3\\envs\\venv_alice\\lib\\site-packages (from matplotlib!=3.6.1,>=3.4->seaborn) (0.12.1)\n",
      "Requirement already satisfied: fonttools>=4.22.0 in c:\\users\\bhimc\\anaconda3\\envs\\venv_alice\\lib\\site-packages (from matplotlib!=3.6.1,>=3.4->seaborn) (4.52.4)\n",
      "Requirement already satisfied: kiwisolver>=1.3.1 in c:\\users\\bhimc\\anaconda3\\envs\\venv_alice\\lib\\site-packages (from matplotlib!=3.6.1,>=3.4->seaborn) (1.4.5)\n",
      "Requirement already satisfied: packaging>=20.0 in c:\\users\\bhimc\\anaconda3\\envs\\venv_alice\\lib\\site-packages (from matplotlib!=3.6.1,>=3.4->seaborn) (23.2)\n",
      "Requirement already satisfied: pillow>=8 in c:\\users\\bhimc\\anaconda3\\envs\\venv_alice\\lib\\site-packages (from matplotlib!=3.6.1,>=3.4->seaborn) (10.3.0)\n",
      "Requirement already satisfied: pyparsing>=2.3.1 in c:\\users\\bhimc\\anaconda3\\envs\\venv_alice\\lib\\site-packages (from matplotlib!=3.6.1,>=3.4->seaborn) (3.1.2)\n",
      "Requirement already satisfied: python-dateutil>=2.7 in c:\\users\\bhimc\\anaconda3\\envs\\venv_alice\\lib\\site-packages (from matplotlib!=3.6.1,>=3.4->seaborn) (2.8.2)\n",
      "Requirement already satisfied: pytz>=2020.1 in c:\\users\\bhimc\\anaconda3\\envs\\venv_alice\\lib\\site-packages (from pandas>=1.2->seaborn) (2024.1)\n",
      "Requirement already satisfied: tzdata>=2022.7 in c:\\users\\bhimc\\anaconda3\\envs\\venv_alice\\lib\\site-packages (from pandas>=1.2->seaborn) (2024.1)\n",
      "Requirement already satisfied: six>=1.5 in c:\\users\\bhimc\\anaconda3\\envs\\venv_alice\\lib\\site-packages (from python-dateutil>=2.7->matplotlib!=3.6.1,>=3.4->seaborn) (1.16.0)\n",
      "Downloading seaborn-0.13.2-py3-none-any.whl (294 kB)\n",
      "   ---------------------------------------- 0.0/294.9 kB ? eta -:--:--\n",
      "   ---------------------------------------- 0.0/294.9 kB ? eta -:--:--\n",
      "   ---------------------------------------- 0.0/294.9 kB ? eta -:--:--\n",
      "   - -------------------------------------- 10.2/294.9 kB ? eta -:--:--\n",
      "   - -------------------------------------- 10.2/294.9 kB ? eta -:--:--\n",
      "   ---- ---------------------------------- 30.7/294.9 kB 262.6 kB/s eta 0:00:02\n",
      "   ----- --------------------------------- 41.0/294.9 kB 217.9 kB/s eta 0:00:02\n",
      "   -------- ------------------------------ 61.4/294.9 kB 297.7 kB/s eta 0:00:01\n",
      "   --------------- ---------------------- 122.9/294.9 kB 514.3 kB/s eta 0:00:01\n",
      "   ------------------------------- ------ 245.8/294.9 kB 838.1 kB/s eta 0:00:01\n",
      "   -------------------------------------- 294.9/294.9 kB 867.9 kB/s eta 0:00:00\n",
      "Installing collected packages: seaborn\n",
      "Successfully installed seaborn-0.13.2\n",
      "Note: you may need to restart the kernel to use updated packages.\n"
     ]
    }
   ],
   "source": [
    "%pip install seaborn"
   ]
  },
  {
   "cell_type": "code",
   "execution_count": 6,
   "id": "f3f21473-4960-4ca4-b6ae-9d04dc99f889",
   "metadata": {
    "tags": []
   },
   "outputs": [
    {
     "name": "stderr",
     "output_type": "stream",
     "text": [
      "[nltk_data] Downloading package stopwords to\n",
      "[nltk_data]     C:\\Users\\bhimc\\AppData\\Roaming\\nltk_data...\n",
      "[nltk_data]   Unzipping corpora\\stopwords.zip.\n",
      "[nltk_data] Downloading package punkt to\n",
      "[nltk_data]     C:\\Users\\bhimc\\AppData\\Roaming\\nltk_data...\n",
      "[nltk_data]   Unzipping tokenizers\\punkt.zip.\n",
      "[nltk_data] Downloading package averaged_perceptron_tagger to\n",
      "[nltk_data]     C:\\Users\\bhimc\\AppData\\Roaming\\nltk_data...\n",
      "[nltk_data]   Unzipping taggers\\averaged_perceptron_tagger.zip.\n"
     ]
    }
   ],
   "source": [
    "from textblob import TextBlob \n",
    "import pandas as pd\n",
    "import seaborn as sns\n",
    "import matplotlib.pyplot as plt\n",
    "import matplotlib\n",
    "import nltk\n",
    "import re\n",
    "nltk.download('stopwords')\n",
    "nltk.download('punkt')\n",
    "nltk.download('averaged_perceptron_tagger')\n",
    "from collections import Counter\n",
    "sns.set()"
   ]
  },
  {
   "cell_type": "code",
   "execution_count": 8,
   "id": "e3f6a15f-7202-45e3-aaf7-2915cc6a2cb0",
   "metadata": {
    "tags": []
   },
   "outputs": [],
   "source": [
    "# Import txt file\n",
    "\n",
    "with open('Alice_article_Wiki.txt', 'r', errors='ignore') as file: \n",
    "   data = file.read().replace( '\\n', ' ')"
   ]
  },
  {
   "cell_type": "code",
   "execution_count": 9,
   "id": "620d6b4f-c0e9-4d87-a4a4-5dfa20f44fe6",
   "metadata": {
    "tags": []
   },
   "outputs": [
    {
     "name": "stdout",
     "output_type": "stream",
     "text": [
      "[\"    Alice in Wonderland (franchise) - Wikipedia                                     Jump to content        Main menu      Main menu move to sidebar hide    \\t\\tNavigation \\t   Main pageContentsCurrent eventsRandom articleAbout WikipediaContact usDonate      \\t\\tContribute \\t   HelpLearn to editCommunity portalRecent changesUpload file                    Search            Search                              Create account  Log in         Personal tools       Create account Log in      \\t\\tPages for logged out editors learn more    ContributionsTalk                             Contents move to sidebar hide     (Top)      1Films    Toggle Films subsection      1.1Animated films      1.1.1Alice in Wonderland          1.2Live-action films      1.2.1Alice in Wonderland        1.2.2Alice Through the Looking Glass            2TV series    Toggle TV series subsection      2.1Adventures in Wonderland        2.2Once Upon a Time in Wonderland        2.3Alice's Wonderland Bakery          3Video games    Toggle Video games subsection      3.1Alice in Wonderland (2000)        3.2Kingdom Hearts series        3.3Alice in Wonderland (2010)        3.4Disney Infinity series        3.5Disney Magic Kingdoms          4Theme park attractions and rides    Toggle Theme park attractions and rides subsection      4.1Alice in Wonderland Maze        4.2Alice's Curious Labyrinth        4.3Mad Tea Party        4.4Alice in Wonderland (ride)        4.5Mad T Party          5Stage version    Toggle Stage version subsection      5.1Alice in Wonderland Jr.          6Music    Toggle Music subsection      6.1Alice in Wonderland soundtrack        6.2Almost Alice          7References                  Toggle the table of contents        Alice in Wonderland (franchise)    1 language     EspaÃ±ol  Edit links            ArticleTalk      English                  ReadEditView history        Tools      Tools move to sidebar hide    \\t\\tActions \\t   ReadEditView history      \\t\\tGeneral \\t   What links hereRelated changesUpload fileSpecial pagesPermanent linkPage informationCite this pageGet shortened URLDownload QR codeWikidata item      \\t\\tPrint/export \\t   Download as PDFPrintable version                          From Wikipedia, the free encyclopedia   Disney media franchise based on the Alice books by Lewis Carroll See also: Portrayals of Alice in Wonderland Â§Â\\xa0Disney Alice in WonderlandAbove: A logo used to represent the 1951 animated filmBelow: Logo used for the 2010 live-action filmCreated byWalt DisneyOriginal workAlice in Wonderland (1951)OwnerThe Walt Disney CompanyBased onAlice's Adventures in Wonderland and Through the Looking-Glassby Lewis CarrollFilms and televisionFilm(s) Alice in Wonderland (1951; animated) Alice in Wonderland (2010; live-action) Alice Through the Looking Glass (2016) Television series Adventures in Wonderland (1992â€“1995) Once Upon a Time in Wonderland (2013â€“2014)** Alice's Wonderland Bakery (2022â€“2024) Theatrical presentationsPlay(s)Alice in Wonderland Jr.GamesVideo game(s) Alice in Wonderland (2000) Alice in Wonderland (2010) Disney Infinity 3.0 (2015)* AudioSoundtrack(s) Alice in Wonderland (1951) Alice in Wonderland: An Original Walt Disney Records Soundtrack (2010) Alice Through the Looking Glass: Original Motion Picture Soundtrack (2016) Original musicAlmost Alice (2010)MiscellaneousTheme park attraction(s) Mad Tea Party (1955â€“present) Alice in Wonderland (1958â€“present) Alice's Curious Labyrinth (1992â€“present) Mad T Party (2012â€“2016)  * Work where this franchise's characters or settings appeared as part of a crossover.\", '** Spin-off of TV series Once Upon a Time (2011â€“2018)  Alice in Wonderland, or simply Alice, is a Disney media franchise, commencing in 1951 with the theatrical release of the animated film Alice in Wonderland.', \"The film is an adaptation of the books by Lewis Carroll, the 1865 novel Alice's Adventures in Wonderland and its 1871 sequel Through the Looking-Glass, which featured his character Alice.\", 'A live-action film directed by Tim Burton was released in 2010.', \"Films[edit]   Film  U.S. release date  Director(s)  Screenwriter(s)  Story by  Producer(s)   Animated films   Alice in Wonderland  September 14, 1951  Clyde Geronimi, Wilfred Jackson & Hamilton Luske  Winston Hibler, Ted Sears, Bill Peet, Erdman Penner, Joe Rinaldi, Milt Banta, Bill Cottrell, Dick Kelsey, Joe Grant, Dick Huemer, Del Connell, Tom Oreb & John Walbridge  Walt Disney & Ben Sharpsteen   Live-action films   Alice in Wonderland  March 5, 2010  Tim Burton  Linda Woolverton  Richard D. Zanuck, Joe Roth, Suzanne Todd & Jennifer Todd   Alice Through the Looking Glass  May 27, 2016  James Bobin  Joe Roth, Suzanne Todd, Jennifer Todd & Tim Burton  Animated films[edit] Alice in Wonderland[edit] Main article: Alice in Wonderland (1951 film) Alice in Wonderland is a 1951 American animated fantasy comedy-adventure film produced by Walt Disney Productions and based primarily on Lewis Carroll's Alice's Adventures in Wonderland with several additional elements from his sequel, Through the Looking-Glass.\", 'The film was released in New York City and London on July 26, 1951, and features the voices of Kathryn Beaumont (who later voiced Wendy Darling in the 1953 film Peter Pan) as Alice, and Ed Wynn as the Mad Hatter.', 'The theme song, \"Alice in Wonderland\", has since become a jazz standard.', 'Live-action films[edit] Alice in Wonderland[edit] Main article: Alice in Wonderland (2010 film) Alice in Wonderland is a 2010 American fantasy film directed by Tim Burton and written by Linda Woolverton.', 'Released by Walt Disney Pictures, the film stars Mia Wasikowska as Alice Kingsleigh, Johnny Depp, Anne Hathaway and Helena Bonham Carter.', 'The film was shot in the United Kingdom and the United States.', 'Alice Through the Looking Glass[edit] Main article: Alice Through the Looking Glass (2016 film) Alice Through the Looking Glass is a 2016 American fantasy film directed by James Bobin and written by Linda Woolverton.', 'It is a sequel to the 2010 film Alice in Wonderland.', 'The film stars Mia Wasikowska, Johnny Depp, Helena Bonham Carter, Anne Hathaway, Sacha Baron Cohen and Rhys Ifans, and was released on May 27, 2016.', \"TV series[edit] Adventures in Wonderland[edit] Main article: Adventures in Wonderland (1992 TV series) Adventures in Wonderland is a live-action musical television series based on Walt Disney's animated film Alice in Wonderland that aired on The Disney Channel from 1992 to 1995.\", \"In the series, Alice (Elisabeth Harnois), was portrayed as a girl who can come and go from Wonderland simply by walking through her mirror (a reference to Wonderland's source material, Lewis Carroll's Through the Looking-Glass).\", 'Once Upon a Time in Wonderland[edit] Main article: Once Upon a Time in Wonderland Once Upon a Time in Wonderland is an American fantasy-drama series that aired on ABC from October 10, 2013, to April 3, 2014.', 'It was created by Edward Kitsis, Adam Horowitz, Zack Estrin, and Jane Espenson for ABC Studios.', 'Although not directly based on the Disney film, but primarily on the Lewis Carroll novels, it does include some elements inspired by the Disney version.', 'The series is a spin-off of Once Upon a Time.', \"Alice's Wonderland Bakery[edit] Main article: Alice's Wonderland Bakery Alice's Wonderland Bakery is an American animated television series which is produced by Disney Television Animation that aired on Disney Junior from February 9, 2022, to April 15, 2024.\", 'Video games[edit] Alice in Wonderland (2000)[edit] Main article: Alice in Wonderland (2000 video game) Alice in Wonderland is a platform video game developed by Digital Eclipse Software and published by Nintendo for the Game Boy Color.', 'It was released in North America on October 4, 2000.', 'The game follows the plot of the 1951 animated film of the same name.', \"Kingdom Hearts series[edit] Wonderland is a playable world in the Kingdom Hearts video game series, appearing for first time in the first Kingdom Hearts, and returns in Kingdom Hearts: Chain of Memories, Kingdom Hearts 358/2 Days, Kingdom Hearts coded as a digitized version of the world originating from data in Jiminy Cricket's royal journal, and Kingdom Hearts Ï‡.\", 'Alice is also a major character in the overall plot of the first game due to her role as one of seven \"Princesses of Heart\".', 'Other characters from the movie that appear include the Queen of Hearts, the Cheshire Cat, the White Rabbit, the Doorknob, and the Card Soldiers.', \"All except the Doorknob also appear in and Chain of Memories, albeit in the form of illusions made from the main character's memory.\", 'The Mad Hatter and the March Hare appear in portrait form as well, appearing in corporeal form in Kingdom Hearts Ï‡, in addition to Tweedle Dee and Tweedle Dum.', 'Caterpillar appears in the non-official game Kingdom Hearts V Cast, and also in the manga adpatation of Kingdom Hearts.', '[1]  Alice in Wonderland (2010)[edit] Main article: Alice in Wonderland (2010 video game) Alice in Wonderland is an action adventure video game published in 2010 by Disney Interactive Studios.', 'The game can be used on Wii, Nintendo DS, Windows PC and Zeebo, with the soundtrack being composed by video game music composer Richard Jacques.', 'Disney Infinity series[edit] The 1951 film was referenced throughout the Disney Infinity series with power discs and in-game toys released for the game.', 'In May 2016, Alice, the Mad Hatter, and Time from Alice Through the Looking Glass were added to Disney Infinity 3.0.', 'The three Alice characters were the penultimate additions to the series as Disney cancelled the Disney Infinity franchise earlier that month, with the Finding Dory playset and Dory and Nemo figures that were released the following month of June being the final releases.', 'Disney Magic Kingdoms[edit] The world builder game Disney Magic Kingdoms includes the attraction Mad Tea Party since its launch on 17 March 2016.', \"[2] Alice's Curious Labyrinth also appears as part of the environment next to the Fantasyland area.\", \"During a limited time 2017 Event focused on Alice in Wonderland, were included Alice, White Rabbit, Mad Hatter, March Hare, Cheshire Cat, Queen of Hearts and Caterpillar as playable characters, along with the attractions Alice in Wonderland, The Golden Afternoon, The Tweedle's Wacky Fairway, and White Rabbit's House, with the characters involved in new storylines.\", '[3]  Theme park attractions and rides[edit] Alice in Wonderland Maze[edit] A labyrinth opened on ShanghaÃ® Disneyland on June 16, 2016, with the Park.', \"It is based on Tim Burton's 2010 film.\", \"Alice's Curious Labyrinth[edit] Main article: Alice's Curious Labyrinth Alice's Curious Labyrinth is a hedge maze attraction at the Disneyland Park within Disneyland Paris.\", 'It opened in 1992 with the Park, and belongs to the British part of Fantasyland.', 'Mad Tea Party[edit] Main article: Mad Tea Party Mad Tea Party is a spinning tea cup ride at all five Disneyland-style theme parks.', 'The ride theme is inspired by the Unbirthday Party scene in Alice In Wonderland.', 'The ride has gained attention over the years for the number of people who get motion sickness as a result of the spinning component of the ride.', 'Alice in Wonderland (ride)[edit] Main article: Alice in Wonderland (Disneyland attraction) Alice in Wonderland is a dark ride in Fantasyland at Disneyland in Anaheim, California.', 'Based on the animated adaptation of the same name, the attraction resides next to a second ride, the Mad Tea Party, based on a scene in that same adaptation.', \"The presence of two rides based on the film is unusual in that Walt Disney said he regretted making it because it lacked a connection to the audience's hearts.\", 'Mad T Party[edit] Main article: Mad T Party Mad T Party is a show at Disney California Adventure which occurs in the Hollywood Studios subsection of the Hollywood Land section of the park.', 'Mad T Party premiered on June 15, 2012, the same day the park was re-dedicated.', \"The show is inspired by Tim Burton's Alice in Wonderland.\", 'Stage version[edit] Alice in Wonderland Jr.[edit] Alice in Wonderland Jr. is a one-act stage version intended for middle and high school productions.', 'It includes the majority of the film\\'s songs and others including Song of the South\\'s \"Zip-a-Dee-Doo-Dah\", two new reprises of \"I\\'m Late!', '\", and three new numbers entitled \"Ocean of Tears\", \"Simon Says\" and \"Who Are You?\"', 'respectively.', 'This 60-/80-minute version is owned by Music Theatre International in the Broadway, Jr. Collection.', 'Music[edit] Alice in Wonderland soundtrack[edit] Alice in Wonderland was first released on LP record on July 28, 1951, and re-released on Audio CD in 1998.', \"Almost Alice[edit] Main article: Almost Alice Almost Alice is a concept album of various artists' music inspired by Burton's Alice in Wonderland.\", \"The album is also notable for featuring songs that were inspired from quotes directly from Lewis Carroll's original novel.\", 'The album was released by Buena Vista Records on March 2, 2010.', 'It debuted at number five on the Billboard 200.', 'References[edit]   ^ \"Kingdom Hearts Official Page\".', 'Retrieved July 13, 2010.', '^ \"Disney Magic Kingdoms - Official Launch Trailer\".', 'YouTube.', 'March 17, 2016.', '^ \"Update 15: Alice in Wonderland | Livestream\".', 'YouTube.', 'October 20, 2017.   vteDisney\\'s Alice in Wonderland Works based on Alice in Wonderland Films Alice in Wonderland (1951) Alice in Wonderland (2010) accolades Alice Through the Looking Glass Television Adventures in Wonderland Once Upon a Time in Wonderland Alice\\'s Wonderland Bakery Amusement parks Mad Tea Party Alice in Wonderland Alice\\'s Curious Labyrinth Mad T Party Music \"Alice in Wonderland\" Alice in Wonderland\\'s (2010) score Almost Alice \"Alice\" \"Follow Me Down\" \"Tea Party\" \"Just Like Fire\" Video games Alice no Paint Adventure Alice in Wonderland (2000) Alice in Wonderland (2010) Related Mickey Mousecapade Disney\\'s Villains\\' Revenge Kingdom Hearts Kingdom Hearts Chain of Memories Coded 358/2 Days Ï‡ Disney Universe Kinect: Disneyland Adventures Disney Infinity 3.0 Disney Magic Kingdoms Disney Mirrorverse  Related Tarrant Hightopp Unbirthday: A Twisted Tale One Hour in Wonderland \"Disney\\'s Greatest Villains\" Descendants: The Rise of Red Alice Comedies Thru the Mirror  vteLewis Carroll\\'s Alice Alice\\'s Adventures in Wonderland Through the Looking-Glass UniverseCharactersAlice\\'s Adventuresin Wonderland Alice portrayals Bill the Lizard Caterpillar Cheshire Cat Dodo Dormouse Duchess Gryphon Hatter Tarrant Hightopp King of Hearts Knave of Hearts March Hare Mock Turtle Mouse Pat Puppy Queen of Hearts White Rabbit Minor characters Through theLooking-Glass Bandersnatch Humpty Dumpty Jubjub bird Red King Red Queen The Sheep The Lion and the Unicorn Tweedledum and Tweedledee White King White Knight White Queen Minor characters Locationsand events Wonderland Looking-Glass world Unbirthday Poems \"All in the golden afternoon...\" \"How Doth the Little Crocodile\" \"The Mouse\\'s Tale\" \"Twinkle, Twinkle, Little Bat\" \"You Are Old, Father William\" \"\\'Tis the Voice of the Lobster\" \"Jabberwocky\" Vorpal sword \"The Walrus and the Carpenter\" \"Haddocks\\' Eyes\" \"The Mock Turtle\\'s Song\" The Hunting of the Snark Related Alice Liddell Alice syndrome Alice\\'s Shop Illustrators John Tenniel Theophilus Carter The Annotated Alice Mischmasch Translations Alice\\'s Adventures in Wonderland Through the Looking-Glass AdaptationsStage Alice in Wonderland (1886 musical) Alice in Wonderland (1979 opera) But Never Jam Today (1979 musical) Through the Looking Glass (2008 opera) Alice\\'s Adventures in Wonderland (2011 ballet) Wonderland (2011 musical) Peter and Alice (2013 play) Wonder.land (2015 musical) Alice\\'s Adventures Under Ground (2016 opera) Alice by Heart (2019 musical) Film 1903 1910 1915 Alice Comedies (1923â€“1927) 1931 1933 1949 1951 Alice of Wonderland in Paris (1966) 1972 1976 1976 (Spanish) Alice or the Last Escapade (1977) 1981 1982 The Care Bears Adventure in Wonderland (1987) 1988 (Czechoslovak) 1988 (Australian) Malice in Wonderland (2009) 2010 Alice in Murderland (2010) Alice Through the Looking Glass (2016) Come Away (2020) Alice and the Land that Wonders (2020) Alice, Through the Looking (2021) Television Alice in Wonderland (1962) Alice in Wonderland or What\\'s a Nice Kid like You Doing in a Place like This?', '(1966) Alice in Wonderland (1966) Alice Through the Looking Glass (1966) 1983 (TV film) Fushigi no Kuni no Alice (1983) 1985 (TV film) Adventures in Wonderland (1992) Alice through the Looking Glass (1998) Alice in Wonderland (1999) Alice (2009) Once Upon a Time in Wonderland (2013) Alice\\'s Wonderland Bakery (2022) Music \"White Rabbit\" (1967 song) \"Don\\'t Come Around Here No More\" (1985 music video) Alice in Wonderland (2010) Almost Alice (2010) \"Alice\" \"Follow Me Down\" \"Tea Party\" Alice Through the Looking Glass (2016) \"Just Like Fire\" \"Alice\" (2020 song) Video games Through the Looking Glass (1984) Alice in Wonderland (1985) MÃ¤rchen Maze (1988) Wonderland (1990) Alice: An Interactive Museum (1991) Alice no Paint Adventure (1995) Alice in Wonderland (2000) American McGee\\'s Alice (2000) Kingdom Hearts (2002) Alice in the Country of Hearts (2007) Alice in Wonderland (2010) Alice: Madness Returns (2011) Kingdom Hearts Ï‡ (2013) Sequels A New Alice in the Old Wonderland (1895) New Adventures of Alice (1917) Alice Through the Needle\\'s Eye (1984) Automated Alice (1996) Retellings The Nursery \"Alice\" (1890) Alice\\'s Adventures in Wonderland Retold in Words of One Syllable (1905) American McGee\\'s Alice (2000) Alice in Verse: The Lost Rhymes of Wonderland (2010) Alice: Madness Returns (2011) Parodies The Westminster Alice (1902) Clara in Blunderland (1902) Lost in Blunderland (1903) John Bull\\'s Adventures in the Fiscal Wonderland (1904) Alice in Blunderland: An Iridescent Dream (1904) The Looking Glass Wars 2004 2007 2009 Imitations Mopsa the Fairy (1869) Davy and the Goblin (1884) The Admiral\\'s Caravan (1891) Gladys in Grammarland (1896) Rollo in Emblemland (1902) Alice in Orchestralia (1925) Literary Alice in Borderland Alice in the Country of Hearts Alice in Murderland Alice in Sunderland Lost Girls Miyuki-chan in Wonderland Pandora Hearts Tweedledum and Tweedledee Unbirthday: A Twisted Tale Related Betty in Blunderland (1934 animated short) Thru the Mirror (1936 animated short) Jabberwocky (1971 film) Jabberwocky (1977 film) Donald in Mathmagic Land (1959 film) Malice in Wonderland (1982 animated short) Dungeonland (1983 module) The Land Beyond the Magic Mirror (1983 module) Dreamchild (1985 film) The Hunting of the Snark (1991 musical) How Doth the Little Crocodile (1998 artworks) Abby in Wonderland (2008 film) Disney franchise   Category  vteDisney franchises and seriesWalt DisneyStudiosWalt DisneyAnimation Studios 101 Dalmatians Aladdin Alice in Wonderland Atlantis Beauty and the Beast Cinderella Donald Duck The Emperor\\'s New Groove Fantasia Frozen Goofy Hercules The Hunchback of Notre Dame The Jungle Book Lilo & Stitch The Lion King The Little Mermaid Mickey Mouse Oswald the Lucky Rabbitâ¸¿ Mulan Peter Pan Pocahontas Prep & Landing Sleeping Beauty Silly Symphonies Snow White Tangled Tarzan Winnie the Pooh Wreck-It Ralph Zootopia Walt DisneyPicturesâ€\\xa0 Air Bud Beverly Hills Chihuahua The Chronicles of NarniaÂ¶ Dexter Riley Father of the Bride Flubber Freaky Friday Fright NightÂ¶ Herbie Hocus Pocus Honey, I Shrunk the Kids Maleficent The Mighty Ducks The Muppets National Treasure The Parent Trap Pirates of the Caribbean The Santa Clause The Shaggy Dog Sister Act Step Upâ‹ Tron Turner & Hooch Unbreakableâ¸¿ Who Framed Roger Rabbit Witch Mountain Pixar Cars Finding Nemo The Incredibles Inside Out Monsters, Inc. Toy Story Disneytoon Studios Tinker Bell Marvel Studios Marvel Cinematic Universe Captain America Spider-Man # Lucasfilm Indiana JonesÂ§ Star Wars 20th CenturyStudiosâ€¡ Alien Nation Alien Alien vs.', 'Predator Alvin and the Chipmunks Avatar Behind Enemy Lines Cheaper by the DozenÂ§ Diary of a Wimpy KidÂ§ Die Hard Dr. Dolittle Fantastic Four * The Fly The Hills Have Eyes Home Alone Ice AgeÂ§ Independence Day Kingsman Maze Runner Night at the MuseumÂ§ The Omen Percy Jackson Planet of the Apes Predator Revenge of the Nerds Rio The Rocky Horror Show Taken World of Watches X-Men * Disney GeneralEntertainment ContentDisney Channel The Cheetah Girls Descendants Halloweentown High School Musical  Zombies FX Networks American Story 20th Television Buffyverse Firefly M*A*S*H The Walking Dead (international only) The X-Files 20th TVA Family Guy The Simpsons Disney Experiences Pirates of the Caribbean Disney ConsumerProducts Disney Fairies Disney Princess Disney Tsum Tsum Disney Villains Marvel Universe Mickey Mouse & Friends Donald Duck The Muppets Disney PublishingWorldwide A Twisted Tale Kingdom Keepers W.I.T.C.H.', \"Disney Games Marvel Games Hulk Marvel vs. Capcom Marvel's Spider-Man Punisher Spider-Man X-Men Pirates of the Caribbean video games The Simpsons video games Star Wars video games Battlefront Knights of the Old Republic Lego Rogue Squadron Club Penguin Disney Infinity Disney's Activity Center Disney's Animated Storybook Disney's Magical Quest Disney's Print Studio Illusion The Incredible Machine Kim Possible Kingdom Heartsâ—ˆ Monkey Island Spectrobes Tap Tap   â€\\xa0 Includes Touchstone Pictures and Hollywood Pictures â€¡ Includes Searchlight Pictures, 20th Century Animation, and related assets Â§ Shared with Walt Disney Pictures Â¶ Shared with 20th Century Studios * Shared with Marvel Studios â¸¿ Shared with Universal Pictures # Shared with Sony Pictures â‹ Shared with Lionsgate â—ˆ Shared with Square Enix  Category   vteWalt Disney Animation StudiosFeature filmsReleased Snow White and the Seven Dwarfs (1937) Pinocchio (1940) Fantasia (1940) Dumbo (1941) Bambi (1942) Saludos Amigos (1942) The Three Caballeros (1944) Make Mine Music (1946) Fun and Fancy Free (1947) Melody Time (1948) The Adventures of Ichabod and Mr. Toad (1949) Cinderella (1950) Alice in Wonderland (1951) Peter Pan (1953) Lady and the Tramp (1955) Sleeping Beauty (1959) One Hundred and One Dalmatians (1961) The Sword in the Stone (1963) The Jungle Book (1967) The Aristocats (1970) Robin Hood (1973) The Many Adventures of Winnie the Pooh (1977) The Rescuers (1977) The Fox and the Hound (1981) The Black Cauldron (1985) The Great Mouse Detective (1986) Oliver & Company (1988) The Little Mermaid (1989) The Rescuers Down Under (1990) Beauty and the Beast (1991) Aladdin (1992) The Lion King (1994) Pocahontas (1995) The Hunchback of Notre Dame (1996) Hercules (1997) Mulan (1998) Tarzan (1999) Fantasia 2000 (1999) Dinosaur (2000) The Emperor's New Groove (2000) Atlantis: The Lost Empire (2001) Lilo & Stitch (2002) Treasure Planet (2002) Brother Bear (2003) Home on the Range (2004) Chicken Little (2005) Meet the Robinsons (2007) Bolt (2008) The Princess and the Frog (2009) Tangled (2010) Winnie the Pooh (2011) Wreck-It Ralph (2012) Frozen (2013) Big Hero 6 (2014) Zootopia (2016) Moana (2016) Ralph Breaks the Internet (2018) Frozen II (2019) Raya and the Last Dragon (2021) Encanto (2021) Strange World (2022) Wish (2023) Upcoming Moana 2 (2024) Cancelled My Peoples Associatedproductions The Reluctant Dragon (1941) Victory Through Air Power (1943) Song of the South (1946) So Dear to My Heart (1948) Mary Poppins (1964) Bedknobs and Broomsticks (1971) Pete's Dragon (1977) Who Framed Roger Rabbit (1988) Television productionsTV specials Prep & Landing (2009) Prep & Landing: Naughty vs. Nice (2011) TV series Baymax!\", '(2022) Zootopia+ (2022) IwÃ¡jÃº (2024) PeopleExecutives Edwin Catmull Roy Conli Roy E. Disney Walt Disney Don Hahn Jeffrey Katzenberg John Lasseter Jennifer Lee Peter Schneider Thomas Schumacher David Stainton Clark Spencer Disney LegendsanimatorsDisney\\'s Nine Old Men Les Clark Marc Davis Ollie Johnston Milt Kahl Ward Kimball Eric Larson John Lounsbery Wolfgang Reitherman Frank Thomas  James Algar Ken Anderson Xavier Atencio Art Babbitt Grace Bailey Carl Barks Mary Blair Joyce Carlson Marge Champion Claude Coats Don DaGradi Virginia Davis Andreas Deja Norm Ferguson Eyvind Earle Clyde Geronimi Manuel Gonzales Floyd Gottfredson Yale Gracey Joe Grant David Hand Jack Hannah John Hench Dick Huemer Ub Iwerks Wilfred Jackson Steve Jobs Bill Justice Glen Keane Hamilton Luske Burny Mattinson Fred Moore Floyd Norman Bill Peet Walter Peregoy Joe Ranft Retta Scott Ben Sharpsteen Mel Shaw Ruthie Tompson Roy Williams Tyrus WongRelated topicsHistory Disney animators\\' strike 1982 animators\\' strike Disney Renaissance Methods andtechnologies Disney Animation: The Illusion of Life Twelve basic principles of animation Computer Animation Production System Documentaries Frank and Ollie (1995) The Sweatbox (2002) Dream On Silly Dreamer (2005) Waking Sleeping Beauty (2009) Walt & El Grupo (2009) Miscellaneous Alice Comedies Laugh-O-Gram Studio List of Walt Disney Animation Studios short films Oswald the Lucky Rabbit Mickey Mouse Silly Symphonies Donald Duck Pluto Goofy Academy Award Review Disneytoon Studios List of Disney theatrical animated features unproduced live-action adaptations List of Disney animated films based on fairy tales      Retrieved from \"https://en.wikipedia.org/w/index.php?title=Alice_in_Wonderland_(franchise)&oldid=1222795672\" Categories: Alice in Wonderland (franchise)Walt Disney Studios (division) franchisesWorks based on Alice in WonderlandHidden categories: Articles with short descriptionShort description matches Wikidata        This page was last edited on 7 May 2024, at 23:33Â\\xa0(UTC).', 'Text is available under the Creative Commons Attribution-ShareAlike License 4.0; additional terms may apply.', 'By using this site, you agree to the Terms of Use and Privacy Policy.', 'WikipediaÂ® is a registered trademark of the Wikimedia Foundation, Inc., a non-profit organization.', 'Privacy policy About Wikipedia Disclaimers Contact Wikipedia Code of Conduct Developers Statistics Cookie statement Mobile view              Toggle limited content width']\n"
     ]
    }
   ],
   "source": [
    "# Sentence tokenization\n",
    "\n",
    "from nltk.tokenize import sent_tokenize\n",
    "tokenized_sent = sent_tokenize(data)\n",
    "print(tokenized_sent) "
   ]
  },
  {
   "cell_type": "code",
   "execution_count": 10,
   "id": "a796d0cc-5aea-424d-931d-6045e88c738a",
   "metadata": {
    "tags": []
   },
   "outputs": [
    {
     "name": "stdout",
     "output_type": "stream",
     "text": [
      "['Alice', 'in', 'Wonderland', '(', 'franchise', ')', '-', 'Wikipedia', 'Jump', 'to', 'content', 'Main', 'menu', 'Main', 'menu', 'move', 'to', 'sidebar', 'hide', 'Navigation', 'Main', 'pageContentsCurrent', 'eventsRandom', 'articleAbout', 'WikipediaContact', 'usDonate', 'Contribute', 'HelpLearn', 'to', 'editCommunity', 'portalRecent', 'changesUpload', 'file', 'Search', 'Search', 'Create', 'account', 'Log', 'in', 'Personal', 'tools', 'Create', 'account', 'Log', 'in', 'Pages', 'for', 'logged', 'out', 'editors', 'learn', 'more', 'ContributionsTalk', 'Contents', 'move', 'to', 'sidebar', 'hide', '(', 'Top', ')', '1Films', 'Toggle', 'Films', 'subsection', '1.1Animated', 'films', '1.1.1Alice', 'in', 'Wonderland', '1.2Live-action', 'films', '1.2.1Alice', 'in', 'Wonderland', '1.2.2Alice', 'Through', 'the', 'Looking', 'Glass', '2TV', 'series', 'Toggle', 'TV', 'series', 'subsection', '2.1Adventures', 'in', 'Wonderland', '2.2Once', 'Upon', 'a', 'Time', 'in', 'Wonderland', '2.3Alice', \"'s\", 'Wonderland', 'Bakery', '3Video', 'games', 'Toggle', 'Video', 'games', 'subsection', '3.1Alice', 'in', 'Wonderland', '(', '2000', ')', '3.2Kingdom', 'Hearts', 'series', '3.3Alice', 'in', 'Wonderland', '(', '2010', ')', '3.4Disney', 'Infinity', 'series', '3.5Disney', 'Magic', 'Kingdoms', '4Theme', 'park', 'attractions', 'and', 'rides', 'Toggle', 'Theme', 'park', 'attractions', 'and', 'rides', 'subsection', '4.1Alice', 'in', 'Wonderland', 'Maze', '4.2Alice', \"'s\", 'Curious', 'Labyrinth', '4.3Mad', 'Tea', 'Party', '4.4Alice', 'in', 'Wonderland', '(', 'ride', ')', '4.5Mad', 'T', 'Party', '5Stage', 'version', 'Toggle', 'Stage', 'version', 'subsection', '5.1Alice', 'in', 'Wonderland', 'Jr.', '6Music', 'Toggle', 'Music', 'subsection', '6.1Alice', 'in', 'Wonderland', 'soundtrack', '6.2Almost', 'Alice', '7References', 'Toggle', 'the', 'table', 'of', 'contents', 'Alice', 'in', 'Wonderland', '(', 'franchise', ')', '1', 'language', 'EspaÃ±ol', 'Edit', 'links', 'ArticleTalk', 'English', 'ReadEditView', 'history', 'Tools', 'Tools', 'move', 'to', 'sidebar', 'hide', 'Actions', 'ReadEditView', 'history', 'General', 'What', 'links', 'hereRelated', 'changesUpload', 'fileSpecial', 'pagesPermanent', 'linkPage', 'informationCite', 'this', 'pageGet', 'shortened', 'URLDownload', 'QR', 'codeWikidata', 'item', 'Print/export', 'Download', 'as', 'PDFPrintable', 'version', 'From', 'Wikipedia', ',', 'the', 'free', 'encyclopedia', 'Disney', 'media', 'franchise', 'based', 'on', 'the', 'Alice', 'books', 'by', 'Lewis', 'Carroll', 'See', 'also', ':', 'Portrayals', 'of', 'Alice', 'in', 'Wonderland', 'Â§Â', 'Disney', 'Alice', 'in', 'WonderlandAbove', ':', 'A', 'logo', 'used', 'to', 'represent', 'the', '1951', 'animated', 'filmBelow', ':', 'Logo', 'used', 'for', 'the', '2010', 'live-action', 'filmCreated', 'byWalt', 'DisneyOriginal', 'workAlice', 'in', 'Wonderland', '(', '1951', ')', 'OwnerThe', 'Walt', 'Disney', 'CompanyBased', 'onAlice', \"'s\", 'Adventures', 'in', 'Wonderland', 'and', 'Through', 'the', 'Looking-Glassby', 'Lewis', 'CarrollFilms', 'and', 'televisionFilm', '(', 's', ')', 'Alice', 'in', 'Wonderland', '(', '1951', ';', 'animated', ')', 'Alice', 'in', 'Wonderland', '(', '2010', ';', 'live-action', ')', 'Alice', 'Through', 'the', 'Looking', 'Glass', '(', '2016', ')', 'Television', 'series', 'Adventures', 'in', 'Wonderland', '(', '1992â€', '“', '1995', ')', 'Once', 'Upon', 'a', 'Time', 'in', 'Wonderland', '(', '2013â€', '“', '2014', ')', '*', '*', 'Alice', \"'s\", 'Wonderland', 'Bakery', '(', '2022â€', '“', '2024', ')', 'Theatrical', 'presentationsPlay', '(', 's', ')', 'Alice', 'in', 'Wonderland', 'Jr.GamesVideo', 'game', '(', 's', ')', 'Alice', 'in', 'Wonderland', '(', '2000', ')', 'Alice', 'in', 'Wonderland', '(', '2010', ')', 'Disney', 'Infinity', '3.0', '(', '2015', ')', '*', 'AudioSoundtrack', '(', 's', ')', 'Alice', 'in', 'Wonderland', '(', '1951', ')', 'Alice', 'in', 'Wonderland', ':', 'An', 'Original', 'Walt', 'Disney', 'Records', 'Soundtrack', '(', '2010', ')', 'Alice', 'Through', 'the', 'Looking', 'Glass', ':', 'Original', 'Motion', 'Picture', 'Soundtrack', '(', '2016', ')', 'Original', 'musicAlmost', 'Alice', '(', '2010', ')', 'MiscellaneousTheme', 'park', 'attraction', '(', 's', ')', 'Mad', 'Tea', 'Party', '(', '1955â€', '“', 'present', ')', 'Alice', 'in', 'Wonderland', '(', '1958â€', '“', 'present', ')', 'Alice', \"'s\", 'Curious', 'Labyrinth', '(', '1992â€', '“', 'present', ')', 'Mad', 'T', 'Party', '(', '2012â€', '“', '2016', ')', '*', 'Work', 'where', 'this', 'franchise', \"'s\", 'characters', 'or', 'settings', 'appeared', 'as', 'part', 'of', 'a', 'crossover', '.', '*', '*', 'Spin-off', 'of', 'TV', 'series', 'Once', 'Upon', 'a', 'Time', '(', '2011â€', '“', '2018', ')', 'Alice', 'in', 'Wonderland', ',', 'or', 'simply', 'Alice', ',', 'is', 'a', 'Disney', 'media', 'franchise', ',', 'commencing', 'in', '1951', 'with', 'the', 'theatrical', 'release', 'of', 'the', 'animated', 'film', 'Alice', 'in', 'Wonderland', '.', 'The', 'film', 'is', 'an', 'adaptation', 'of', 'the', 'books', 'by', 'Lewis', 'Carroll', ',', 'the', '1865', 'novel', 'Alice', \"'s\", 'Adventures', 'in', 'Wonderland', 'and', 'its', '1871', 'sequel', 'Through', 'the', 'Looking-Glass', ',', 'which', 'featured', 'his', 'character', 'Alice', '.', 'A', 'live-action', 'film', 'directed', 'by', 'Tim', 'Burton', 'was', 'released', 'in', '2010', '.', 'Films', '[', 'edit', ']', 'Film', 'U.S.', 'release', 'date', 'Director', '(', 's', ')', 'Screenwriter', '(', 's', ')', 'Story', 'by', 'Producer', '(', 's', ')', 'Animated', 'films', 'Alice', 'in', 'Wonderland', 'September', '14', ',', '1951', 'Clyde', 'Geronimi', ',', 'Wilfred', 'Jackson', '&', 'Hamilton', 'Luske', 'Winston', 'Hibler', ',', 'Ted', 'Sears', ',', 'Bill', 'Peet', ',', 'Erdman', 'Penner', ',', 'Joe', 'Rinaldi', ',', 'Milt', 'Banta', ',', 'Bill', 'Cottrell', ',', 'Dick', 'Kelsey', ',', 'Joe', 'Grant', ',', 'Dick', 'Huemer', ',', 'Del', 'Connell', ',', 'Tom', 'Oreb', '&', 'John', 'Walbridge', 'Walt', 'Disney', '&', 'Ben', 'Sharpsteen', 'Live-action', 'films', 'Alice', 'in', 'Wonderland', 'March', '5', ',', '2010', 'Tim', 'Burton', 'Linda', 'Woolverton', 'Richard', 'D.', 'Zanuck', ',', 'Joe', 'Roth', ',', 'Suzanne', 'Todd', '&', 'Jennifer', 'Todd', 'Alice', 'Through', 'the', 'Looking', 'Glass', 'May', '27', ',', '2016', 'James', 'Bobin', 'Joe', 'Roth', ',', 'Suzanne', 'Todd', ',', 'Jennifer', 'Todd', '&', 'Tim', 'Burton', 'Animated', 'films', '[', 'edit', ']', 'Alice', 'in', 'Wonderland', '[', 'edit', ']', 'Main', 'article', ':', 'Alice', 'in', 'Wonderland', '(', '1951', 'film', ')', 'Alice', 'in', 'Wonderland', 'is', 'a', '1951', 'American', 'animated', 'fantasy', 'comedy-adventure', 'film', 'produced', 'by', 'Walt', 'Disney', 'Productions', 'and', 'based', 'primarily', 'on', 'Lewis', 'Carroll', \"'s\", 'Alice', \"'s\", 'Adventures', 'in', 'Wonderland', 'with', 'several', 'additional', 'elements', 'from', 'his', 'sequel', ',', 'Through', 'the', 'Looking-Glass', '.', 'The', 'film', 'was', 'released', 'in', 'New', 'York', 'City', 'and', 'London', 'on', 'July', '26', ',', '1951', ',', 'and', 'features', 'the', 'voices', 'of', 'Kathryn', 'Beaumont', '(', 'who', 'later', 'voiced', 'Wendy', 'Darling', 'in', 'the', '1953', 'film', 'Peter', 'Pan', ')', 'as', 'Alice', ',', 'and', 'Ed', 'Wynn', 'as', 'the', 'Mad', 'Hatter', '.', 'The', 'theme', 'song', ',', '``', 'Alice', 'in', 'Wonderland', \"''\", ',', 'has', 'since', 'become', 'a', 'jazz', 'standard', '.', 'Live-action', 'films', '[', 'edit', ']', 'Alice', 'in', 'Wonderland', '[', 'edit', ']', 'Main', 'article', ':', 'Alice', 'in', 'Wonderland', '(', '2010', 'film', ')', 'Alice', 'in', 'Wonderland', 'is', 'a', '2010', 'American', 'fantasy', 'film', 'directed', 'by', 'Tim', 'Burton', 'and', 'written', 'by', 'Linda', 'Woolverton', '.', 'Released', 'by', 'Walt', 'Disney', 'Pictures', ',', 'the', 'film', 'stars', 'Mia', 'Wasikowska', 'as', 'Alice', 'Kingsleigh', ',', 'Johnny', 'Depp', ',', 'Anne', 'Hathaway', 'and', 'Helena', 'Bonham', 'Carter', '.', 'The', 'film', 'was', 'shot', 'in', 'the', 'United', 'Kingdom', 'and', 'the', 'United', 'States', '.', 'Alice', 'Through', 'the', 'Looking', 'Glass', '[', 'edit', ']', 'Main', 'article', ':', 'Alice', 'Through', 'the', 'Looking', 'Glass', '(', '2016', 'film', ')', 'Alice', 'Through', 'the', 'Looking', 'Glass', 'is', 'a', '2016', 'American', 'fantasy', 'film', 'directed', 'by', 'James', 'Bobin', 'and', 'written', 'by', 'Linda', 'Woolverton', '.', 'It', 'is', 'a', 'sequel', 'to', 'the', '2010', 'film', 'Alice', 'in', 'Wonderland', '.', 'The', 'film', 'stars', 'Mia', 'Wasikowska', ',', 'Johnny', 'Depp', ',', 'Helena', 'Bonham', 'Carter', ',', 'Anne', 'Hathaway', ',', 'Sacha', 'Baron', 'Cohen', 'and', 'Rhys', 'Ifans', ',', 'and', 'was', 'released', 'on', 'May', '27', ',', '2016', '.', 'TV', 'series', '[', 'edit', ']', 'Adventures', 'in', 'Wonderland', '[', 'edit', ']', 'Main', 'article', ':', 'Adventures', 'in', 'Wonderland', '(', '1992', 'TV', 'series', ')', 'Adventures', 'in', 'Wonderland', 'is', 'a', 'live-action', 'musical', 'television', 'series', 'based', 'on', 'Walt', 'Disney', \"'s\", 'animated', 'film', 'Alice', 'in', 'Wonderland', 'that', 'aired', 'on', 'The', 'Disney', 'Channel', 'from', '1992', 'to', '1995', '.', 'In', 'the', 'series', ',', 'Alice', '(', 'Elisabeth', 'Harnois', ')', ',', 'was', 'portrayed', 'as', 'a', 'girl', 'who', 'can', 'come', 'and', 'go', 'from', 'Wonderland', 'simply', 'by', 'walking', 'through', 'her', 'mirror', '(', 'a', 'reference', 'to', 'Wonderland', \"'s\", 'source', 'material', ',', 'Lewis', 'Carroll', \"'s\", 'Through', 'the', 'Looking-Glass', ')', '.', 'Once', 'Upon', 'a', 'Time', 'in', 'Wonderland', '[', 'edit', ']', 'Main', 'article', ':', 'Once', 'Upon', 'a', 'Time', 'in', 'Wonderland', 'Once', 'Upon', 'a', 'Time', 'in', 'Wonderland', 'is', 'an', 'American', 'fantasy-drama', 'series', 'that', 'aired', 'on', 'ABC', 'from', 'October', '10', ',', '2013', ',', 'to', 'April', '3', ',', '2014', '.', 'It', 'was', 'created', 'by', 'Edward', 'Kitsis', ',', 'Adam', 'Horowitz', ',', 'Zack', 'Estrin', ',', 'and', 'Jane', 'Espenson', 'for', 'ABC', 'Studios', '.', 'Although', 'not', 'directly', 'based', 'on', 'the', 'Disney', 'film', ',', 'but', 'primarily', 'on', 'the', 'Lewis', 'Carroll', 'novels', ',', 'it', 'does', 'include', 'some', 'elements', 'inspired', 'by', 'the', 'Disney', 'version', '.', 'The', 'series', 'is', 'a', 'spin-off', 'of', 'Once', 'Upon', 'a', 'Time', '.', 'Alice', \"'s\", 'Wonderland', 'Bakery', '[', 'edit', ']', 'Main', 'article', ':', 'Alice', \"'s\", 'Wonderland', 'Bakery', 'Alice', \"'s\", 'Wonderland', 'Bakery', 'is', 'an', 'American', 'animated', 'television', 'series', 'which', 'is', 'produced', 'by', 'Disney', 'Television', 'Animation', 'that', 'aired', 'on', 'Disney', 'Junior', 'from', 'February', '9', ',', '2022', ',', 'to', 'April', '15', ',', '2024', '.', 'Video', 'games', '[', 'edit', ']', 'Alice', 'in', 'Wonderland', '(', '2000', ')', '[', 'edit', ']', 'Main', 'article', ':', 'Alice', 'in', 'Wonderland', '(', '2000', 'video', 'game', ')', 'Alice', 'in', 'Wonderland', 'is', 'a', 'platform', 'video', 'game', 'developed', 'by', 'Digital', 'Eclipse', 'Software', 'and', 'published', 'by', 'Nintendo', 'for', 'the', 'Game', 'Boy', 'Color', '.', 'It', 'was', 'released', 'in', 'North', 'America', 'on', 'October', '4', ',', '2000', '.', 'The', 'game', 'follows', 'the', 'plot', 'of', 'the', '1951', 'animated', 'film', 'of', 'the', 'same', 'name', '.', 'Kingdom', 'Hearts', 'series', '[', 'edit', ']', 'Wonderland', 'is', 'a', 'playable', 'world', 'in', 'the', 'Kingdom', 'Hearts', 'video', 'game', 'series', ',', 'appearing', 'for', 'first', 'time', 'in', 'the', 'first', 'Kingdom', 'Hearts', ',', 'and', 'returns', 'in', 'Kingdom', 'Hearts', ':', 'Chain', 'of', 'Memories', ',', 'Kingdom', 'Hearts', '358/2', 'Days', ',', 'Kingdom', 'Hearts', 'coded', 'as', 'a', 'digitized', 'version', 'of', 'the', 'world', 'originating', 'from', 'data', 'in', 'Jiminy', 'Cricket', \"'s\", 'royal', 'journal', ',', 'and', 'Kingdom', 'Hearts', 'Ï‡', '.', 'Alice', 'is', 'also', 'a', 'major', 'character', 'in', 'the', 'overall', 'plot', 'of', 'the', 'first', 'game', 'due', 'to', 'her', 'role', 'as', 'one', 'of', 'seven', '``', 'Princesses', 'of', 'Heart', \"''\", '.', 'Other', 'characters', 'from', 'the', 'movie', 'that', 'appear', 'include', 'the', 'Queen', 'of', 'Hearts', ',', 'the', 'Cheshire', 'Cat', ',', 'the', 'White', 'Rabbit', ',', 'the', 'Doorknob', ',', 'and', 'the', 'Card', 'Soldiers', '.', 'All', 'except', 'the', 'Doorknob', 'also', 'appear', 'in', 'and', 'Chain', 'of', 'Memories', ',', 'albeit', 'in', 'the', 'form', 'of', 'illusions', 'made', 'from', 'the', 'main', 'character', \"'s\", 'memory', '.', 'The', 'Mad', 'Hatter', 'and', 'the', 'March', 'Hare', 'appear', 'in', 'portrait', 'form', 'as', 'well', ',', 'appearing', 'in', 'corporeal', 'form', 'in', 'Kingdom', 'Hearts', 'Ï‡', ',', 'in', 'addition', 'to', 'Tweedle', 'Dee', 'and', 'Tweedle', 'Dum', '.', 'Caterpillar', 'appears', 'in', 'the', 'non-official', 'game', 'Kingdom', 'Hearts', 'V', 'Cast', ',', 'and', 'also', 'in', 'the', 'manga', 'adpatation', 'of', 'Kingdom', 'Hearts', '.', '[', '1', ']', 'Alice', 'in', 'Wonderland', '(', '2010', ')', '[', 'edit', ']', 'Main', 'article', ':', 'Alice', 'in', 'Wonderland', '(', '2010', 'video', 'game', ')', 'Alice', 'in', 'Wonderland', 'is', 'an', 'action', 'adventure', 'video', 'game', 'published', 'in', '2010', 'by', 'Disney', 'Interactive', 'Studios', '.', 'The', 'game', 'can', 'be', 'used', 'on', 'Wii', ',', 'Nintendo', 'DS', ',', 'Windows', 'PC', 'and', 'Zeebo', ',', 'with', 'the', 'soundtrack', 'being', 'composed', 'by', 'video', 'game', 'music', 'composer', 'Richard', 'Jacques', '.', 'Disney', 'Infinity', 'series', '[', 'edit', ']', 'The', '1951', 'film', 'was', 'referenced', 'throughout', 'the', 'Disney', 'Infinity', 'series', 'with', 'power', 'discs', 'and', 'in-game', 'toys', 'released', 'for', 'the', 'game', '.', 'In', 'May', '2016', ',', 'Alice', ',', 'the', 'Mad', 'Hatter', ',', 'and', 'Time', 'from', 'Alice', 'Through', 'the', 'Looking', 'Glass', 'were', 'added', 'to', 'Disney', 'Infinity', '3.0', '.', 'The', 'three', 'Alice', 'characters', 'were', 'the', 'penultimate', 'additions', 'to', 'the', 'series', 'as', 'Disney', 'cancelled', 'the', 'Disney', 'Infinity', 'franchise', 'earlier', 'that', 'month', ',', 'with', 'the', 'Finding', 'Dory', 'playset', 'and', 'Dory', 'and', 'Nemo', 'figures', 'that', 'were', 'released', 'the', 'following', 'month', 'of', 'June', 'being', 'the', 'final', 'releases', '.', 'Disney', 'Magic', 'Kingdoms', '[', 'edit', ']', 'The', 'world', 'builder', 'game', 'Disney', 'Magic', 'Kingdoms', 'includes', 'the', 'attraction', 'Mad', 'Tea', 'Party', 'since', 'its', 'launch', 'on', '17', 'March', '2016', '.', '[', '2', ']', 'Alice', \"'s\", 'Curious', 'Labyrinth', 'also', 'appears', 'as', 'part', 'of', 'the', 'environment', 'next', 'to', 'the', 'Fantasyland', 'area', '.', 'During', 'a', 'limited', 'time', '2017', 'Event', 'focused', 'on', 'Alice', 'in', 'Wonderland', ',', 'were', 'included', 'Alice', ',', 'White', 'Rabbit', ',', 'Mad', 'Hatter', ',', 'March', 'Hare', ',', 'Cheshire', 'Cat', ',', 'Queen', 'of', 'Hearts', 'and', 'Caterpillar', 'as', 'playable', 'characters', ',', 'along', 'with', 'the', 'attractions', 'Alice', 'in', 'Wonderland', ',', 'The', 'Golden', 'Afternoon', ',', 'The', 'Tweedle', \"'s\", 'Wacky', 'Fairway', ',', 'and', 'White', 'Rabbit', \"'s\", 'House', ',', 'with', 'the', 'characters', 'involved', 'in', 'new', 'storylines', '.', '[', '3', ']', 'Theme', 'park', 'attractions', 'and', 'rides', '[', 'edit', ']', 'Alice', 'in', 'Wonderland', 'Maze', '[', 'edit', ']', 'A', 'labyrinth', 'opened', 'on', 'ShanghaÃ®', 'Disneyland', 'on', 'June', '16', ',', '2016', ',', 'with', 'the', 'Park', '.', 'It', 'is', 'based', 'on', 'Tim', 'Burton', \"'s\", '2010', 'film', '.', 'Alice', \"'s\", 'Curious', 'Labyrinth', '[', 'edit', ']', 'Main', 'article', ':', 'Alice', \"'s\", 'Curious', 'Labyrinth', 'Alice', \"'s\", 'Curious', 'Labyrinth', 'is', 'a', 'hedge', 'maze', 'attraction', 'at', 'the', 'Disneyland', 'Park', 'within', 'Disneyland', 'Paris', '.', 'It', 'opened', 'in', '1992', 'with', 'the', 'Park', ',', 'and', 'belongs', 'to', 'the', 'British', 'part', 'of', 'Fantasyland', '.', 'Mad', 'Tea', 'Party', '[', 'edit', ']', 'Main', 'article', ':', 'Mad', 'Tea', 'Party', 'Mad', 'Tea', 'Party', 'is', 'a', 'spinning', 'tea', 'cup', 'ride', 'at', 'all', 'five', 'Disneyland-style', 'theme', 'parks', '.', 'The', 'ride', 'theme', 'is', 'inspired', 'by', 'the', 'Unbirthday', 'Party', 'scene', 'in', 'Alice', 'In', 'Wonderland', '.', 'The', 'ride', 'has', 'gained', 'attention', 'over', 'the', 'years', 'for', 'the', 'number', 'of', 'people', 'who', 'get', 'motion', 'sickness', 'as', 'a', 'result', 'of', 'the', 'spinning', 'component', 'of', 'the', 'ride', '.', 'Alice', 'in', 'Wonderland', '(', 'ride', ')', '[', 'edit', ']', 'Main', 'article', ':', 'Alice', 'in', 'Wonderland', '(', 'Disneyland', 'attraction', ')', 'Alice', 'in', 'Wonderland', 'is', 'a', 'dark', 'ride', 'in', 'Fantasyland', 'at', 'Disneyland', 'in', 'Anaheim', ',', 'California', '.', 'Based', 'on', 'the', 'animated', 'adaptation', 'of', 'the', 'same', 'name', ',', 'the', 'attraction', 'resides', 'next', 'to', 'a', 'second', 'ride', ',', 'the', 'Mad', 'Tea', 'Party', ',', 'based', 'on', 'a', 'scene', 'in', 'that', 'same', 'adaptation', '.', 'The', 'presence', 'of', 'two', 'rides', 'based', 'on', 'the', 'film', 'is', 'unusual', 'in', 'that', 'Walt', 'Disney', 'said', 'he', 'regretted', 'making', 'it', 'because', 'it', 'lacked', 'a', 'connection', 'to', 'the', 'audience', \"'s\", 'hearts', '.', 'Mad', 'T', 'Party', '[', 'edit', ']', 'Main', 'article', ':', 'Mad', 'T', 'Party', 'Mad', 'T', 'Party', 'is', 'a', 'show', 'at', 'Disney', 'California', 'Adventure', 'which', 'occurs', 'in', 'the', 'Hollywood', 'Studios', 'subsection', 'of', 'the', 'Hollywood', 'Land', 'section', 'of', 'the', 'park', '.', 'Mad', 'T', 'Party', 'premiered', 'on', 'June', '15', ',', '2012', ',', 'the', 'same', 'day', 'the', 'park', 'was', 're-dedicated', '.', 'The', 'show', 'is', 'inspired', 'by', 'Tim', 'Burton', \"'s\", 'Alice', 'in', 'Wonderland', '.', 'Stage', 'version', '[', 'edit', ']', 'Alice', 'in', 'Wonderland', 'Jr.', '[', 'edit', ']', 'Alice', 'in', 'Wonderland', 'Jr.', 'is', 'a', 'one-act', 'stage', 'version', 'intended', 'for', 'middle', 'and', 'high', 'school', 'productions', '.', 'It', 'includes', 'the', 'majority', 'of', 'the', 'film', \"'s\", 'songs', 'and', 'others', 'including', 'Song', 'of', 'the', 'South', \"'s\", '``', 'Zip-a-Dee-Doo-Dah', \"''\", ',', 'two', 'new', 'reprises', 'of', '``', 'I', \"'m\", 'Late', '!', '``', ',', 'and', 'three', 'new', 'numbers', 'entitled', '``', 'Ocean', 'of', 'Tears', \"''\", ',', '``', 'Simon', 'Says', \"''\", 'and', '``', 'Who', 'Are', 'You', '?', \"''\", 'respectively', '.', 'This', '60-/80-minute', 'version', 'is', 'owned', 'by', 'Music', 'Theatre', 'International', 'in', 'the', 'Broadway', ',', 'Jr.', 'Collection', '.', 'Music', '[', 'edit', ']', 'Alice', 'in', 'Wonderland', 'soundtrack', '[', 'edit', ']', 'Alice', 'in', 'Wonderland', 'was', 'first', 'released', 'on', 'LP', 'record', 'on', 'July', '28', ',', '1951', ',', 'and', 're-released', 'on', 'Audio', 'CD', 'in', '1998', '.', 'Almost', 'Alice', '[', 'edit', ']', 'Main', 'article', ':', 'Almost', 'Alice', 'Almost', 'Alice', 'is', 'a', 'concept', 'album', 'of', 'various', 'artists', \"'\", 'music', 'inspired', 'by', 'Burton', \"'s\", 'Alice', 'in', 'Wonderland', '.', 'The', 'album', 'is', 'also', 'notable', 'for', 'featuring', 'songs', 'that', 'were', 'inspired', 'from', 'quotes', 'directly', 'from', 'Lewis', 'Carroll', \"'s\", 'original', 'novel', '.', 'The', 'album', 'was', 'released', 'by', 'Buena', 'Vista', 'Records', 'on', 'March', '2', ',', '2010', '.', 'It', 'debuted', 'at', 'number', 'five', 'on', 'the', 'Billboard', '200', '.', 'References', '[', 'edit', ']', '^', '``', 'Kingdom', 'Hearts', 'Official', 'Page', \"''\", '.', 'Retrieved', 'July', '13', ',', '2010', '.', '^', '``', 'Disney', 'Magic', 'Kingdoms', '-', 'Official', 'Launch', 'Trailer', \"''\", '.', 'YouTube', '.', 'March', '17', ',', '2016', '.', '^', '``', 'Update', '15', ':', 'Alice', 'in', 'Wonderland', '|', 'Livestream', \"''\", '.', 'YouTube', '.', 'October', '20', ',', '2017.', 'vteDisney', \"'s\", 'Alice', 'in', 'Wonderland', 'Works', 'based', 'on', 'Alice', 'in', 'Wonderland', 'Films', 'Alice', 'in', 'Wonderland', '(', '1951', ')', 'Alice', 'in', 'Wonderland', '(', '2010', ')', 'accolades', 'Alice', 'Through', 'the', 'Looking', 'Glass', 'Television', 'Adventures', 'in', 'Wonderland', 'Once', 'Upon', 'a', 'Time', 'in', 'Wonderland', 'Alice', \"'s\", 'Wonderland', 'Bakery', 'Amusement', 'parks', 'Mad', 'Tea', 'Party', 'Alice', 'in', 'Wonderland', 'Alice', \"'s\", 'Curious', 'Labyrinth', 'Mad', 'T', 'Party', 'Music', '``', 'Alice', 'in', 'Wonderland', \"''\", 'Alice', 'in', 'Wonderland', \"'s\", '(', '2010', ')', 'score', 'Almost', 'Alice', '``', 'Alice', \"''\", '``', 'Follow', 'Me', 'Down', \"''\", '``', 'Tea', 'Party', \"''\", '``', 'Just', 'Like', 'Fire', \"''\", 'Video', 'games', 'Alice', 'no', 'Paint', 'Adventure', 'Alice', 'in', 'Wonderland', '(', '2000', ')', 'Alice', 'in', 'Wonderland', '(', '2010', ')', 'Related', 'Mickey', 'Mousecapade', 'Disney', \"'s\", 'Villains', \"'\", 'Revenge', 'Kingdom', 'Hearts', 'Kingdom', 'Hearts', 'Chain', 'of', 'Memories', 'Coded', '358/2', 'Days', 'Ï‡', 'Disney', 'Universe', 'Kinect', ':', 'Disneyland', 'Adventures', 'Disney', 'Infinity', '3.0', 'Disney', 'Magic', 'Kingdoms', 'Disney', 'Mirrorverse', 'Related', 'Tarrant', 'Hightopp', 'Unbirthday', ':', 'A', 'Twisted', 'Tale', 'One', 'Hour', 'in', 'Wonderland', '``', 'Disney', \"'s\", 'Greatest', 'Villains', \"''\", 'Descendants', ':', 'The', 'Rise', 'of', 'Red', 'Alice', 'Comedies', 'Thru', 'the', 'Mirror', 'vteLewis', 'Carroll', \"'s\", 'Alice', 'Alice', \"'s\", 'Adventures', 'in', 'Wonderland', 'Through', 'the', 'Looking-Glass', 'UniverseCharactersAlice', \"'s\", 'Adventuresin', 'Wonderland', 'Alice', 'portrayals', 'Bill', 'the', 'Lizard', 'Caterpillar', 'Cheshire', 'Cat', 'Dodo', 'Dormouse', 'Duchess', 'Gryphon', 'Hatter', 'Tarrant', 'Hightopp', 'King', 'of', 'Hearts', 'Knave', 'of', 'Hearts', 'March', 'Hare', 'Mock', 'Turtle', 'Mouse', 'Pat', 'Puppy', 'Queen', 'of', 'Hearts', 'White', 'Rabbit', 'Minor', 'characters', 'Through', 'theLooking-Glass', 'Bandersnatch', 'Humpty', 'Dumpty', 'Jubjub', 'bird', 'Red', 'King', 'Red', 'Queen', 'The', 'Sheep', 'The', 'Lion', 'and', 'the', 'Unicorn', 'Tweedledum', 'and', 'Tweedledee', 'White', 'King', 'White', 'Knight', 'White', 'Queen', 'Minor', 'characters', 'Locationsand', 'events', 'Wonderland', 'Looking-Glass', 'world', 'Unbirthday', 'Poems', '``', 'All', 'in', 'the', 'golden', 'afternoon', '...', \"''\", '``', 'How', 'Doth', 'the', 'Little', 'Crocodile', \"''\", '``', 'The', 'Mouse', \"'s\", 'Tale', \"''\", '``', 'Twinkle', ',', 'Twinkle', ',', 'Little', 'Bat', \"''\", '``', 'You', 'Are', 'Old', ',', 'Father', 'William', \"''\", '``', \"'T\", 'is', 'the', 'Voice', 'of', 'the', 'Lobster', \"''\", '``', 'Jabberwocky', \"''\", 'Vorpal', 'sword', '``', 'The', 'Walrus', 'and', 'the', 'Carpenter', \"''\", '``', 'Haddocks', \"'\", 'Eyes', \"''\", '``', 'The', 'Mock', 'Turtle', \"'s\", 'Song', \"''\", 'The', 'Hunting', 'of', 'the', 'Snark', 'Related', 'Alice', 'Liddell', 'Alice', 'syndrome', 'Alice', \"'s\", 'Shop', 'Illustrators', 'John', 'Tenniel', 'Theophilus', 'Carter', 'The', 'Annotated', 'Alice', 'Mischmasch', 'Translations', 'Alice', \"'s\", 'Adventures', 'in', 'Wonderland', 'Through', 'the', 'Looking-Glass', 'AdaptationsStage', 'Alice', 'in', 'Wonderland', '(', '1886', 'musical', ')', 'Alice', 'in', 'Wonderland', '(', '1979', 'opera', ')', 'But', 'Never', 'Jam', 'Today', '(', '1979', 'musical', ')', 'Through', 'the', 'Looking', 'Glass', '(', '2008', 'opera', ')', 'Alice', \"'s\", 'Adventures', 'in', 'Wonderland', '(', '2011', 'ballet', ')', 'Wonderland', '(', '2011', 'musical', ')', 'Peter', 'and', 'Alice', '(', '2013', 'play', ')', 'Wonder.land', '(', '2015', 'musical', ')', 'Alice', \"'s\", 'Adventures', 'Under', 'Ground', '(', '2016', 'opera', ')', 'Alice', 'by', 'Heart', '(', '2019', 'musical', ')', 'Film', '1903', '1910', '1915', 'Alice', 'Comedies', '(', '1923â€', '“', '1927', ')', '1931', '1933', '1949', '1951', 'Alice', 'of', 'Wonderland', 'in', 'Paris', '(', '1966', ')', '1972', '1976', '1976', '(', 'Spanish', ')', 'Alice', 'or', 'the', 'Last', 'Escapade', '(', '1977', ')', '1981', '1982', 'The', 'Care', 'Bears', 'Adventure', 'in', 'Wonderland', '(', '1987', ')', '1988', '(', 'Czechoslovak', ')', '1988', '(', 'Australian', ')', 'Malice', 'in', 'Wonderland', '(', '2009', ')', '2010', 'Alice', 'in', 'Murderland', '(', '2010', ')', 'Alice', 'Through', 'the', 'Looking', 'Glass', '(', '2016', ')', 'Come', 'Away', '(', '2020', ')', 'Alice', 'and', 'the', 'Land', 'that', 'Wonders', '(', '2020', ')', 'Alice', ',', 'Through', 'the', 'Looking', '(', '2021', ')', 'Television', 'Alice', 'in', 'Wonderland', '(', '1962', ')', 'Alice', 'in', 'Wonderland', 'or', 'What', \"'s\", 'a', 'Nice', 'Kid', 'like', 'You', 'Doing', 'in', 'a', 'Place', 'like', 'This', '?', '(', '1966', ')', 'Alice', 'in', 'Wonderland', '(', '1966', ')', 'Alice', 'Through', 'the', 'Looking', 'Glass', '(', '1966', ')', '1983', '(', 'TV', 'film', ')', 'Fushigi', 'no', 'Kuni', 'no', 'Alice', '(', '1983', ')', '1985', '(', 'TV', 'film', ')', 'Adventures', 'in', 'Wonderland', '(', '1992', ')', 'Alice', 'through', 'the', 'Looking', 'Glass', '(', '1998', ')', 'Alice', 'in', 'Wonderland', '(', '1999', ')', 'Alice', '(', '2009', ')', 'Once', 'Upon', 'a', 'Time', 'in', 'Wonderland', '(', '2013', ')', 'Alice', \"'s\", 'Wonderland', 'Bakery', '(', '2022', ')', 'Music', '``', 'White', 'Rabbit', \"''\", '(', '1967', 'song', ')', '``', 'Do', \"n't\", 'Come', 'Around', 'Here', 'No', 'More', \"''\", '(', '1985', 'music', 'video', ')', 'Alice', 'in', 'Wonderland', '(', '2010', ')', 'Almost', 'Alice', '(', '2010', ')', '``', 'Alice', \"''\", '``', 'Follow', 'Me', 'Down', \"''\", '``', 'Tea', 'Party', \"''\", 'Alice', 'Through', 'the', 'Looking', 'Glass', '(', '2016', ')', '``', 'Just', 'Like', 'Fire', \"''\", '``', 'Alice', \"''\", '(', '2020', 'song', ')', 'Video', 'games', 'Through', 'the', 'Looking', 'Glass', '(', '1984', ')', 'Alice', 'in', 'Wonderland', '(', '1985', ')', 'MÃ¤rchen', 'Maze', '(', '1988', ')', 'Wonderland', '(', '1990', ')', 'Alice', ':', 'An', 'Interactive', 'Museum', '(', '1991', ')', 'Alice', 'no', 'Paint', 'Adventure', '(', '1995', ')', 'Alice', 'in', 'Wonderland', '(', '2000', ')', 'American', 'McGee', \"'s\", 'Alice', '(', '2000', ')', 'Kingdom', 'Hearts', '(', '2002', ')', 'Alice', 'in', 'the', 'Country', 'of', 'Hearts', '(', '2007', ')', 'Alice', 'in', 'Wonderland', '(', '2010', ')', 'Alice', ':', 'Madness', 'Returns', '(', '2011', ')', 'Kingdom', 'Hearts', 'Ï‡', '(', '2013', ')', 'Sequels', 'A', 'New', 'Alice', 'in', 'the', 'Old', 'Wonderland', '(', '1895', ')', 'New', 'Adventures', 'of', 'Alice', '(', '1917', ')', 'Alice', 'Through', 'the', 'Needle', \"'s\", 'Eye', '(', '1984', ')', 'Automated', 'Alice', '(', '1996', ')', 'Retellings', 'The', 'Nursery', '``', 'Alice', \"''\", '(', '1890', ')', 'Alice', \"'s\", 'Adventures', 'in', 'Wonderland', 'Retold', 'in', 'Words', 'of', 'One', 'Syllable', '(', '1905', ')', 'American', 'McGee', \"'s\", 'Alice', '(', '2000', ')', 'Alice', 'in', 'Verse', ':', 'The', 'Lost', 'Rhymes', 'of', 'Wonderland', '(', '2010', ')', 'Alice', ':', 'Madness', 'Returns', '(', '2011', ')', 'Parodies', 'The', 'Westminster', 'Alice', '(', '1902', ')', 'Clara', 'in', 'Blunderland', '(', '1902', ')', 'Lost', 'in', 'Blunderland', '(', '1903', ')', 'John', 'Bull', \"'s\", 'Adventures', 'in', 'the', 'Fiscal', 'Wonderland', '(', '1904', ')', 'Alice', 'in', 'Blunderland', ':', 'An', 'Iridescent', 'Dream', '(', '1904', ')', 'The', 'Looking', 'Glass', 'Wars', '2004', '2007', '2009', 'Imitations', 'Mopsa', 'the', 'Fairy', '(', '1869', ')', 'Davy', 'and', 'the', 'Goblin', '(', '1884', ')', 'The', 'Admiral', \"'s\", 'Caravan', '(', '1891', ')', 'Gladys', 'in', 'Grammarland', '(', '1896', ')', 'Rollo', 'in', 'Emblemland', '(', '1902', ')', 'Alice', 'in', 'Orchestralia', '(', '1925', ')', 'Literary', 'Alice', 'in', 'Borderland', 'Alice', 'in', 'the', 'Country', 'of', 'Hearts', 'Alice', 'in', 'Murderland', 'Alice', 'in', 'Sunderland', 'Lost', 'Girls', 'Miyuki-chan', 'in', 'Wonderland', 'Pandora', 'Hearts', 'Tweedledum', 'and', 'Tweedledee', 'Unbirthday', ':', 'A', 'Twisted', 'Tale', 'Related', 'Betty', 'in', 'Blunderland', '(', '1934', 'animated', 'short', ')', 'Thru', 'the', 'Mirror', '(', '1936', 'animated', 'short', ')', 'Jabberwocky', '(', '1971', 'film', ')', 'Jabberwocky', '(', '1977', 'film', ')', 'Donald', 'in', 'Mathmagic', 'Land', '(', '1959', 'film', ')', 'Malice', 'in', 'Wonderland', '(', '1982', 'animated', 'short', ')', 'Dungeonland', '(', '1983', 'module', ')', 'The', 'Land', 'Beyond', 'the', 'Magic', 'Mirror', '(', '1983', 'module', ')', 'Dreamchild', '(', '1985', 'film', ')', 'The', 'Hunting', 'of', 'the', 'Snark', '(', '1991', 'musical', ')', 'How', 'Doth', 'the', 'Little', 'Crocodile', '(', '1998', 'artworks', ')', 'Abby', 'in', 'Wonderland', '(', '2008', 'film', ')', 'Disney', 'franchise', 'Category', 'vteDisney', 'franchises', 'and', 'seriesWalt', 'DisneyStudiosWalt', 'DisneyAnimation', 'Studios', '101', 'Dalmatians', 'Aladdin', 'Alice', 'in', 'Wonderland', 'Atlantis', 'Beauty', 'and', 'the', 'Beast', 'Cinderella', 'Donald', 'Duck', 'The', 'Emperor', \"'s\", 'New', 'Groove', 'Fantasia', 'Frozen', 'Goofy', 'Hercules', 'The', 'Hunchback', 'of', 'Notre', 'Dame', 'The', 'Jungle', 'Book', 'Lilo', '&', 'Stitch', 'The', 'Lion', 'King', 'The', 'Little', 'Mermaid', 'Mickey', 'Mouse', 'Oswald', 'the', 'Lucky', 'Rabbitâ¸¿', 'Mulan', 'Peter', 'Pan', 'Pocahontas', 'Prep', '&', 'Landing', 'Sleeping', 'Beauty', 'Silly', 'Symphonies', 'Snow', 'White', 'Tangled', 'Tarzan', 'Winnie', 'the', 'Pooh', 'Wreck-It', 'Ralph', 'Zootopia', 'Walt', 'DisneyPicturesâ€', 'Air', 'Bud', 'Beverly', 'Hills', 'Chihuahua', 'The', 'Chronicles', 'of', 'NarniaÂ¶', 'Dexter', 'Riley', 'Father', 'of', 'the', 'Bride', 'Flubber', 'Freaky', 'Friday', 'Fright', 'NightÂ¶', 'Herbie', 'Hocus', 'Pocus', 'Honey', ',', 'I', 'Shrunk', 'the', 'Kids', 'Maleficent', 'The', 'Mighty', 'Ducks', 'The', 'Muppets', 'National', 'Treasure', 'The', 'Parent', 'Trap', 'Pirates', 'of', 'the', 'Caribbean', 'The', 'Santa', 'Clause', 'The', 'Shaggy', 'Dog', 'Sister', 'Act', 'Step', 'Upâ‹', 'Tron', 'Turner', '&', 'Hooch', 'Unbreakableâ¸¿', 'Who', 'Framed', 'Roger', 'Rabbit', 'Witch', 'Mountain', 'Pixar', 'Cars', 'Finding', 'Nemo', 'The', 'Incredibles', 'Inside', 'Out', 'Monsters', ',', 'Inc.', 'Toy', 'Story', 'Disneytoon', 'Studios', 'Tinker', 'Bell', 'Marvel', 'Studios', 'Marvel', 'Cinematic', 'Universe', 'Captain', 'America', 'Spider-Man', '#', 'Lucasfilm', 'Indiana', 'JonesÂ§', 'Star', 'Wars', '20th', 'CenturyStudiosâ€¡', 'Alien', 'Nation', 'Alien', 'Alien', 'vs', '.', 'Predator', 'Alvin', 'and', 'the', 'Chipmunks', 'Avatar', 'Behind', 'Enemy', 'Lines', 'Cheaper', 'by', 'the', 'DozenÂ§', 'Diary', 'of', 'a', 'Wimpy', 'KidÂ§', 'Die', 'Hard', 'Dr.', 'Dolittle', 'Fantastic', 'Four', '*', 'The', 'Fly', 'The', 'Hills', 'Have', 'Eyes', 'Home', 'Alone', 'Ice', 'AgeÂ§', 'Independence', 'Day', 'Kingsman', 'Maze', 'Runner', 'Night', 'at', 'the', 'MuseumÂ§', 'The', 'Omen', 'Percy', 'Jackson', 'Planet', 'of', 'the', 'Apes', 'Predator', 'Revenge', 'of', 'the', 'Nerds', 'Rio', 'The', 'Rocky', 'Horror', 'Show', 'Taken', 'World', 'of', 'Watches', 'X-Men', '*', 'Disney', 'GeneralEntertainment', 'ContentDisney', 'Channel', 'The', 'Cheetah', 'Girls', 'Descendants', 'Halloweentown', 'High', 'School', 'Musical', 'Zombies', 'FX', 'Networks', 'American', 'Story', '20th', 'Television', 'Buffyverse', 'Firefly', 'M', '*', 'A', '*', 'S', '*', 'H', 'The', 'Walking', 'Dead', '(', 'international', 'only', ')', 'The', 'X-Files', '20th', 'TVA', 'Family', 'Guy', 'The', 'Simpsons', 'Disney', 'Experiences', 'Pirates', 'of', 'the', 'Caribbean', 'Disney', 'ConsumerProducts', 'Disney', 'Fairies', 'Disney', 'Princess', 'Disney', 'Tsum', 'Tsum', 'Disney', 'Villains', 'Marvel', 'Universe', 'Mickey', 'Mouse', '&', 'Friends', 'Donald', 'Duck', 'The', 'Muppets', 'Disney', 'PublishingWorldwide', 'A', 'Twisted', 'Tale', 'Kingdom', 'Keepers', 'W.I.T.C.H', '.', 'Disney', 'Games', 'Marvel', 'Games', 'Hulk', 'Marvel', 'vs.', 'Capcom', 'Marvel', \"'s\", 'Spider-Man', 'Punisher', 'Spider-Man', 'X-Men', 'Pirates', 'of', 'the', 'Caribbean', 'video', 'games', 'The', 'Simpsons', 'video', 'games', 'Star', 'Wars', 'video', 'games', 'Battlefront', 'Knights', 'of', 'the', 'Old', 'Republic', 'Lego', 'Rogue', 'Squadron', 'Club', 'Penguin', 'Disney', 'Infinity', 'Disney', \"'s\", 'Activity', 'Center', 'Disney', \"'s\", 'Animated', 'Storybook', 'Disney', \"'s\", 'Magical', 'Quest', 'Disney', \"'s\", 'Print', 'Studio', 'Illusion', 'The', 'Incredible', 'Machine', 'Kim', 'Possible', 'Kingdom', 'Heartsâ—ˆ', 'Monkey', 'Island', 'Spectrobes', 'Tap', 'Tap', 'â€', 'Includes', 'Touchstone', 'Pictures', 'and', 'Hollywood', 'Pictures', 'â€¡', 'Includes', 'Searchlight', 'Pictures', ',', '20th', 'Century', 'Animation', ',', 'and', 'related', 'assets', 'Â§', 'Shared', 'with', 'Walt', 'Disney', 'Pictures', 'Â¶', 'Shared', 'with', '20th', 'Century', 'Studios', '*', 'Shared', 'with', 'Marvel', 'Studios', 'â¸¿', 'Shared', 'with', 'Universal', 'Pictures', '#', 'Shared', 'with', 'Sony', 'Pictures', 'â‹', 'Shared', 'with', 'Lionsgate', 'â—ˆ', 'Shared', 'with', 'Square', 'Enix', 'Category', 'vteWalt', 'Disney', 'Animation', 'StudiosFeature', 'filmsReleased', 'Snow', 'White', 'and', 'the', 'Seven', 'Dwarfs', '(', '1937', ')', 'Pinocchio', '(', '1940', ')', 'Fantasia', '(', '1940', ')', 'Dumbo', '(', '1941', ')', 'Bambi', '(', '1942', ')', 'Saludos', 'Amigos', '(', '1942', ')', 'The', 'Three', 'Caballeros', '(', '1944', ')', 'Make', 'Mine', 'Music', '(', '1946', ')', 'Fun', 'and', 'Fancy', 'Free', '(', '1947', ')', 'Melody', 'Time', '(', '1948', ')', 'The', 'Adventures', 'of', 'Ichabod', 'and', 'Mr.', 'Toad', '(', '1949', ')', 'Cinderella', '(', '1950', ')', 'Alice', 'in', 'Wonderland', '(', '1951', ')', 'Peter', 'Pan', '(', '1953', ')', 'Lady', 'and', 'the', 'Tramp', '(', '1955', ')', 'Sleeping', 'Beauty', '(', '1959', ')', 'One', 'Hundred', 'and', 'One', 'Dalmatians', '(', '1961', ')', 'The', 'Sword', 'in', 'the', 'Stone', '(', '1963', ')', 'The', 'Jungle', 'Book', '(', '1967', ')', 'The', 'Aristocats', '(', '1970', ')', 'Robin', 'Hood', '(', '1973', ')', 'The', 'Many', 'Adventures', 'of', 'Winnie', 'the', 'Pooh', '(', '1977', ')', 'The', 'Rescuers', '(', '1977', ')', 'The', 'Fox', 'and', 'the', 'Hound', '(', '1981', ')', 'The', 'Black', 'Cauldron', '(', '1985', ')', 'The', 'Great', 'Mouse', 'Detective', '(', '1986', ')', 'Oliver', '&', 'Company', '(', '1988', ')', 'The', 'Little', 'Mermaid', '(', '1989', ')', 'The', 'Rescuers', 'Down', 'Under', '(', '1990', ')', 'Beauty', 'and', 'the', 'Beast', '(', '1991', ')', 'Aladdin', '(', '1992', ')', 'The', 'Lion', 'King', '(', '1994', ')', 'Pocahontas', '(', '1995', ')', 'The', 'Hunchback', 'of', 'Notre', 'Dame', '(', '1996', ')', 'Hercules', '(', '1997', ')', 'Mulan', '(', '1998', ')', 'Tarzan', '(', '1999', ')', 'Fantasia', '2000', '(', '1999', ')', 'Dinosaur', '(', '2000', ')', 'The', 'Emperor', \"'s\", 'New', 'Groove', '(', '2000', ')', 'Atlantis', ':', 'The', 'Lost', 'Empire', '(', '2001', ')', 'Lilo', '&', 'Stitch', '(', '2002', ')', 'Treasure', 'Planet', '(', '2002', ')', 'Brother', 'Bear', '(', '2003', ')', 'Home', 'on', 'the', 'Range', '(', '2004', ')', 'Chicken', 'Little', '(', '2005', ')', 'Meet', 'the', 'Robinsons', '(', '2007', ')', 'Bolt', '(', '2008', ')', 'The', 'Princess', 'and', 'the', 'Frog', '(', '2009', ')', 'Tangled', '(', '2010', ')', 'Winnie', 'the', 'Pooh', '(', '2011', ')', 'Wreck-It', 'Ralph', '(', '2012', ')', 'Frozen', '(', '2013', ')', 'Big', 'Hero', '6', '(', '2014', ')', 'Zootopia', '(', '2016', ')', 'Moana', '(', '2016', ')', 'Ralph', 'Breaks', 'the', 'Internet', '(', '2018', ')', 'Frozen', 'II', '(', '2019', ')', 'Raya', 'and', 'the', 'Last', 'Dragon', '(', '2021', ')', 'Encanto', '(', '2021', ')', 'Strange', 'World', '(', '2022', ')', 'Wish', '(', '2023', ')', 'Upcoming', 'Moana', '2', '(', '2024', ')', 'Cancelled', 'My', 'Peoples', 'Associatedproductions', 'The', 'Reluctant', 'Dragon', '(', '1941', ')', 'Victory', 'Through', 'Air', 'Power', '(', '1943', ')', 'Song', 'of', 'the', 'South', '(', '1946', ')', 'So', 'Dear', 'to', 'My', 'Heart', '(', '1948', ')', 'Mary', 'Poppins', '(', '1964', ')', 'Bedknobs', 'and', 'Broomsticks', '(', '1971', ')', 'Pete', \"'s\", 'Dragon', '(', '1977', ')', 'Who', 'Framed', 'Roger', 'Rabbit', '(', '1988', ')', 'Television', 'productionsTV', 'specials', 'Prep', '&', 'Landing', '(', '2009', ')', 'Prep', '&', 'Landing', ':', 'Naughty', 'vs.', 'Nice', '(', '2011', ')', 'TV', 'series', 'Baymax', '!', '(', '2022', ')', 'Zootopia+', '(', '2022', ')', 'IwÃ¡jÃº', '(', '2024', ')', 'PeopleExecutives', 'Edwin', 'Catmull', 'Roy', 'Conli', 'Roy', 'E.', 'Disney', 'Walt', 'Disney', 'Don', 'Hahn', 'Jeffrey', 'Katzenberg', 'John', 'Lasseter', 'Jennifer', 'Lee', 'Peter', 'Schneider', 'Thomas', 'Schumacher', 'David', 'Stainton', 'Clark', 'Spencer', 'Disney', 'LegendsanimatorsDisney', \"'s\", 'Nine', 'Old', 'Men', 'Les', 'Clark', 'Marc', 'Davis', 'Ollie', 'Johnston', 'Milt', 'Kahl', 'Ward', 'Kimball', 'Eric', 'Larson', 'John', 'Lounsbery', 'Wolfgang', 'Reitherman', 'Frank', 'Thomas', 'James', 'Algar', 'Ken', 'Anderson', 'Xavier', 'Atencio', 'Art', 'Babbitt', 'Grace', 'Bailey', 'Carl', 'Barks', 'Mary', 'Blair', 'Joyce', 'Carlson', 'Marge', 'Champion', 'Claude', 'Coats', 'Don', 'DaGradi', 'Virginia', 'Davis', 'Andreas', 'Deja', 'Norm', 'Ferguson', 'Eyvind', 'Earle', 'Clyde', 'Geronimi', 'Manuel', 'Gonzales', 'Floyd', 'Gottfredson', 'Yale', 'Gracey', 'Joe', 'Grant', 'David', 'Hand', 'Jack', 'Hannah', 'John', 'Hench', 'Dick', 'Huemer', 'Ub', 'Iwerks', 'Wilfred', 'Jackson', 'Steve', 'Jobs', 'Bill', 'Justice', 'Glen', 'Keane', 'Hamilton', 'Luske', 'Burny', 'Mattinson', 'Fred', 'Moore', 'Floyd', 'Norman', 'Bill', 'Peet', 'Walter', 'Peregoy', 'Joe', 'Ranft', 'Retta', 'Scott', 'Ben', 'Sharpsteen', 'Mel', 'Shaw', 'Ruthie', 'Tompson', 'Roy', 'Williams', 'Tyrus', 'WongRelated', 'topicsHistory', 'Disney', 'animators', \"'\", 'strike', '1982', 'animators', \"'\", 'strike', 'Disney', 'Renaissance', 'Methods', 'andtechnologies', 'Disney', 'Animation', ':', 'The', 'Illusion', 'of', 'Life', 'Twelve', 'basic', 'principles', 'of', 'animation', 'Computer', 'Animation', 'Production', 'System', 'Documentaries', 'Frank', 'and', 'Ollie', '(', '1995', ')', 'The', 'Sweatbox', '(', '2002', ')', 'Dream', 'On', 'Silly', 'Dreamer', '(', '2005', ')', 'Waking', 'Sleeping', 'Beauty', '(', '2009', ')', 'Walt', '&', 'El', 'Grupo', '(', '2009', ')', 'Miscellaneous', 'Alice', 'Comedies', 'Laugh-O-Gram', 'Studio', 'List', 'of', 'Walt', 'Disney', 'Animation', 'Studios', 'short', 'films', 'Oswald', 'the', 'Lucky', 'Rabbit', 'Mickey', 'Mouse', 'Silly', 'Symphonies', 'Donald', 'Duck', 'Pluto', 'Goofy', 'Academy', 'Award', 'Review', 'Disneytoon', 'Studios', 'List', 'of', 'Disney', 'theatrical', 'animated', 'features', 'unproduced', 'live-action', 'adaptations', 'List', 'of', 'Disney', 'animated', 'films', 'based', 'on', 'fairy', 'tales', 'Retrieved', 'from', '``', 'https', ':', '//en.wikipedia.org/w/index.php', '?', 'title=Alice_in_Wonderland_', '(', 'franchise', ')', '&', 'oldid=1222795672', \"''\", 'Categories', ':', 'Alice', 'in', 'Wonderland', '(', 'franchise', ')', 'Walt', 'Disney', 'Studios', '(', 'division', ')', 'franchisesWorks', 'based', 'on', 'Alice', 'in', 'WonderlandHidden', 'categories', ':', 'Articles', 'with', 'short', 'descriptionShort', 'description', 'matches', 'Wikidata', 'This', 'page', 'was', 'last', 'edited', 'on', '7', 'May', '2024', ',', 'at', '23:33Â', '(', 'UTC', ')', '.', 'Text', 'is', 'available', 'under', 'the', 'Creative', 'Commons', 'Attribution-ShareAlike', 'License', '4.0', ';', 'additional', 'terms', 'may', 'apply', '.', 'By', 'using', 'this', 'site', ',', 'you', 'agree', 'to', 'the', 'Terms', 'of', 'Use', 'and', 'Privacy', 'Policy', '.', 'WikipediaÂ®', 'is', 'a', 'registered', 'trademark', 'of', 'the', 'Wikimedia', 'Foundation', ',', 'Inc.', ',', 'a', 'non-profit', 'organization', '.', 'Privacy', 'policy', 'About', 'Wikipedia', 'Disclaimers', 'Contact', 'Wikipedia', 'Code', 'of', 'Conduct', 'Developers', 'Statistics', 'Cookie', 'statement', 'Mobile', 'view', 'Toggle', 'limited', 'content', 'width']\n"
     ]
    }
   ],
   "source": [
    "# Word tokenization\n",
    "\n",
    "from nltk.tokenize import word_tokenize\n",
    "tokenized_word = word_tokenize(data)\n",
    "print(tokenized_word) "
   ]
  },
  {
   "cell_type": "code",
   "execution_count": 11,
   "id": "50e5bd10-58b4-46da-9d8d-d907b26ea504",
   "metadata": {
    "tags": []
   },
   "outputs": [
    {
     "name": "stdout",
     "output_type": "stream",
     "text": [
      "<FreqDist with 1488 samples and 4753 outcomes>\n"
     ]
    }
   ],
   "source": [
    "from nltk.probability import FreqDist\n",
    "dist_words = FreqDist(tokenized_word)\n",
    "print(dist_words) "
   ]
  },
  {
   "cell_type": "code",
   "execution_count": 12,
   "id": "3da39111-52f2-4f1d-810e-7137437cc221",
   "metadata": {
    "tags": []
   },
   "outputs": [
    {
     "data": {
      "text/plain": [
       "[('(', 224),\n",
       " (')', 224),\n",
       " ('Alice', 158),\n",
       " ('in', 157),\n",
       " ('the', 156),\n",
       " ('Wonderland', 120),\n",
       " (',', 117),\n",
       " ('The', 80),\n",
       " ('of', 72),\n",
       " ('.', 71)]"
      ]
     },
     "execution_count": 12,
     "metadata": {},
     "output_type": "execute_result"
    }
   ],
   "source": [
    "dist_words.most_common(10)"
   ]
  },
  {
   "cell_type": "code",
   "execution_count": 13,
   "id": "b8aad225-b0d1-486f-ae5f-988c4e8c4f2a",
   "metadata": {
    "tags": []
   },
   "outputs": [
    {
     "data": {
      "image/png": "[encoded data removed]",
      "text/plain": [
       "<Figure size 800x300 with 1 Axes>"
      ]
     },
     "metadata": {},
     "output_type": "display_data"
    }
   ],
   "source": [
    "# Frequency Distribution Plot\n",
    "\n",
    "plt.figure(figsize=(8, 3))\n",
    "dist_words.plot(10,cumulative = False)\n",
    "plt.show()"
   ]
  },
  {
   "cell_type": "markdown",
   "id": "e01b4976-d1bb-4cf9-8f4e-3e6f6f3c8fca",
   "metadata": {},
   "source": [
    "## Stop Word"
   ]
  },
  {
   "cell_type": "code",
   "execution_count": 14,
   "id": "3484ac15-eccc-4c81-a0c1-7ecd43f98874",
   "metadata": {
    "tags": []
   },
   "outputs": [
    {
     "name": "stdout",
     "output_type": "stream",
     "text": [
      "{'most', 'not', 'out', \"you'd\", 'her', 'been', 'further', 'some', 'too', 'for', 'this', 'on', 'all', 'both', 'few', 'will', \"couldn't\", \"hadn't\", 'have', 'against', 'nor', 're', \"you'll\", 'did', \"wouldn't\", 'aren', \"it's\", 'are', \"aren't\", 'be', 'any', 'isn', 'because', 'your', 'it', 'such', 'no', 'yours', 'if', 'didn', 'doesn', 'how', 'himself', 'again', 'with', 'is', 'the', 'had', 'own', 'up', 'do', 'in', 'just', 'over', 'under', \"won't\", 'needn', 'an', 'off', 'were', 'so', 'only', 'ours', 'couldn', 'hasn', 'while', 't', 'down', 'mustn', 'm', 'theirs', 's', 'weren', 'shan', 'after', 'y', 'their', 'now', 'before', 'those', 'below', 'from', 'ma', 'herself', 'was', 'until', 'why', 'me', 'won', 'hers', 'am', 'his', 'more', 'we', 'what', 'of', 'there', \"haven't\", \"mightn't\", 'he', 'myself', 'can', \"shan't\", 'shouldn', 'during', 'has', 'here', 'when', \"don't\", 'don', 'between', 'themselves', \"wasn't\", 'same', 'that', \"you've\", 'through', 'into', 'ourselves', 'o', 'haven', 'above', 'and', \"hasn't\", \"needn't\", 'my', 'having', \"that'll\", \"should've\", 'then', 'you', 'mightn', 'hadn', 'him', 'll', 'its', 'being', \"doesn't\", 'itself', \"you're\", \"didn't\", 'other', 'them', 'wouldn', 'yourselves', \"shouldn't\", 'who', 'but', 'by', 'very', 'as', 'does', 'once', 'whom', 'a', 'd', 'each', 'these', 'at', 'they', 'wasn', 'our', 'to', 've', \"she's\", \"mustn't\", 'where', \"isn't\", \"weren't\", 'ain', 'doing', 'about', 'she', 'or', 'than', 'yourself', 'i', 'should', 'which'}\n"
     ]
    }
   ],
   "source": [
    "# Defining stopwords\n",
    "\n",
    "from nltk.corpus import stopwords\n",
    "stop_words = set(stopwords.words(\"english\"))\n",
    "print(stop_words)"
   ]
  },
  {
   "cell_type": "code",
   "execution_count": 15,
   "id": "59511f2e-3259-4ab3-bcb1-a5cce38f2fd2",
   "metadata": {
    "tags": []
   },
   "outputs": [],
   "source": [
    "# Removing stopwords in sentences\n",
    "\n",
    "# filtered_sent = []\n",
    "# for word in tokenized_sent:\n",
    "#     if word not in stop_words:\n",
    "#         filtered_sent.append(word)\n",
    "# print(\"Tokenized Sentence:\", tokenized_sent)\n",
    "# print(\"Filterd Sentence:\", filtered_sent)"
   ]
  },
  {
   "cell_type": "code",
   "execution_count": 16,
   "id": "3b2e4ada-4839-4982-b24f-d0d87847ba53",
   "metadata": {
    "tags": []
   },
   "outputs": [],
   "source": [
    "# Removing stopwords in words\n",
    "\n",
    "filtered_words = [] # creates an empty list\n",
    "for word in tokenized_word:\n",
    "    if word not in stop_words:\n",
    "        filtered_words.append(word)"
   ]
  },
  {
   "cell_type": "code",
   "execution_count": 17,
   "id": "b791685c-4663-4812-b781-2a475a9de792",
   "metadata": {
    "tags": []
   },
   "outputs": [
    {
     "name": "stdout",
     "output_type": "stream",
     "text": [
      "<FreqDist with 1440 samples and 4008 outcomes>\n"
     ]
    }
   ],
   "source": [
    "# Create a new FreqDist for filtered_words\n",
    "\n",
    "dist_words_filter = FreqDist(filtered_words)\n",
    "print(dist_words_filter)"
   ]
  },
  {
   "cell_type": "code",
   "execution_count": 18,
   "id": "e27454ea-73e5-454e-ad6e-6f59a9649dbb",
   "metadata": {
    "tags": []
   },
   "outputs": [
    {
     "data": {
      "image/png": "[encoded data removed]",
      "text/plain": [
       "<Figure size 800x300 with 1 Axes>"
      ]
     },
     "metadata": {},
     "output_type": "display_data"
    }
   ],
   "source": [
    "# Frequency Distribution Plot\n",
    "\n",
    "plt.figure(figsize=(8, 3))\n",
    "dist_words_filter.plot(10, cumulative = False)\n",
    "plt.show()"
   ]
  },
  {
   "cell_type": "code",
   "execution_count": 19,
   "id": "160ba9a0-3737-464f-80af-95ad64ebaf8d",
   "metadata": {
    "tags": []
   },
   "outputs": [
    {
     "data": {
      "text/plain": [
       "FreqDist({'(': 224, ')': 224, 'Alice': 158, 'Wonderland': 120, ',': 117, 'The': 80, '.': 71, \"'s\": 62, 'Disney': 59, '``': 36, ...})"
      ]
     },
     "execution_count": 19,
     "metadata": {},
     "output_type": "execute_result"
    }
   ],
   "source": [
    "dist_words_filter"
   ]
  },
  {
   "cell_type": "code",
   "execution_count": 20,
   "id": "943116d9-4044-41e8-b89d-c027ed3b580d",
   "metadata": {
    "tags": []
   },
   "outputs": [],
   "source": [
    "# Substitute all punctuations marks with a space \n",
    "\n",
    "sans_punc = re.sub(\"[^a-zA-Z]\",  # Search for all non-letters\n",
    "                          \" \",          # Replace all non-letters with spaces\n",
    "                          str(filtered_words))"
   ]
  },
  {
   "cell_type": "code",
   "execution_count": 22,
   "id": "4f1f530d-4a25-48f9-ae43-a3a59af84c56",
   "metadata": {
    "tags": []
   },
   "outputs": [
    {
     "name": "stdout",
     "output_type": "stream",
     "text": [
      "['Alice', 'Wonderland', 'franchise', 'Wikipedia', 'Jump', 'content', 'Main', 'menu', 'Main', 'menu', 'move', 'sidebar', 'hide', 'Navigation', 'Main', 'pageContentsCurrent', 'eventsRandom', 'articleAbout', 'WikipediaContact', 'usDonate', 'Contribute', 'HelpLearn', 'editCommunity', 'portalRecent', 'changesUpload', 'file', 'Search', 'Search', 'Create', 'account', 'Log', 'Personal', 'tools', 'Create', 'account', 'Log', 'Pages', 'logged', 'editors', 'learn', 'ContributionsTalk', 'Contents', 'move', 'sidebar', 'hide', 'Top', 'Films', 'Toggle', 'Films', 'subsection', 'Animated', 'films', 'Alice', 'Wonderland', 'Live', 'action', 'films', 'Alice', 'Wonderland', 'Alice', 'Through', 'Looking', 'Glass', 'TV', 'series', 'Toggle', 'TV', 'series', 'subsection', 'Adventures', 'Wonderland', 'Once', 'Upon', 'Time', 'Wonderland', 'Alice', 's', 'Wonderland', 'Bakery', 'Video', 'games', 'Toggle', 'Video', 'games', 'subsection', 'Alice', 'Wonderland', 'Kingdom', 'Hearts', 'series', 'Alice', 'Wonderland', 'Disney', 'Infinity', 'series', 'Disney', 'Magic', 'Kingdoms', 'Theme', 'park', 'attractions', 'rides', 'Toggle', 'Theme', 'park', 'attractions', 'rides', 'subsection', 'Alice', 'Wonderland', 'Maze', 'Alice', 's', 'Curious', 'Labyrinth', 'Mad', 'Tea', 'Party', 'Alice', 'Wonderland', 'ride', 'Mad', 'T', 'Party', 'Stage', 'version', 'Toggle', 'Stage', 'version', 'subsection', 'Alice', 'Wonderland', 'Jr', 'Music', 'Toggle', 'Music', 'subsection', 'Alice', 'Wonderland', 'soundtrack', 'Almost', 'Alice', 'References', 'Toggle', 'table', 'contents', 'Alice', 'Wonderland', 'franchise', 'language', 'Espa', 'ol', 'Edit', 'links', 'ArticleTalk', 'English', 'ReadEditView', 'history', 'Tools', 'Tools', 'move', 'sidebar', 'hide', 'Actions', 'ReadEditView', 'history', 'General', 'What', 'links', 'hereRelated', 'changesUpload', 'fileSpecial', 'pagesPermanent', 'linkPage', 'informationCite', 'pageGet', 'shortened', 'URLDownload', 'QR', 'codeWikidata', 'item', 'Print', 'export', 'Download', 'PDFPrintable', 'version', 'From', 'Wikipedia', 'free', 'encyclopedia', 'Disney', 'media', 'franchise', 'based', 'Alice', 'books', 'Lewis', 'Carroll', 'See', 'also', 'Portrayals', 'Alice', 'Wonderland', 'Disney', 'Alice', 'WonderlandAbove', 'A', 'logo', 'used', 'represent', 'animated', 'filmBelow', 'Logo', 'used', 'live', 'action', 'filmCreated', 'byWalt', 'DisneyOriginal', 'workAlice', 'Wonderland', 'OwnerThe', 'Walt', 'Disney', 'CompanyBased', 'onAlice', 's', 'Adventures', 'Wonderland', 'Through', 'Looking', 'Glassby', 'Lewis', 'CarrollFilms', 'televisionFilm', 'Alice', 'Wonderland', 'animated', 'Alice', 'Wonderland', 'live', 'action', 'Alice', 'Through', 'Looking', 'Glass', 'Television', 'series', 'Adventures', 'Wonderland', 'Once', 'Upon', 'Time', 'Wonderland', 'Alice', 's', 'Wonderland', 'Bakery', 'Theatrical', 'presentationsPlay', 'Alice', 'Wonderland', 'Jr', 'GamesVideo', 'game', 'Alice', 'Wonderland', 'Alice', 'Wonderland', 'Disney', 'Infinity', 'AudioSoundtrack', 'Alice', 'Wonderland', 'Alice', 'Wonderland', 'An', 'Original', 'Walt', 'Disney', 'Records', 'Soundtrack', 'Alice', 'Through', 'Looking', 'Glass', 'Original', 'Motion', 'Picture', 'Soundtrack', 'Original', 'musicAlmost', 'Alice', 'MiscellaneousTheme', 'park', 'attraction', 'Mad', 'Tea', 'Party', 'present', 'Alice', 'Wonderland', 'present', 'Alice', 's', 'Curious', 'Labyrinth', 'present', 'Mad', 'T', 'Party', 'Work', 'franchise', 's', 'characters', 'settings', 'appeared', 'part', 'crossover', 'Spin', 'off', 'TV', 'series', 'Once', 'Upon', 'Time', 'Alice', 'Wonderland', 'simply', 'Alice', 'Disney', 'media', 'franchise', 'commencing', 'theatrical', 'release', 'animated', 'film', 'Alice', 'Wonderland', 'The', 'film', 'adaptation', 'books', 'Lewis', 'Carroll', 'novel', 'Alice', 's', 'Adventures', 'Wonderland', 'sequel', 'Through', 'Looking', 'Glass', 'featured', 'character', 'Alice', 'A', 'live', 'action', 'film', 'directed', 'Tim', 'Burton', 'released', 'Films', 'edit', 'Film', 'U', 'S', 'release', 'date', 'Director', 'Screenwriter', 'Story', 'Producer', 'Animated', 'films', 'Alice', 'Wonderland', 'September', 'Clyde', 'Geronimi', 'Wilfred', 'Jackson', 'Hamilton', 'Luske', 'Winston', 'Hibler', 'Ted', 'Sears', 'Bill', 'Peet', 'Erdman', 'Penner', 'Joe', 'Rinaldi', 'Milt', 'Banta', 'Bill', 'Cottrell', 'Dick', 'Kelsey', 'Joe', 'Grant', 'Dick', 'Huemer', 'Del', 'Connell', 'Tom', 'Oreb', 'John', 'Walbridge', 'Walt', 'Disney', 'Ben', 'Sharpsteen', 'Live', 'action', 'films', 'Alice', 'Wonderland', 'March', 'Tim', 'Burton', 'Linda', 'Woolverton', 'Richard', 'D', 'Zanuck', 'Joe', 'Roth', 'Suzanne', 'Todd', 'Jennifer', 'Todd', 'Alice', 'Through', 'Looking', 'Glass', 'May', 'James', 'Bobin', 'Joe', 'Roth', 'Suzanne', 'Todd', 'Jennifer', 'Todd', 'Tim', 'Burton', 'Animated', 'films', 'edit', 'Alice', 'Wonderland', 'edit', 'Main', 'article', 'Alice', 'Wonderland', 'film', 'Alice', 'Wonderland', 'American', 'animated', 'fantasy', 'comedy', 'adventure', 'film', 'produced', 'Walt', 'Disney', 'Productions', 'based', 'primarily', 'Lewis', 'Carroll', 's', 'Alice', 's', 'Adventures', 'Wonderland', 'several', 'additional', 'elements', 'sequel', 'Through', 'Looking', 'Glass', 'The', 'film', 'released', 'New', 'York', 'City', 'London', 'July', 'features', 'voices', 'Kathryn', 'Beaumont', 'later', 'voiced', 'Wendy', 'Darling', 'film', 'Peter', 'Pan', 'Alice', 'Ed', 'Wynn', 'Mad', 'Hatter', 'The', 'theme', 'song', 'Alice', 'Wonderland', 'since', 'become', 'jazz', 'standard', 'Live', 'action', 'films', 'edit', 'Alice', 'Wonderland', 'edit', 'Main', 'article', 'Alice', 'Wonderland', 'film', 'Alice', 'Wonderland', 'American', 'fantasy', 'film', 'directed', 'Tim', 'Burton', 'written', 'Linda', 'Woolverton', 'Released', 'Walt', 'Disney', 'Pictures', 'film', 'stars', 'Mia', 'Wasikowska', 'Alice', 'Kingsleigh', 'Johnny', 'Depp', 'Anne', 'Hathaway', 'Helena', 'Bonham', 'Carter', 'The', 'film', 'shot', 'United', 'Kingdom', 'United', 'States', 'Alice', 'Through', 'Looking', 'Glass', 'edit', 'Main', 'article', 'Alice', 'Through', 'Looking', 'Glass', 'film', 'Alice', 'Through', 'Looking', 'Glass', 'American', 'fantasy', 'film', 'directed', 'James', 'Bobin', 'written', 'Linda', 'Woolverton', 'It', 'sequel', 'film', 'Alice', 'Wonderland', 'The', 'film', 'stars', 'Mia', 'Wasikowska', 'Johnny', 'Depp', 'Helena', 'Bonham', 'Carter', 'Anne', 'Hathaway', 'Sacha', 'Baron', 'Cohen', 'Rhys', 'Ifans', 'released', 'May', 'TV', 'series', 'edit', 'Adventures', 'Wonderland', 'edit', 'Main', 'article', 'Adventures', 'Wonderland', 'TV', 'series', 'Adventures', 'Wonderland', 'live', 'action', 'musical', 'television', 'series', 'based', 'Walt', 'Disney', 's', 'animated', 'film', 'Alice', 'Wonderland', 'aired', 'The', 'Disney', 'Channel', 'In', 'series', 'Alice', 'Elisabeth', 'Harnois', 'portrayed', 'girl', 'come', 'go', 'Wonderland', 'simply', 'walking', 'mirror', 'reference', 'Wonderland', 's', 'source', 'material', 'Lewis', 'Carroll', 's', 'Through', 'Looking', 'Glass', 'Once', 'Upon', 'Time', 'Wonderland', 'edit', 'Main', 'article', 'Once', 'Upon', 'Time', 'Wonderland', 'Once', 'Upon', 'Time', 'Wonderland', 'American', 'fantasy', 'drama', 'series', 'aired', 'ABC', 'October', 'April', 'It', 'created', 'Edward', 'Kitsis', 'Adam', 'Horowitz', 'Zack', 'Estrin', 'Jane', 'Espenson', 'ABC', 'Studios', 'Although', 'directly', 'based', 'Disney', 'film', 'primarily', 'Lewis', 'Carroll', 'novels', 'include', 'elements', 'inspired', 'Disney', 'version', 'The', 'series', 'spin', 'off', 'Once', 'Upon', 'Time', 'Alice', 's', 'Wonderland', 'Bakery', 'edit', 'Main', 'article', 'Alice', 's', 'Wonderland', 'Bakery', 'Alice', 's', 'Wonderland', 'Bakery', 'American', 'animated', 'television', 'series', 'produced', 'Disney', 'Television', 'Animation', 'aired', 'Disney', 'Junior', 'February', 'April', 'Video', 'games', 'edit', 'Alice', 'Wonderland', 'edit', 'Main', 'article', 'Alice', 'Wonderland', 'video', 'game', 'Alice', 'Wonderland', 'platform', 'video', 'game', 'developed', 'Digital', 'Eclipse', 'Software', 'published', 'Nintendo', 'Game', 'Boy', 'Color', 'It', 'released', 'North', 'America', 'October', 'The', 'game', 'follows', 'plot', 'animated', 'film', 'name', 'Kingdom', 'Hearts', 'series', 'edit', 'Wonderland', 'playable', 'world', 'Kingdom', 'Hearts', 'video', 'game', 'series', 'appearing', 'first', 'time', 'first', 'Kingdom', 'Hearts', 'returns', 'Kingdom', 'Hearts', 'Chain', 'Memories', 'Kingdom', 'Hearts', 'Days', 'Kingdom', 'Hearts', 'coded', 'digitized', 'version', 'world', 'originating', 'data', 'Jiminy', 'Cricket', 's', 'royal', 'journal', 'Kingdom', 'Hearts', 'Alice', 'also', 'major', 'character', 'overall', 'plot', 'first', 'game', 'due', 'role', 'one', 'seven', 'Princesses', 'Heart', 'Other', 'characters', 'movie', 'appear', 'include', 'Queen', 'Hearts', 'Cheshire', 'Cat', 'White', 'Rabbit', 'Doorknob', 'Card', 'Soldiers', 'All', 'except', 'Doorknob', 'also', 'appear', 'Chain', 'Memories', 'albeit', 'form', 'illusions', 'made', 'main', 'character', 's', 'memory', 'The', 'Mad', 'Hatter', 'March', 'Hare', 'appear', 'portrait', 'form', 'well', 'appearing', 'corporeal', 'form', 'Kingdom', 'Hearts', 'addition', 'Tweedle', 'Dee', 'Tweedle', 'Dum', 'Caterpillar', 'appears', 'non', 'official', 'game', 'Kingdom', 'Hearts', 'V', 'Cast', 'also', 'manga', 'adpatation', 'Kingdom', 'Hearts', 'Alice', 'Wonderland', 'edit', 'Main', 'article', 'Alice', 'Wonderland', 'video', 'game', 'Alice', 'Wonderland', 'action', 'adventure', 'video', 'game', 'published', 'Disney', 'Interactive', 'Studios', 'The', 'game', 'used', 'Wii', 'Nintendo', 'DS', 'Windows', 'PC', 'Zeebo', 'soundtrack', 'composed', 'video', 'game', 'music', 'composer', 'Richard', 'Jacques', 'Disney', 'Infinity', 'series', 'edit', 'The', 'film', 'referenced', 'throughout', 'Disney', 'Infinity', 'series', 'power', 'discs', 'in', 'game', 'toys', 'released', 'game', 'In', 'May', 'Alice', 'Mad', 'Hatter', 'Time', 'Alice', 'Through', 'Looking', 'Glass', 'added', 'Disney', 'Infinity', 'The', 'three', 'Alice', 'characters', 'penultimate', 'additions', 'series', 'Disney', 'cancelled', 'Disney', 'Infinity', 'franchise', 'earlier', 'month', 'Finding', 'Dory', 'playset', 'Dory', 'Nemo', 'figures', 'released', 'following', 'month', 'June', 'final', 'releases', 'Disney', 'Magic', 'Kingdoms', 'edit', 'The', 'world', 'builder', 'game', 'Disney', 'Magic', 'Kingdoms', 'includes', 'attraction', 'Mad', 'Tea', 'Party', 'since', 'launch', 'March', 'Alice', 's', 'Curious', 'Labyrinth', 'also', 'appears', 'part', 'environment', 'next', 'Fantasyland', 'area', 'During', 'limited', 'time', 'Event', 'focused', 'Alice', 'Wonderland', 'included', 'Alice', 'White', 'Rabbit', 'Mad', 'Hatter', 'March', 'Hare', 'Cheshire', 'Cat', 'Queen', 'Hearts', 'Caterpillar', 'playable', 'characters', 'along', 'attractions', 'Alice', 'Wonderland', 'The', 'Golden', 'Afternoon', 'The', 'Tweedle', 's', 'Wacky', 'Fairway', 'White', 'Rabbit', 's', 'House', 'characters', 'involved', 'new', 'storylines', 'Theme', 'park', 'attractions', 'rides', 'edit', 'Alice', 'Wonderland', 'Maze', 'edit', 'A', 'labyrinth', 'opened', 'Shangha', 'Disneyland', 'June', 'Park', 'It', 'based', 'Tim', 'Burton', 's', 'film', 'Alice', 's', 'Curious', 'Labyrinth', 'edit', 'Main', 'article', 'Alice', 's', 'Curious', 'Labyrinth', 'Alice', 's', 'Curious', 'Labyrinth', 'hedge', 'maze', 'attraction', 'Disneyland', 'Park', 'within', 'Disneyland', 'Paris', 'It', 'opened', 'Park', 'belongs', 'British', 'part', 'Fantasyland', 'Mad', 'Tea', 'Party', 'edit', 'Main', 'article', 'Mad', 'Tea', 'Party', 'Mad', 'Tea', 'Party', 'spinning', 'tea', 'cup', 'ride', 'five', 'Disneyland', 'style', 'theme', 'parks', 'The', 'ride', 'theme', 'inspired', 'Unbirthday', 'Party', 'scene', 'Alice', 'In', 'Wonderland', 'The', 'ride', 'gained', 'attention', 'years', 'number', 'people', 'get', 'motion', 'sickness', 'result', 'spinning', 'component', 'ride', 'Alice', 'Wonderland', 'ride', 'edit', 'Main', 'article', 'Alice', 'Wonderland', 'Disneyland', 'attraction', 'Alice', 'Wonderland', 'dark', 'ride', 'Fantasyland', 'Disneyland', 'Anaheim', 'California', 'Based', 'animated', 'adaptation', 'name', 'attraction', 'resides', 'next', 'second', 'ride', 'Mad', 'Tea', 'Party', 'based', 'scene', 'adaptation', 'The', 'presence', 'two', 'rides', 'based', 'film', 'unusual', 'Walt', 'Disney', 'said', 'regretted', 'making', 'lacked', 'connection', 'audience', 's', 'hearts', 'Mad', 'T', 'Party', 'edit', 'Main', 'article', 'Mad', 'T', 'Party', 'Mad', 'T', 'Party', 'show', 'Disney', 'California', 'Adventure', 'occurs', 'Hollywood', 'Studios', 'subsection', 'Hollywood', 'Land', 'section', 'park', 'Mad', 'T', 'Party', 'premiered', 'June', 'day', 'park', 're', 'dedicated', 'The', 'show', 'inspired', 'Tim', 'Burton', 's', 'Alice', 'Wonderland', 'Stage', 'version', 'edit', 'Alice', 'Wonderland', 'Jr', 'edit', 'Alice', 'Wonderland', 'Jr', 'one', 'act', 'stage', 'version', 'intended', 'middle', 'high', 'school', 'productions', 'It', 'includes', 'majority', 'film', 's', 'songs', 'others', 'including', 'Song', 'South', 's', 'Zip', 'a', 'Dee', 'Doo', 'Dah', 'two', 'new', 'reprises', 'I', 'm', 'Late', 'three', 'new', 'numbers', 'entitled', 'Ocean', 'Tears', 'Simon', 'Says', 'Who', 'Are', 'You', 'respectively', 'This', 'minute', 'version', 'owned', 'Music', 'Theatre', 'International', 'Broadway', 'Jr', 'Collection', 'Music', 'edit', 'Alice', 'Wonderland', 'soundtrack', 'edit', 'Alice', 'Wonderland', 'first', 'released', 'LP', 'record', 'July', 're', 'released', 'Audio', 'CD', 'Almost', 'Alice', 'edit', 'Main', 'article', 'Almost', 'Alice', 'Almost', 'Alice', 'concept', 'album', 'various', 'artists', 'music', 'inspired', 'Burton', 's', 'Alice', 'Wonderland', 'The', 'album', 'also', 'notable', 'featuring', 'songs', 'inspired', 'quotes', 'directly', 'Lewis', 'Carroll', 's', 'original', 'novel', 'The', 'album', 'released', 'Buena', 'Vista', 'Records', 'March', 'It', 'debuted', 'number', 'five', 'Billboard', 'References', 'edit', 'Kingdom', 'Hearts', 'Official', 'Page', 'Retrieved', 'July', 'Disney', 'Magic', 'Kingdoms', 'Official', 'Launch', 'Trailer', 'YouTube', 'March', 'Update', 'Alice', 'Wonderland', 'Livestream', 'YouTube', 'October', 'vteDisney', 's', 'Alice', 'Wonderland', 'Works', 'based', 'Alice', 'Wonderland', 'Films', 'Alice', 'Wonderland', 'Alice', 'Wonderland', 'accolades', 'Alice', 'Through', 'Looking', 'Glass', 'Television', 'Adventures', 'Wonderland', 'Once', 'Upon', 'Time', 'Wonderland', 'Alice', 's', 'Wonderland', 'Bakery', 'Amusement', 'parks', 'Mad', 'Tea', 'Party', 'Alice', 'Wonderland', 'Alice', 's', 'Curious', 'Labyrinth', 'Mad', 'T', 'Party', 'Music', 'Alice', 'Wonderland', 'Alice', 'Wonderland', 's', 'score', 'Almost', 'Alice', 'Alice', 'Follow', 'Me', 'Down', 'Tea', 'Party', 'Just', 'Like', 'Fire', 'Video', 'games', 'Alice', 'Paint', 'Adventure', 'Alice', 'Wonderland', 'Alice', 'Wonderland', 'Related', 'Mickey', 'Mousecapade', 'Disney', 's', 'Villains', 'Revenge', 'Kingdom', 'Hearts', 'Kingdom', 'Hearts', 'Chain', 'Memories', 'Coded', 'Days', 'Disney', 'Universe', 'Kinect', 'Disneyland', 'Adventures', 'Disney', 'Infinity', 'Disney', 'Magic', 'Kingdoms', 'Disney', 'Mirrorverse', 'Related', 'Tarrant', 'Hightopp', 'Unbirthday', 'A', 'Twisted', 'Tale', 'One', 'Hour', 'Wonderland', 'Disney', 's', 'Greatest', 'Villains', 'Descendants', 'The', 'Rise', 'Red', 'Alice', 'Comedies', 'Thru', 'Mirror', 'vteLewis', 'Carroll', 's', 'Alice', 'Alice', 's', 'Adventures', 'Wonderland', 'Through', 'Looking', 'Glass', 'UniverseCharactersAlice', 's', 'Adventuresin', 'Wonderland', 'Alice', 'portrayals', 'Bill', 'Lizard', 'Caterpillar', 'Cheshire', 'Cat', 'Dodo', 'Dormouse', 'Duchess', 'Gryphon', 'Hatter', 'Tarrant', 'Hightopp', 'King', 'Hearts', 'Knave', 'Hearts', 'March', 'Hare', 'Mock', 'Turtle', 'Mouse', 'Pat', 'Puppy', 'Queen', 'Hearts', 'White', 'Rabbit', 'Minor', 'characters', 'Through', 'theLooking', 'Glass', 'Bandersnatch', 'Humpty', 'Dumpty', 'Jubjub', 'bird', 'Red', 'King', 'Red', 'Queen', 'The', 'Sheep', 'The', 'Lion', 'Unicorn', 'Tweedledum', 'Tweedledee', 'White', 'King', 'White', 'Knight', 'White', 'Queen', 'Minor', 'characters', 'Locationsand', 'events', 'Wonderland', 'Looking', 'Glass', 'world', 'Unbirthday', 'Poems', 'All', 'golden', 'afternoon', 'How', 'Doth', 'Little', 'Crocodile', 'The', 'Mouse', 's', 'Tale', 'Twinkle', 'Twinkle', 'Little', 'Bat', 'You', 'Are', 'Old', 'Father', 'William', 'T', 'Voice', 'Lobster', 'Jabberwocky', 'Vorpal', 'sword', 'The', 'Walrus', 'Carpenter', 'Haddocks', 'Eyes', 'The', 'Mock', 'Turtle', 's', 'Song', 'The', 'Hunting', 'Snark', 'Related', 'Alice', 'Liddell', 'Alice', 'syndrome', 'Alice', 's', 'Shop', 'Illustrators', 'John', 'Tenniel', 'Theophilus', 'Carter', 'The', 'Annotated', 'Alice', 'Mischmasch', 'Translations', 'Alice', 's', 'Adventures', 'Wonderland', 'Through', 'Looking', 'Glass', 'AdaptationsStage', 'Alice', 'Wonderland', 'musical', 'Alice', 'Wonderland', 'opera', 'But', 'Never', 'Jam', 'Today', 'musical', 'Through', 'Looking', 'Glass', 'opera', 'Alice', 's', 'Adventures', 'Wonderland', 'ballet', 'Wonderland', 'musical', 'Peter', 'Alice', 'play', 'Wonder', 'land', 'musical', 'Alice', 's', 'Adventures', 'Under', 'Ground', 'opera', 'Alice', 'Heart', 'musical', 'Film', 'Alice', 'Comedies', 'Alice', 'Wonderland', 'Paris', 'Spanish', 'Alice', 'Last', 'Escapade', 'The', 'Care', 'Bears', 'Adventure', 'Wonderland', 'Czechoslovak', 'Australian', 'Malice', 'Wonderland', 'Alice', 'Murderland', 'Alice', 'Through', 'Looking', 'Glass', 'Come', 'Away', 'Alice', 'Land', 'Wonders', 'Alice', 'Through', 'Looking', 'Television', 'Alice', 'Wonderland', 'Alice', 'Wonderland', 'What', 's', 'Nice', 'Kid', 'like', 'You', 'Doing', 'Place', 'like', 'This', 'Alice', 'Wonderland', 'Alice', 'Through', 'Looking', 'Glass', 'TV', 'film', 'Fushigi', 'Kuni', 'Alice', 'TV', 'film', 'Adventures', 'Wonderland', 'Alice', 'Looking', 'Glass', 'Alice', 'Wonderland', 'Alice', 'Once', 'Upon', 'Time', 'Wonderland', 'Alice', 's', 'Wonderland', 'Bakery', 'Music', 'White', 'Rabbit', 'song', 'Do', 'n', 't', 'Come', 'Around', 'Here', 'No', 'More', 'music', 'video', 'Alice', 'Wonderland', 'Almost', 'Alice', 'Alice', 'Follow', 'Me', 'Down', 'Tea', 'Party', 'Alice', 'Through', 'Looking', 'Glass', 'Just', 'Like', 'Fire', 'Alice', 'song', 'Video', 'games', 'Through', 'Looking', 'Glass', 'Alice', 'Wonderland', 'M', 'rchen', 'Maze', 'Wonderland', 'Alice', 'An', 'Interactive', 'Museum', 'Alice', 'Paint', 'Adventure', 'Alice', 'Wonderland', 'American', 'McGee', 's', 'Alice', 'Kingdom', 'Hearts', 'Alice', 'Country', 'Hearts', 'Alice', 'Wonderland', 'Alice', 'Madness', 'Returns', 'Kingdom', 'Hearts', 'Sequels', 'A', 'New', 'Alice', 'Old', 'Wonderland', 'New', 'Adventures', 'Alice', 'Alice', 'Through', 'Needle', 's', 'Eye', 'Automated', 'Alice', 'Retellings', 'The', 'Nursery', 'Alice', 'Alice', 's', 'Adventures', 'Wonderland', 'Retold', 'Words', 'One', 'Syllable', 'American', 'McGee', 's', 'Alice', 'Alice', 'Verse', 'The', 'Lost', 'Rhymes', 'Wonderland', 'Alice', 'Madness', 'Returns', 'Parodies', 'The', 'Westminster', 'Alice', 'Clara', 'Blunderland', 'Lost', 'Blunderland', 'John', 'Bull', 's', 'Adventures', 'Fiscal', 'Wonderland', 'Alice', 'Blunderland', 'An', 'Iridescent', 'Dream', 'The', 'Looking', 'Glass', 'Wars', 'Imitations', 'Mopsa', 'Fairy', 'Davy', 'Goblin', 'The', 'Admiral', 's', 'Caravan', 'Gladys', 'Grammarland', 'Rollo', 'Emblemland', 'Alice', 'Orchestralia', 'Literary', 'Alice', 'Borderland', 'Alice', 'Country', 'Hearts', 'Alice', 'Murderland', 'Alice', 'Sunderland', 'Lost', 'Girls', 'Miyuki', 'chan', 'Wonderland', 'Pandora', 'Hearts', 'Tweedledum', 'Tweedledee', 'Unbirthday', 'A', 'Twisted', 'Tale', 'Related', 'Betty', 'Blunderland', 'animated', 'short', 'Thru', 'Mirror', 'animated', 'short', 'Jabberwocky', 'film', 'Jabberwocky', 'film', 'Donald', 'Mathmagic', 'Land', 'film', 'Malice', 'Wonderland', 'animated', 'short', 'Dungeonland', 'module', 'The', 'Land', 'Beyond', 'Magic', 'Mirror', 'module', 'Dreamchild', 'film', 'The', 'Hunting', 'Snark', 'musical', 'How', 'Doth', 'Little', 'Crocodile', 'artworks', 'Abby', 'Wonderland', 'film', 'Disney', 'franchise', 'Category', 'vteDisney', 'franchises', 'seriesWalt', 'DisneyStudiosWalt', 'DisneyAnimation', 'Studios', 'Dalmatians', 'Aladdin', 'Alice', 'Wonderland', 'Atlantis', 'Beauty', 'Beast', 'Cinderella', 'Donald', 'Duck', 'The', 'Emperor', 's', 'New', 'Groove', 'Fantasia', 'Frozen', 'Goofy', 'Hercules', 'The', 'Hunchback', 'Notre', 'Dame', 'The', 'Jungle', 'Book', 'Lilo', 'Stitch', 'The', 'Lion', 'King', 'The', 'Little', 'Mermaid', 'Mickey', 'Mouse', 'Oswald', 'Lucky', 'Rabbit', 'Mulan', 'Peter', 'Pan', 'Pocahontas', 'Prep', 'Landing', 'Sleeping', 'Beauty', 'Silly', 'Symphonies', 'Snow', 'White', 'Tangled', 'Tarzan', 'Winnie', 'Pooh', 'Wreck', 'It', 'Ralph', 'Zootopia', 'Walt', 'DisneyPictures', 'Air', 'Bud', 'Beverly', 'Hills', 'Chihuahua', 'The', 'Chronicles', 'Narnia', 'Dexter', 'Riley', 'Father', 'Bride', 'Flubber', 'Freaky', 'Friday', 'Fright', 'Night', 'Herbie', 'Hocus', 'Pocus', 'Honey', 'I', 'Shrunk', 'Kids', 'Maleficent', 'The', 'Mighty', 'Ducks', 'The', 'Muppets', 'National', 'Treasure', 'The', 'Parent', 'Trap', 'Pirates', 'Caribbean', 'The', 'Santa', 'Clause', 'The', 'Shaggy', 'Dog', 'Sister', 'Act', 'Step', 'Up', 'Tron', 'Turner', 'Hooch', 'Unbreakable', 'Who', 'Framed', 'Roger', 'Rabbit', 'Witch', 'Mountain', 'Pixar', 'Cars', 'Finding', 'Nemo', 'The', 'Incredibles', 'Inside', 'Out', 'Monsters', 'Inc', 'Toy', 'Story', 'Disneytoon', 'Studios', 'Tinker', 'Bell', 'Marvel', 'Studios', 'Marvel', 'Cinematic', 'Universe', 'Captain', 'America', 'Spider', 'Man', 'Lucasfilm', 'Indiana', 'Jones', 'Star', 'Wars', 'th', 'CenturyStudios', 'Alien', 'Nation', 'Alien', 'Alien', 'vs', 'Predator', 'Alvin', 'Chipmunks', 'Avatar', 'Behind', 'Enemy', 'Lines', 'Cheaper', 'Dozen', 'Diary', 'Wimpy', 'Kid', 'Die', 'Hard', 'Dr', 'Dolittle', 'Fantastic', 'Four', 'The', 'Fly', 'The', 'Hills', 'Have', 'Eyes', 'Home', 'Alone', 'Ice', 'Age', 'Independence', 'Day', 'Kingsman', 'Maze', 'Runner', 'Night', 'Museum', 'The', 'Omen', 'Percy', 'Jackson', 'Planet', 'Apes', 'Predator', 'Revenge', 'Nerds', 'Rio', 'The', 'Rocky', 'Horror', 'Show', 'Taken', 'World', 'Watches', 'X', 'Men', 'Disney', 'GeneralEntertainment', 'ContentDisney', 'Channel', 'The', 'Cheetah', 'Girls', 'Descendants', 'Halloweentown', 'High', 'School', 'Musical', 'Zombies', 'FX', 'Networks', 'American', 'Story', 'th', 'Television', 'Buffyverse', 'Firefly', 'M', 'A', 'S', 'H', 'The', 'Walking', 'Dead', 'international', 'The', 'X', 'Files', 'th', 'TVA', 'Family', 'Guy', 'The', 'Simpsons', 'Disney', 'Experiences', 'Pirates', 'Caribbean', 'Disney', 'ConsumerProducts', 'Disney', 'Fairies', 'Disney', 'Princess', 'Disney', 'Tsum', 'Tsum', 'Disney', 'Villains', 'Marvel', 'Universe', 'Mickey', 'Mouse', 'Friends', 'Donald', 'Duck', 'The', 'Muppets', 'Disney', 'PublishingWorldwide', 'A', 'Twisted', 'Tale', 'Kingdom', 'Keepers', 'W', 'I', 'T', 'C', 'H', 'Disney', 'Games', 'Marvel', 'Games', 'Hulk', 'Marvel', 'vs', 'Capcom', 'Marvel', 's', 'Spider', 'Man', 'Punisher', 'Spider', 'Man', 'X', 'Men', 'Pirates', 'Caribbean', 'video', 'games', 'The', 'Simpsons', 'video', 'games', 'Star', 'Wars', 'video', 'games', 'Battlefront', 'Knights', 'Old', 'Republic', 'Lego', 'Rogue', 'Squadron', 'Club', 'Penguin', 'Disney', 'Infinity', 'Disney', 's', 'Activity', 'Center', 'Disney', 's', 'Animated', 'Storybook', 'Disney', 's', 'Magical', 'Quest', 'Disney', 's', 'Print', 'Studio', 'Illusion', 'The', 'Incredible', 'Machine', 'Kim', 'Possible', 'Kingdom', 'Hearts', 'Monkey', 'Island', 'Spectrobes', 'Tap', 'Tap', 'Includes', 'Touchstone', 'Pictures', 'Hollywood', 'Pictures', 'Includes', 'Searchlight', 'Pictures', 'th', 'Century', 'Animation', 'related', 'assets', 'Shared', 'Walt', 'Disney', 'Pictures', 'Shared', 'th', 'Century', 'Studios', 'Shared', 'Marvel', 'Studios', 'Shared', 'Universal', 'Pictures', 'Shared', 'Sony', 'Pictures', 'Shared', 'Lionsgate', 'Shared', 'Square', 'Enix', 'Category', 'vteWalt', 'Disney', 'Animation', 'StudiosFeature', 'filmsReleased', 'Snow', 'White', 'Seven', 'Dwarfs', 'Pinocchio', 'Fantasia', 'Dumbo', 'Bambi', 'Saludos', 'Amigos', 'The', 'Three', 'Caballeros', 'Make', 'Mine', 'Music', 'Fun', 'Fancy', 'Free', 'Melody', 'Time', 'The', 'Adventures', 'Ichabod', 'Mr', 'Toad', 'Cinderella', 'Alice', 'Wonderland', 'Peter', 'Pan', 'Lady', 'Tramp', 'Sleeping', 'Beauty', 'One', 'Hundred', 'One', 'Dalmatians', 'The', 'Sword', 'Stone', 'The', 'Jungle', 'Book', 'The', 'Aristocats', 'Robin', 'Hood', 'The', 'Many', 'Adventures', 'Winnie', 'Pooh', 'The', 'Rescuers', 'The', 'Fox', 'Hound', 'The', 'Black', 'Cauldron', 'The', 'Great', 'Mouse', 'Detective', 'Oliver', 'Company', 'The', 'Little', 'Mermaid', 'The', 'Rescuers', 'Down', 'Under', 'Beauty', 'Beast', 'Aladdin', 'The', 'Lion', 'King', 'Pocahontas', 'The', 'Hunchback', 'Notre', 'Dame', 'Hercules', 'Mulan', 'Tarzan', 'Fantasia', 'Dinosaur', 'The', 'Emperor', 's', 'New', 'Groove', 'Atlantis', 'The', 'Lost', 'Empire', 'Lilo', 'Stitch', 'Treasure', 'Planet', 'Brother', 'Bear', 'Home', 'Range', 'Chicken', 'Little', 'Meet', 'Robinsons', 'Bolt', 'The', 'Princess', 'Frog', 'Tangled', 'Winnie', 'Pooh', 'Wreck', 'It', 'Ralph', 'Frozen', 'Big', 'Hero', 'Zootopia', 'Moana', 'Ralph', 'Breaks', 'Internet', 'Frozen', 'II', 'Raya', 'Last', 'Dragon', 'Encanto', 'Strange', 'World', 'Wish', 'Upcoming', 'Moana', 'Cancelled', 'My', 'Peoples', 'Associatedproductions', 'The', 'Reluctant', 'Dragon', 'Victory', 'Through', 'Air', 'Power', 'Song', 'South', 'So', 'Dear', 'My', 'Heart', 'Mary', 'Poppins', 'Bedknobs', 'Broomsticks', 'Pete', 's', 'Dragon', 'Who', 'Framed', 'Roger', 'Rabbit', 'Television', 'productionsTV', 'specials', 'Prep', 'Landing', 'Prep', 'Landing', 'Naughty', 'vs', 'Nice', 'TV', 'series', 'Baymax', 'Zootopia', 'Iw', 'j', 'PeopleExecutives', 'Edwin', 'Catmull', 'Roy', 'Conli', 'Roy', 'E', 'Disney', 'Walt', 'Disney', 'Don', 'Hahn', 'Jeffrey', 'Katzenberg', 'John', 'Lasseter', 'Jennifer', 'Lee', 'Peter', 'Schneider', 'Thomas', 'Schumacher', 'David', 'Stainton', 'Clark', 'Spencer', 'Disney', 'LegendsanimatorsDisney', 's', 'Nine', 'Old', 'Men', 'Les', 'Clark', 'Marc', 'Davis', 'Ollie', 'Johnston', 'Milt', 'Kahl', 'Ward', 'Kimball', 'Eric', 'Larson', 'John', 'Lounsbery', 'Wolfgang', 'Reitherman', 'Frank', 'Thomas', 'James', 'Algar', 'Ken', 'Anderson', 'Xavier', 'Atencio', 'Art', 'Babbitt', 'Grace', 'Bailey', 'Carl', 'Barks', 'Mary', 'Blair', 'Joyce', 'Carlson', 'Marge', 'Champion', 'Claude', 'Coats', 'Don', 'DaGradi', 'Virginia', 'Davis', 'Andreas', 'Deja', 'Norm', 'Ferguson', 'Eyvind', 'Earle', 'Clyde', 'Geronimi', 'Manuel', 'Gonzales', 'Floyd', 'Gottfredson', 'Yale', 'Gracey', 'Joe', 'Grant', 'David', 'Hand', 'Jack', 'Hannah', 'John', 'Hench', 'Dick', 'Huemer', 'Ub', 'Iwerks', 'Wilfred', 'Jackson', 'Steve', 'Jobs', 'Bill', 'Justice', 'Glen', 'Keane', 'Hamilton', 'Luske', 'Burny', 'Mattinson', 'Fred', 'Moore', 'Floyd', 'Norman', 'Bill', 'Peet', 'Walter', 'Peregoy', 'Joe', 'Ranft', 'Retta', 'Scott', 'Ben', 'Sharpsteen', 'Mel', 'Shaw', 'Ruthie', 'Tompson', 'Roy', 'Williams', 'Tyrus', 'WongRelated', 'topicsHistory', 'Disney', 'animators', 'strike', 'animators', 'strike', 'Disney', 'Renaissance', 'Methods', 'andtechnologies', 'Disney', 'Animation', 'The', 'Illusion', 'Life', 'Twelve', 'basic', 'principles', 'animation', 'Computer', 'Animation', 'Production', 'System', 'Documentaries', 'Frank', 'Ollie', 'The', 'Sweatbox', 'Dream', 'On', 'Silly', 'Dreamer', 'Waking', 'Sleeping', 'Beauty', 'Walt', 'El', 'Grupo', 'Miscellaneous', 'Alice', 'Comedies', 'Laugh', 'O', 'Gram', 'Studio', 'List', 'Walt', 'Disney', 'Animation', 'Studios', 'short', 'films', 'Oswald', 'Lucky', 'Rabbit', 'Mickey', 'Mouse', 'Silly', 'Symphonies', 'Donald', 'Duck', 'Pluto', 'Goofy', 'Academy', 'Award', 'Review', 'Disneytoon', 'Studios', 'List', 'Disney', 'theatrical', 'animated', 'features', 'unproduced', 'live', 'action', 'adaptations', 'List', 'Disney', 'animated', 'films', 'based', 'fairy', 'tales', 'Retrieved', 'https', 'en', 'wikipedia', 'org', 'w', 'index', 'php', 'title', 'Alice', 'in', 'Wonderland', 'franchise', 'oldid', 'Categories', 'Alice', 'Wonderland', 'franchise', 'Walt', 'Disney', 'Studios', 'division', 'franchisesWorks', 'based', 'Alice', 'WonderlandHidden', 'categories', 'Articles', 'short', 'descriptionShort', 'description', 'matches', 'Wikidata', 'This', 'page', 'last', 'edited', 'May', 'UTC', 'Text', 'available', 'Creative', 'Commons', 'Attribution', 'ShareAlike', 'License', 'additional', 'terms', 'may', 'apply', 'By', 'using', 'site', 'agree', 'Terms', 'Use', 'Privacy', 'Policy', 'Wikipedia', 'registered', 'trademark', 'Wikimedia', 'Foundation', 'Inc', 'non', 'profit', 'organization', 'Privacy', 'policy', 'About', 'Wikipedia', 'Disclaimers', 'Contact', 'Wikipedia', 'Code', 'Conduct', 'Developers', 'Statistics', 'Cookie', 'statement', 'Mobile', 'view', 'Toggle', 'limited', 'content', 'width']\n"
     ]
    }
   ],
   "source": [
    "# Word tokenization\n",
    "\n",
    "tokenized_word_2 = word_tokenize(sans_punc)\n",
    "print(tokenized_word_2)"
   ]
  },
  {
   "cell_type": "code",
   "execution_count": 23,
   "id": "95ba76fc-8efa-4c7c-bba6-654a333e58e3",
   "metadata": {
    "tags": []
   },
   "outputs": [],
   "source": [
    "# Create a new FreqDist\n",
    "\n",
    "dist_words_filter_2 = FreqDist(tokenized_word_2)"
   ]
  },
  {
   "cell_type": "code",
   "execution_count": 24,
   "id": "923fa04b-622a-4eff-b9b2-53525e5ee404",
   "metadata": {
    "tags": []
   },
   "outputs": [
    {
     "data": {
      "image/png": "[encoded data removed]",
      "text/plain": [
       "<Figure size 800x300 with 1 Axes>"
      ]
     },
     "metadata": {},
     "output_type": "display_data"
    }
   ],
   "source": [
    "# Frequency Distribution Plot\n",
    "\n",
    "plt.figure(figsize=(8, 3))\n",
    "dist_words_filter_2.plot(30, cumulative = False)\n",
    "plt.show()"
   ]
  },
  {
   "cell_type": "code",
   "execution_count": 25,
   "id": "816c5946-2699-4e7f-a335-9a1e63a7ffd7",
   "metadata": {
    "tags": []
   },
   "outputs": [
    {
     "data": {
      "text/plain": [
       "[('Alice', 170),\n",
       " ('Wonderland', 121),\n",
       " ('The', 80),\n",
       " ('s', 62),\n",
       " ('Disney', 61),\n",
       " ('film', 29),\n",
       " ('edit', 28),\n",
       " ('Hearts', 25),\n",
       " ('Through', 24),\n",
       " ('Looking', 24),\n",
       " ('Glass', 23),\n",
       " ('Adventures', 20),\n",
       " ('series', 19),\n",
       " ('Kingdom', 19),\n",
       " ('Mad', 19),\n",
       " ('Party', 18),\n",
       " ('Main', 16),\n",
       " ('game', 14),\n",
       " ('animated', 13),\n",
       " ('Walt', 13)]"
      ]
     },
     "execution_count": 25,
     "metadata": {},
     "output_type": "execute_result"
    }
   ],
   "source": [
    "dist_words_filter_2.most_common(20)"
   ]
  },
  {
   "cell_type": "markdown",
   "id": "2ee31e36-e5a3-4826-a42d-2441d3773d95",
   "metadata": {},
   "source": [
    "## POS tags with TextBlob"
   ]
  },
  {
   "cell_type": "code",
   "execution_count": 26,
   "id": "435dcd7d-f5ac-4935-8908-eff6550731ad",
   "metadata": {
    "tags": []
   },
   "outputs": [],
   "source": [
    "new_stopwords = [\"And\", \"Then\", 'n', 't', 's', 'The']"
   ]
  },
  {
   "cell_type": "code",
   "execution_count": 27,
   "id": "c8618084-ba01-4598-a9ad-e6f45e21f1f7",
   "metadata": {
    "tags": []
   },
   "outputs": [],
   "source": [
    "filtered = []\n",
    "for word in tokenized_word_2:\n",
    "    if word not in new_stopwords:\n",
    "        filtered.append(word)"
   ]
  },
  {
   "cell_type": "code",
   "execution_count": 28,
   "id": "ad3c68f3-dcf6-410e-987b-0018140d588b",
   "metadata": {
    "tags": []
   },
   "outputs": [
    {
     "name": "stdout",
     "output_type": "stream",
     "text": [
      "CPU times: total: 0 ns\n",
      "Wall time: 4.56 ms\n"
     ]
    }
   ],
   "source": [
    "%%time\n",
    "text = TextBlob(str(filtered))"
   ]
  },
  {
   "cell_type": "code",
   "execution_count": 30,
   "id": "021b1ed5-4f7e-48ea-8ea8-0f814233b8b5",
   "metadata": {
    "tags": []
   },
   "outputs": [],
   "source": [
    "tags_list = text.tags"
   ]
  },
  {
   "cell_type": "code",
   "execution_count": 31,
   "id": "6b7c0df6-60c4-45a0-8541-60b20e565b7c",
   "metadata": {
    "tags": []
   },
   "outputs": [
    {
     "data": {
      "text/plain": [
       "[('[', 'JJ'),\n",
       " (\"'Alice\", 'NNP'),\n",
       " (\"'\", 'POS'),\n",
       " (\"'Wonderland\", 'NNP'),\n",
       " (\"'\", 'POS'),\n",
       " (\"'Wikipedia\", 'NNP'),\n",
       " (\"'\", 'POS'),\n",
       " (\"'Jump\", 'NNP'),\n",
       " (\"'\", 'POS'),\n",
       " (\"'content\", 'NNP'),\n",
       " (\"'\", 'POS'),\n",
       " (\"'menu\", 'NNP'),\n",
       " (\"'\", 'POS'),\n",
       " (\"'menu\", 'NNP'),\n",
       " (\"'\", 'POS'),\n",
       " (\"'move\", 'NNP'),\n",
       " (\"'\", 'POS'),\n",
       " (\"'sidebar\", 'NNP'),\n",
       " (\"'\", 'POS'),\n",
       " (\"'hide\", 'NNP'),\n",
       " (\"'\", 'POS'),\n",
       " (\"'Navigation\", 'NN'),\n",
       " (\"'pageContentsCurrent\", 'NNP'),\n",
       " (\"'\", 'POS'),\n",
       " (\"'eventsRandom\", 'NNP'),\n",
       " (\"'\", 'POS'),\n",
       " (\"'articleAbout\", 'IN'),\n",
       " (\"'WikipediaContact\", 'NNP'),\n",
       " (\"'\", 'POS'),\n",
       " (\"'usDonate\", 'NNP'),\n",
       " (\"'\", 'POS'),\n",
       " (\"'HelpLearn\", 'NNP'),\n",
       " (\"'\", 'POS'),\n",
       " (\"'editCommunity\", 'NNP'),\n",
       " (\"'\", 'POS'),\n",
       " (\"'portalRecent\", 'NNP'),\n",
       " (\"'\", 'POS'),\n",
       " (\"'file\", 'IN'),\n",
       " (\"'Search\", 'NNP'),\n",
       " (\"'\", 'POS'),\n",
       " (\"'Search\", 'NNP'),\n",
       " (\"'\", 'POS'),\n",
       " (\"'Create\", 'NNP'),\n",
       " (\"'\", 'POS'),\n",
       " (\"'account\", 'NNP'),\n",
       " (\"'\", 'POS'),\n",
       " (\"'Log\", 'NNP'),\n",
       " (\"'\", 'POS'),\n",
       " (\"'Personal\", 'NNP'),\n",
       " (\"'\", 'POS'),\n",
       " (\"'tools\", 'NNS'),\n",
       " (\"'\", 'POS'),\n",
       " (\"'Create\", 'NNP'),\n",
       " (\"'\", 'POS'),\n",
       " (\"'account\", 'NNP'),\n",
       " (\"'\", 'POS'),\n",
       " (\"'Log\", 'NNP'),\n",
       " (\"'\", 'POS'),\n",
       " (\"'Pages\", 'NNS'),\n",
       " (\"'\", 'POS'),\n",
       " (\"'logged\", 'VBD'),\n",
       " (\"'editors\", 'NNS'),\n",
       " (\"'\", 'POS'),\n",
       " (\"'learn\", 'NNP'),\n",
       " (\"'\", 'POS'),\n",
       " (\"'Contents\", 'NNS'),\n",
       " (\"'\", 'POS'),\n",
       " (\"'move\", 'NNP'),\n",
       " (\"'\", 'POS'),\n",
       " (\"'sidebar\", 'NNP'),\n",
       " (\"'\", 'POS'),\n",
       " (\"'hide\", 'NNP'),\n",
       " (\"'\", 'POS'),\n",
       " (\"'Films\", 'NNP'),\n",
       " (\"'\", 'POS'),\n",
       " (\"'Toggle\", 'NNP'),\n",
       " (\"'\", 'POS'),\n",
       " (\"'Films\", 'NNS'),\n",
       " (\"'\", 'POS'),\n",
       " (\"'subsection\", 'NN'),\n",
       " (\"'Animated\", 'VBD'),\n",
       " (\"'films\", 'NNP'),\n",
       " (\"'\", 'POS'),\n",
       " (\"'Alice\", 'NNP'),\n",
       " (\"'\", 'POS'),\n",
       " (\"'Wonderland\", 'NNP'),\n",
       " (\"'\", 'POS'),\n",
       " (\"'Live\", 'CD'),\n",
       " (\"'action\", 'NNP'),\n",
       " (\"'\", 'POS'),\n",
       " (\"'films\", 'NNS'),\n",
       " (\"'\", 'POS'),\n",
       " (\"'Alice\", 'NNP'),\n",
       " (\"'\", 'POS'),\n",
       " (\"'Wonderland\", 'NNP'),\n",
       " (\"'\", 'POS'),\n",
       " (\"'Alice\", 'NNP'),\n",
       " (\"'\", 'POS'),\n",
       " (\"'Through\", 'IN'),\n",
       " (\"'Looking\", 'VBG'),\n",
       " (\"'Glass\", 'NNP'),\n",
       " (\"'\", 'POS'),\n",
       " (\"'TV\", 'NNP'),\n",
       " (\"'\", 'POS'),\n",
       " (\"'series\", 'NNS'),\n",
       " (\"'\", 'POS'),\n",
       " (\"'Toggle\", 'NNP'),\n",
       " (\"'\", 'POS'),\n",
       " (\"'TV\", 'NNP'),\n",
       " (\"'\", 'POS'),\n",
       " (\"'series\", 'NNS'),\n",
       " (\"'\", 'POS'),\n",
       " (\"'subsection\", 'NN'),\n",
       " (\"'Adventures\", 'NNS'),\n",
       " (\"'\", 'POS'),\n",
       " (\"'Wonderland\", 'NNP'),\n",
       " (\"'\", 'POS'),\n",
       " (\"'Once\", 'NN'),\n",
       " (\"'Time\", 'NNP'),\n",
       " (\"'\", 'POS'),\n",
       " (\"'Wonderland\", 'NNP'),\n",
       " (\"'\", 'POS'),\n",
       " (\"'Alice\", 'NNP'),\n",
       " (\"'\", 'POS'),\n",
       " (\"'Wonderland\", 'NNP'),\n",
       " (\"'\", 'POS'),\n",
       " (\"'Bakery\", 'NNP'),\n",
       " (\"'\", 'POS'),\n",
       " (\"'Video\", 'NNP'),\n",
       " (\"'\", 'POS'),\n",
       " (\"'games\", 'NNS'),\n",
       " (\"'\", 'POS'),\n",
       " (\"'Toggle\", 'NNP'),\n",
       " (\"'\", 'POS'),\n",
       " (\"'Video\", 'NNP'),\n",
       " (\"'\", 'POS'),\n",
       " (\"'games\", 'NNS'),\n",
       " (\"'\", 'POS'),\n",
       " (\"'subsection\", 'NN'),\n",
       " (\"'Alice\", 'NNP'),\n",
       " (\"'\", 'POS'),\n",
       " (\"'Wonderland\", 'NNP'),\n",
       " (\"'\", 'POS'),\n",
       " (\"'Kingdom\", 'NNP'),\n",
       " (\"'\", 'POS'),\n",
       " (\"'Hearts\", 'NNS'),\n",
       " (\"'\", 'POS'),\n",
       " (\"'series\", 'NNS'),\n",
       " (\"'\", 'POS'),\n",
       " (\"'Alice\", 'NNP'),\n",
       " (\"'\", 'POS'),\n",
       " (\"'Wonderland\", 'NNP'),\n",
       " (\"'\", 'POS'),\n",
       " (\"'Disney\", 'NNP'),\n",
       " (\"'\", 'POS'),\n",
       " (\"'Infinity\", 'NNP'),\n",
       " (\"'\", 'POS'),\n",
       " (\"'series\", 'NNS'),\n",
       " (\"'\", 'POS'),\n",
       " (\"'Disney\", 'NNP'),\n",
       " (\"'\", 'POS'),\n",
       " (\"'Magic\", 'NNP'),\n",
       " (\"'\", 'POS'),\n",
       " (\"'Kingdoms\", 'NNS'),\n",
       " (\"'\", 'POS'),\n",
       " (\"'park\", 'NNP'),\n",
       " (\"'\", 'POS'),\n",
       " (\"'attractions\", 'NNS'),\n",
       " (\"'\", 'POS'),\n",
       " (\"'rides\", 'NNS'),\n",
       " (\"'\", 'POS'),\n",
       " (\"'Toggle\", 'NNP'),\n",
       " (\"'\", 'POS'),\n",
       " (\"'park\", 'NNP'),\n",
       " (\"'\", 'POS'),\n",
       " (\"'attractions\", 'NNS'),\n",
       " (\"'\", 'POS'),\n",
       " (\"'rides\", 'NNS'),\n",
       " (\"'\", 'POS'),\n",
       " (\"'subsection\", 'NN'),\n",
       " (\"'Alice\", 'NNP'),\n",
       " (\"'\", 'POS'),\n",
       " (\"'Wonderland\", 'NNP'),\n",
       " (\"'\", 'POS'),\n",
       " (\"'Maze\", 'NNP'),\n",
       " (\"'\", 'POS'),\n",
       " (\"'Alice\", 'NNP'),\n",
       " (\"'\", 'POS'),\n",
       " (\"'Curious\", 'JJ'),\n",
       " (\"'Labyrinth\", 'NNP'),\n",
       " (\"'\", 'POS'),\n",
       " (\"'Mad\", 'NNP'),\n",
       " (\"'\", 'POS'),\n",
       " (\"'Tea\", 'NNP'),\n",
       " (\"'\", 'POS'),\n",
       " (\"'Alice\", 'NNP'),\n",
       " (\"'\", 'POS'),\n",
       " (\"'Wonderland\", 'NNP'),\n",
       " (\"'\", 'POS'),\n",
       " (\"'ride\", 'NNP'),\n",
       " (\"'\", 'POS'),\n",
       " (\"'Mad\", 'NNP'),\n",
       " (\"'\", 'POS'),\n",
       " (\"'T\", 'NNP'),\n",
       " (\"'\", 'POS'),\n",
       " (\"'Stage\", 'NN'),\n",
       " (\"'version\", 'NNP'),\n",
       " (\"'\", 'POS'),\n",
       " (\"'Toggle\", 'NNP'),\n",
       " (\"'\", 'POS'),\n",
       " (\"'Stage\", 'NN'),\n",
       " (\"'version\", 'NNP'),\n",
       " (\"'\", 'POS'),\n",
       " (\"'subsection\", 'NN'),\n",
       " (\"'Alice\", 'NNP'),\n",
       " (\"'\", 'POS'),\n",
       " (\"'Wonderland\", 'NNP'),\n",
       " (\"'\", 'POS'),\n",
       " (\"'Jr\", 'NNP'),\n",
       " (\"'\", 'POS'),\n",
       " (\"'Toggle\", 'NNP'),\n",
       " (\"'\", 'POS'),\n",
       " (\"'subsection\", 'NNP'),\n",
       " (\"'\", 'POS'),\n",
       " (\"'Alice\", 'NNP'),\n",
       " (\"'\", 'POS'),\n",
       " (\"'Wonderland\", 'NNP'),\n",
       " (\"'\", 'POS'),\n",
       " (\"'Almost\", 'FW'),\n",
       " (\"'\", 'POS'),\n",
       " (\"'Alice\", 'NNP'),\n",
       " (\"'\", 'POS'),\n",
       " (\"'References\", 'NNS'),\n",
       " (\"'\", 'POS'),\n",
       " (\"'Toggle\", 'NNP'),\n",
       " (\"'\", 'POS'),\n",
       " (\"'table\", 'JJ'),\n",
       " (\"'contents\", 'NNS'),\n",
       " (\"'\", 'POS'),\n",
       " (\"'Alice\", 'NNP'),\n",
       " (\"'\", 'POS'),\n",
       " (\"'Wonderland\", 'NNP'),\n",
       " (\"'\", 'POS'),\n",
       " (\"'language\", 'NN'),\n",
       " (\"'Espa\", 'NNP'),\n",
       " (\"'\", 'POS'),\n",
       " (\"'ol\", 'NNP'),\n",
       " (\"'\", 'POS'),\n",
       " (\"'Edit\", 'NNP'),\n",
       " (\"'\", 'POS'),\n",
       " (\"'links\", 'NNS'),\n",
       " (\"'\", 'POS'),\n",
       " (\"'ReadEditView\", 'NNP'),\n",
       " (\"'\", 'POS'),\n",
       " (\"'history\", 'NNP'),\n",
       " (\"'\", 'POS'),\n",
       " (\"'Tools\", 'NNS'),\n",
       " (\"'\", 'POS'),\n",
       " (\"'Tools\", 'NNS'),\n",
       " (\"'\", 'POS'),\n",
       " (\"'move\", 'NNP'),\n",
       " (\"'\", 'POS'),\n",
       " (\"'sidebar\", 'NNP'),\n",
       " (\"'\", 'POS'),\n",
       " (\"'hide\", 'NNP'),\n",
       " (\"'\", 'POS'),\n",
       " (\"'Actions\", 'NNS'),\n",
       " (\"'\", 'POS'),\n",
       " (\"'ReadEditView\", 'NNP'),\n",
       " (\"'\", 'POS'),\n",
       " (\"'history\", 'NNP'),\n",
       " (\"'\", 'POS'),\n",
       " (\"'General\", 'NNP'),\n",
       " (\"'\", 'POS'),\n",
       " (\"'What\", 'WP'),\n",
       " (\"'links\", 'NNS'),\n",
       " (\"'\", 'POS'),\n",
       " (\"'hereRelated\", 'VBD'),\n",
       " (\"'fileSpecial\", 'NNP'),\n",
       " (\"'\", 'POS'),\n",
       " (\"'pagesPermanent\", 'NNP'),\n",
       " (\"'\", 'POS'),\n",
       " (\"'linkPage\", 'NN'),\n",
       " (\"'informationCite\", 'NNP'),\n",
       " (\"'\", 'POS'),\n",
       " (\"'shortened\", 'VBD'),\n",
       " (\"'QR\", 'NNP'),\n",
       " (\"'\", 'POS'),\n",
       " (\"'codeWikidata\", 'NNP'),\n",
       " (\"'\", 'POS'),\n",
       " (\"'item\", 'NNP'),\n",
       " (\"'\", 'POS'),\n",
       " (\"'Print\", 'NNP'),\n",
       " (\"'\", 'POS'),\n",
       " (\"'export\", 'NNP'),\n",
       " (\"'\", 'POS'),\n",
       " (\"'PDFPrintable\", 'JJ'),\n",
       " (\"'version\", 'NNP'),\n",
       " (\"'\", 'POS'),\n",
       " (\"'From\", 'IN'),\n",
       " (\"'Wikipedia\", 'NNP'),\n",
       " (\"'\", 'POS'),\n",
       " (\"'encyclopedia\", 'NNP'),\n",
       " (\"'\", 'POS'),\n",
       " (\"'Disney\", 'NNP'),\n",
       " (\"'\", 'POS'),\n",
       " (\"'media\", 'NNP'),\n",
       " (\"'\", 'POS'),\n",
       " (\"'based\", 'VBD'),\n",
       " (\"'Alice\", 'NNP'),\n",
       " (\"'\", 'POS'),\n",
       " (\"'books\", 'NNS'),\n",
       " (\"'\", 'POS'),\n",
       " (\"'Lewis\", 'NNP'),\n",
       " (\"'\", 'POS'),\n",
       " (\"'Carroll\", 'NNP'),\n",
       " (\"'\", 'POS'),\n",
       " (\"'also\", 'NNP'),\n",
       " (\"'\", 'POS'),\n",
       " (\"'Portrayals\", 'NNS'),\n",
       " (\"'\", 'POS'),\n",
       " (\"'Alice\", 'NNP'),\n",
       " (\"'\", 'POS'),\n",
       " (\"'Wonderland\", 'NNP'),\n",
       " (\"'\", 'POS'),\n",
       " (\"'Disney\", 'NNP'),\n",
       " (\"'\", 'POS'),\n",
       " (\"'Alice\", 'NNP'),\n",
       " (\"'\", 'POS'),\n",
       " (\"'WonderlandAbove\", 'NNP'),\n",
       " (\"'\", 'POS'),\n",
       " ('A', 'NNP'),\n",
       " (\"'\", 'POS'),\n",
       " (\"'logo\", 'NNP'),\n",
       " (\"'\", 'POS'),\n",
       " (\"'used\", 'VBD'),\n",
       " (\"'represent\", 'NNP'),\n",
       " (\"'\", 'POS'),\n",
       " (\"'animated\", 'VBD'),\n",
       " (\"'filmBelow\", 'NNP'),\n",
       " (\"'\", 'POS'),\n",
       " (\"'Logo\", 'NNP'),\n",
       " (\"'\", 'POS'),\n",
       " (\"'used\", 'VBD'),\n",
       " (\"'live\", 'CD'),\n",
       " (\"'action\", 'NNP'),\n",
       " (\"'\", 'POS'),\n",
       " (\"'filmCreated\", 'VBD'),\n",
       " (\"'byWalt\", 'NNP'),\n",
       " (\"'\", 'POS'),\n",
       " (\"'DisneyOriginal\", 'NNP'),\n",
       " (\"'\", 'POS'),\n",
       " (\"'workAlice\", 'NNP'),\n",
       " (\"'\", 'POS'),\n",
       " (\"'Wonderland\", 'NNP'),\n",
       " (\"'\", 'POS'),\n",
       " (\"'OwnerThe\", 'NNP'),\n",
       " (\"'\", 'POS'),\n",
       " (\"'Walt\", 'NNP'),\n",
       " (\"'\", 'POS'),\n",
       " (\"'Disney\", 'NNP'),\n",
       " (\"'\", 'POS'),\n",
       " (\"'CompanyBased\", 'VBD'),\n",
       " (\"'onAlice\", 'NNP'),\n",
       " (\"'\", 'POS'),\n",
       " (\"'Adventures\", 'NNS'),\n",
       " (\"'\", 'POS'),\n",
       " (\"'Wonderland\", 'NNP'),\n",
       " (\"'\", 'POS'),\n",
       " (\"'Through\", 'IN'),\n",
       " (\"'Looking\", 'VBG'),\n",
       " (\"'Glassby\", 'NNP'),\n",
       " (\"'\", 'POS'),\n",
       " (\"'Lewis\", 'NNP'),\n",
       " (\"'\", 'POS'),\n",
       " (\"'CarrollFilms\", 'NNS'),\n",
       " (\"'\", 'POS'),\n",
       " (\"'televisionFilm\", 'NNP'),\n",
       " (\"'\", 'POS'),\n",
       " (\"'Alice\", 'NNP'),\n",
       " (\"'\", 'POS'),\n",
       " (\"'Wonderland\", 'NNP'),\n",
       " (\"'\", 'POS'),\n",
       " (\"'animated\", 'VBD'),\n",
       " (\"'Alice\", 'NNP'),\n",
       " (\"'\", 'POS'),\n",
       " (\"'Wonderland\", 'NNP'),\n",
       " (\"'\", 'POS'),\n",
       " (\"'live\", 'CD'),\n",
       " (\"'action\", 'NNP'),\n",
       " (\"'\", 'POS'),\n",
       " (\"'Alice\", 'NNP'),\n",
       " (\"'\", 'POS'),\n",
       " (\"'Through\", 'IN'),\n",
       " (\"'Looking\", 'VBG'),\n",
       " (\"'Glass\", 'NNP'),\n",
       " (\"'\", 'POS'),\n",
       " (\"'Television\", 'NN'),\n",
       " (\"'series\", 'NNS'),\n",
       " (\"'\", 'POS'),\n",
       " (\"'Adventures\", 'NNS'),\n",
       " (\"'\", 'POS'),\n",
       " (\"'Wonderland\", 'NNP'),\n",
       " (\"'\", 'POS'),\n",
       " (\"'Once\", 'NN'),\n",
       " (\"'Time\", 'NNP'),\n",
       " (\"'\", 'POS'),\n",
       " (\"'Wonderland\", 'NNP'),\n",
       " (\"'\", 'POS'),\n",
       " (\"'Alice\", 'NNP'),\n",
       " (\"'\", 'POS'),\n",
       " (\"'Wonderland\", 'NNP'),\n",
       " (\"'\", 'POS'),\n",
       " (\"'Bakery\", 'NNP'),\n",
       " (\"'\", 'POS'),\n",
       " (\"'Theatrical\", 'JJ'),\n",
       " (\"'Alice\", 'NNP'),\n",
       " (\"'\", 'POS'),\n",
       " (\"'Wonderland\", 'NNP'),\n",
       " (\"'\", 'POS'),\n",
       " (\"'Jr\", 'NNP'),\n",
       " (\"'\", 'POS'),\n",
       " (\"'GamesVideo\", 'NNP'),\n",
       " (\"'\", 'POS'),\n",
       " (\"'Alice\", 'NNP'),\n",
       " (\"'\", 'POS'),\n",
       " (\"'Wonderland\", 'NNP'),\n",
       " (\"'\", 'POS'),\n",
       " (\"'Alice\", 'NNP'),\n",
       " (\"'\", 'POS'),\n",
       " (\"'Wonderland\", 'NNP'),\n",
       " (\"'\", 'POS'),\n",
       " (\"'Disney\", 'NNP'),\n",
       " (\"'\", 'POS'),\n",
       " (\"'Infinity\", 'NNP'),\n",
       " (\"'\", 'POS'),\n",
       " (\"'Alice\", 'NNP'),\n",
       " (\"'\", 'POS'),\n",
       " (\"'Wonderland\", 'NNP'),\n",
       " (\"'\", 'POS'),\n",
       " (\"'Alice\", 'NNP'),\n",
       " (\"'\", 'POS'),\n",
       " (\"'Wonderland\", 'NNP'),\n",
       " (\"'\", 'POS'),\n",
       " (\"'An\", 'NNP'),\n",
       " (\"'\", 'POS'),\n",
       " (\"'Original\", 'NNP'),\n",
       " (\"'\", 'POS'),\n",
       " (\"'Walt\", 'NNP'),\n",
       " (\"'\", 'POS'),\n",
       " (\"'Disney\", 'NNP'),\n",
       " (\"'\", 'POS'),\n",
       " (\"'Records\", 'NNS'),\n",
       " (\"'\", 'POS'),\n",
       " (\"'Alice\", 'NNP'),\n",
       " (\"'\", 'POS'),\n",
       " (\"'Through\", 'IN'),\n",
       " (\"'Looking\", 'VBG'),\n",
       " (\"'Glass\", 'NNP'),\n",
       " (\"'\", 'POS'),\n",
       " (\"'Original\", 'NNP'),\n",
       " (\"'\", 'POS'),\n",
       " (\"'Motion\", 'NN'),\n",
       " (\"'Picture\", 'NN'),\n",
       " (\"'Original\", 'NNP'),\n",
       " (\"'\", 'POS'),\n",
       " (\"'musicAlmost\", 'FW'),\n",
       " (\"'\", 'POS'),\n",
       " (\"'Alice\", 'NNP'),\n",
       " (\"'\", 'POS'),\n",
       " (\"'park\", 'NNP'),\n",
       " (\"'\", 'POS'),\n",
       " (\"'attraction\", 'NN'),\n",
       " (\"'Mad\", 'NNP'),\n",
       " (\"'\", 'POS'),\n",
       " (\"'Tea\", 'NNP'),\n",
       " (\"'\", 'POS'),\n",
       " (\"'present\", 'NNP'),\n",
       " (\"'\", 'POS'),\n",
       " (\"'Alice\", 'NNP'),\n",
       " (\"'\", 'POS'),\n",
       " (\"'Wonderland\", 'NNP'),\n",
       " (\"'\", 'POS'),\n",
       " (\"'present\", 'NNP'),\n",
       " (\"'\", 'POS'),\n",
       " (\"'Alice\", 'NNP'),\n",
       " (\"'\", 'POS'),\n",
       " (\"'Curious\", 'JJ'),\n",
       " (\"'Labyrinth\", 'NNP'),\n",
       " (\"'\", 'POS'),\n",
       " (\"'present\", 'NNP'),\n",
       " (\"'\", 'POS'),\n",
       " (\"'Mad\", 'NNP'),\n",
       " (\"'\", 'POS'),\n",
       " (\"'T\", 'NNP'),\n",
       " (\"'\", 'POS'),\n",
       " (\"'Work\", 'NNP'),\n",
       " (\"'\", 'POS'),\n",
       " (\"'characters\", 'NNS'),\n",
       " (\"'\", 'POS'),\n",
       " (\"'settings\", 'NNS'),\n",
       " (\"'\", 'POS'),\n",
       " (\"'appeared\", 'VBD'),\n",
       " (\"'part\", 'NNP'),\n",
       " (\"'\", 'POS'),\n",
       " (\"'Spin\", 'NNP'),\n",
       " (\"'\", 'POS'),\n",
       " (\"'off\", 'NNP'),\n",
       " (\"'\", 'POS'),\n",
       " (\"'TV\", 'NNP'),\n",
       " (\"'\", 'POS'),\n",
       " (\"'series\", 'NNS'),\n",
       " (\"'\", 'POS'),\n",
       " (\"'Once\", 'NN'),\n",
       " (\"'Time\", 'NNP'),\n",
       " (\"'\", 'POS'),\n",
       " (\"'Alice\", 'NNP'),\n",
       " (\"'\", 'POS'),\n",
       " (\"'Wonderland\", 'NNP'),\n",
       " (\"'\", 'POS'),\n",
       " (\"'simply\", 'NNP'),\n",
       " (\"'\", 'POS'),\n",
       " (\"'Alice\", 'NNP'),\n",
       " (\"'\", 'POS'),\n",
       " (\"'Disney\", 'NNP'),\n",
       " (\"'\", 'POS'),\n",
       " (\"'media\", 'NNP'),\n",
       " (\"'\", 'POS'),\n",
       " (\"'commencing\", 'VBG'),\n",
       " (\"'theatrical\", 'JJ'),\n",
       " (\"'release\", 'NNP'),\n",
       " (\"'\", 'POS'),\n",
       " (\"'animated\", 'VBD'),\n",
       " (\"'film\", 'NNP'),\n",
       " (\"'\", 'POS'),\n",
       " (\"'Alice\", 'NNP'),\n",
       " (\"'\", 'POS'),\n",
       " (\"'Wonderland\", 'NNP'),\n",
       " (\"'\", 'POS'),\n",
       " (\"'film\", 'NNP'),\n",
       " (\"'\", 'POS'),\n",
       " (\"'adaptation\", 'NN'),\n",
       " (\"'books\", 'NNS'),\n",
       " (\"'\", 'POS'),\n",
       " (\"'Lewis\", 'NNP'),\n",
       " (\"'\", 'POS'),\n",
       " (\"'Carroll\", 'NNP'),\n",
       " (\"'\", 'POS'),\n",
       " (\"'novel\", 'NNP'),\n",
       " (\"'\", 'POS'),\n",
       " (\"'Alice\", 'NNP'),\n",
       " (\"'\", 'POS'),\n",
       " (\"'Adventures\", 'NNS'),\n",
       " (\"'\", 'POS'),\n",
       " (\"'Wonderland\", 'NNP'),\n",
       " (\"'\", 'POS'),\n",
       " (\"'sequel\", 'NNP'),\n",
       " (\"'\", 'POS'),\n",
       " (\"'Through\", 'IN'),\n",
       " (\"'Looking\", 'VBG'),\n",
       " (\"'Glass\", 'NNP'),\n",
       " (\"'\", 'POS'),\n",
       " (\"'featured\", 'VBD'),\n",
       " (\"'character\", 'NNP'),\n",
       " (\"'\", 'POS'),\n",
       " (\"'Alice\", 'NNP'),\n",
       " (\"'\", 'POS'),\n",
       " ('A', 'NNP'),\n",
       " (\"'\", 'POS'),\n",
       " (\"'live\", 'CD'),\n",
       " (\"'action\", 'NNP'),\n",
       " (\"'\", 'POS'),\n",
       " (\"'film\", 'NNP'),\n",
       " (\"'\", 'POS'),\n",
       " (\"'directed\", 'VBD'),\n",
       " (\"'Tim\", 'NNP'),\n",
       " (\"'\", 'POS'),\n",
       " (\"'Burton\", 'NNP'),\n",
       " (\"'\", 'POS'),\n",
       " (\"'released\", 'VBD'),\n",
       " (\"'Films\", 'NNP'),\n",
       " (\"'\", 'POS'),\n",
       " (\"'edit\", 'NNP'),\n",
       " (\"'\", 'POS'),\n",
       " (\"'Film\", 'NNP'),\n",
       " (\"'\", 'POS'),\n",
       " ('U', 'NNP'),\n",
       " (\"'\", 'POS'),\n",
       " (\"'S\", 'VBZ'),\n",
       " (\"'release\", 'NNP'),\n",
       " (\"'\", 'POS'),\n",
       " (\"'date\", 'NNP'),\n",
       " (\"'\", 'POS'),\n",
       " (\"'Director\", 'NNP'),\n",
       " (\"'\", 'POS'),\n",
       " (\"'Screenwriter\", 'NNP'),\n",
       " (\"'\", 'POS'),\n",
       " (\"'Story\", 'NNP'),\n",
       " (\"'\", 'POS'),\n",
       " (\"'Producer\", 'NNP'),\n",
       " (\"'\", 'POS'),\n",
       " (\"'Animated\", 'VBD'),\n",
       " (\"'films\", 'NNP'),\n",
       " (\"'\", 'POS'),\n",
       " (\"'Alice\", 'NNP'),\n",
       " (\"'\", 'POS'),\n",
       " (\"'Wonderland\", 'NNP'),\n",
       " (\"'\", 'POS'),\n",
       " (\"'September\", 'NNP'),\n",
       " (\"'\", 'POS'),\n",
       " (\"'Clyde\", 'NNP'),\n",
       " (\"'\", 'POS'),\n",
       " (\"'Geronimi\", 'NNP'),\n",
       " (\"'\", 'POS'),\n",
       " (\"'Wilfred\", 'VBD'),\n",
       " (\"'Jackson\", 'NNP'),\n",
       " (\"'\", 'POS'),\n",
       " (\"'Hamilton\", 'NNP'),\n",
       " (\"'\", 'POS'),\n",
       " (\"'Luske\", 'NNP'),\n",
       " (\"'\", 'POS'),\n",
       " (\"'Winston\", 'NNP'),\n",
       " (\"'\", 'POS'),\n",
       " (\"'Hibler\", 'NNP'),\n",
       " (\"'\", 'POS'),\n",
       " (\"'Ted\", 'NNP'),\n",
       " (\"'\", 'POS'),\n",
       " (\"'Sears\", 'NNS'),\n",
       " (\"'\", 'POS'),\n",
       " (\"'Bill\", 'NNP'),\n",
       " (\"'\", 'POS'),\n",
       " (\"'Peet\", 'NNP'),\n",
       " (\"'\", 'POS'),\n",
       " (\"'Erdman\", 'NNP'),\n",
       " (\"'\", 'POS'),\n",
       " (\"'Penner\", 'NNP'),\n",
       " (\"'\", 'POS'),\n",
       " (\"'Joe\", 'NNP'),\n",
       " (\"'\", 'POS'),\n",
       " (\"'Rinaldi\", 'NNP'),\n",
       " (\"'\", 'POS'),\n",
       " (\"'Banta\", 'NNP'),\n",
       " (\"'\", 'POS'),\n",
       " (\"'Bill\", 'NNP'),\n",
       " (\"'\", 'POS'),\n",
       " (\"'Cottrell\", 'NNP'),\n",
       " (\"'\", 'POS'),\n",
       " (\"'Dick\", 'NNP'),\n",
       " (\"'\", 'POS'),\n",
       " (\"'Kelsey\", 'NNP'),\n",
       " (\"'\", 'POS'),\n",
       " (\"'Joe\", 'NNP'),\n",
       " (\"'\", 'POS'),\n",
       " (\"'Grant\", 'NNP'),\n",
       " (\"'\", 'POS'),\n",
       " (\"'Dick\", 'NNP'),\n",
       " (\"'\", 'POS'),\n",
       " (\"'Del\", 'NNP'),\n",
       " (\"'\", 'POS'),\n",
       " (\"'Connell\", 'NNP'),\n",
       " (\"'\", 'POS'),\n",
       " (\"'Tom\", 'NNP'),\n",
       " (\"'\", 'POS'),\n",
       " (\"'Oreb\", 'NNP'),\n",
       " (\"'\", 'POS'),\n",
       " (\"'John\", 'NNP'),\n",
       " (\"'\", 'POS'),\n",
       " (\"'Walbridge\", 'NNP'),\n",
       " (\"'\", 'POS'),\n",
       " (\"'Walt\", 'NNP'),\n",
       " (\"'\", 'POS'),\n",
       " (\"'Disney\", 'NNP'),\n",
       " (\"'\", 'POS'),\n",
       " (\"'Ben\", 'NNP'),\n",
       " (\"'\", 'POS'),\n",
       " (\"'Live\", 'CD'),\n",
       " (\"'action\", 'NNP'),\n",
       " (\"'\", 'POS'),\n",
       " (\"'films\", 'NNS'),\n",
       " (\"'\", 'POS'),\n",
       " (\"'Alice\", 'NNP'),\n",
       " (\"'\", 'POS'),\n",
       " (\"'Wonderland\", 'NNP'),\n",
       " (\"'\", 'POS'),\n",
       " (\"'March\", 'NNP'),\n",
       " (\"'\", 'POS'),\n",
       " (\"'Tim\", 'NNP'),\n",
       " (\"'\", 'POS'),\n",
       " (\"'Burton\", 'NNP'),\n",
       " (\"'\", 'POS'),\n",
       " (\"'Linda\", 'NNP'),\n",
       " (\"'\", 'POS'),\n",
       " (\"'Woolverton\", 'NNP'),\n",
       " (\"'\", 'POS'),\n",
       " (\"'Richard\", 'NNP'),\n",
       " (\"'\", 'POS'),\n",
       " (\"'D\", 'NNP'),\n",
       " (\"'\", 'POS'),\n",
       " (\"'Zanuck\", 'NNP'),\n",
       " (\"'\", 'POS'),\n",
       " (\"'Joe\", 'NNP'),\n",
       " (\"'\", 'POS'),\n",
       " (\"'Roth\", 'NNP'),\n",
       " (\"'\", 'POS'),\n",
       " (\"'Suzanne\", 'NNP'),\n",
       " (\"'\", 'POS'),\n",
       " (\"'Todd\", 'NNP'),\n",
       " (\"'\", 'POS'),\n",
       " (\"'Todd\", 'NNP'),\n",
       " (\"'\", 'POS'),\n",
       " (\"'Alice\", 'NNP'),\n",
       " (\"'\", 'POS'),\n",
       " (\"'Through\", 'IN'),\n",
       " (\"'Looking\", 'VBG'),\n",
       " (\"'Glass\", 'NNP'),\n",
       " (\"'\", 'POS'),\n",
       " (\"'May\", 'NNP'),\n",
       " (\"'\", 'POS'),\n",
       " (\"'James\", 'NNS'),\n",
       " (\"'\", 'POS'),\n",
       " (\"'Bobin\", 'NNP'),\n",
       " (\"'\", 'POS'),\n",
       " (\"'Joe\", 'NNP'),\n",
       " (\"'\", 'POS'),\n",
       " (\"'Roth\", 'NNP'),\n",
       " (\"'\", 'POS'),\n",
       " (\"'Suzanne\", 'NNP'),\n",
       " (\"'\", 'POS'),\n",
       " (\"'Todd\", 'NNP'),\n",
       " (\"'\", 'POS'),\n",
       " (\"'Todd\", 'NNP'),\n",
       " (\"'\", 'POS'),\n",
       " (\"'Tim\", 'NNP'),\n",
       " (\"'\", 'POS'),\n",
       " (\"'Burton\", 'NNP'),\n",
       " (\"'\", 'POS'),\n",
       " (\"'Animated\", 'VBD'),\n",
       " (\"'films\", 'NNP'),\n",
       " (\"'\", 'POS'),\n",
       " (\"'edit\", 'NNP'),\n",
       " (\"'\", 'POS'),\n",
       " (\"'Alice\", 'NNP'),\n",
       " (\"'\", 'POS'),\n",
       " (\"'Wonderland\", 'NNP'),\n",
       " (\"'\", 'POS'),\n",
       " (\"'edit\", 'NNP'),\n",
       " (\"'\", 'POS'),\n",
       " (\"'article\", 'NNP'),\n",
       " (\"'\", 'POS'),\n",
       " (\"'Alice\", 'NNP'),\n",
       " (\"'\", 'POS'),\n",
       " (\"'Wonderland\", 'NNP'),\n",
       " (\"'\", 'POS'),\n",
       " (\"'film\", 'NNP'),\n",
       " (\"'\", 'POS'),\n",
       " (\"'Alice\", 'NNP'),\n",
       " (\"'\", 'POS'),\n",
       " (\"'Wonderland\", 'NNP'),\n",
       " (\"'\", 'POS'),\n",
       " (\"'American\", 'JJ'),\n",
       " (\"'animated\", 'VBD'),\n",
       " (\"'fantasy\", 'NNP'),\n",
       " (\"'\", 'POS'),\n",
       " (\"'comedy\", 'NNP'),\n",
       " (\"'\", 'POS'),\n",
       " (\"'adventure\", 'NN'),\n",
       " (\"'film\", 'NNP'),\n",
       " (\"'\", 'POS'),\n",
       " (\"'produced\", 'VBD'),\n",
       " (\"'Walt\", 'NNP'),\n",
       " (\"'\", 'POS'),\n",
       " (\"'Disney\", 'NNP'),\n",
       " (\"'\", 'POS'),\n",
       " (\"'Productions\", 'NNS'),\n",
       " (\"'\", 'POS'),\n",
       " (\"'based\", 'VBD'),\n",
       " (\"'primarily\", 'RB'),\n",
       " (\"'\", 'POS'),\n",
       " (\"'Lewis\", 'NNP'),\n",
       " (\"'\", 'POS'),\n",
       " (\"'Carroll\", 'NNP'),\n",
       " (\"'\", 'POS'),\n",
       " (\"'Alice\", 'NNP'),\n",
       " (\"'\", 'POS'),\n",
       " (\"'Adventures\", 'NNS'),\n",
       " (\"'\", 'POS'),\n",
       " (\"'Wonderland\", 'NNP'),\n",
       " (\"'\", 'POS'),\n",
       " (\"'several\", 'NNP'),\n",
       " (\"'\", 'POS'),\n",
       " (\"'additional\", 'NNP'),\n",
       " (\"'\", 'POS'),\n",
       " (\"'elements\", 'NNS'),\n",
       " (\"'\", 'POS'),\n",
       " (\"'sequel\", 'NNP'),\n",
       " (\"'\", 'POS'),\n",
       " (\"'Through\", 'IN'),\n",
       " (\"'Looking\", 'VBG'),\n",
       " (\"'Glass\", 'NNP'),\n",
       " (\"'\", 'POS'),\n",
       " (\"'film\", 'NNP'),\n",
       " (\"'\", 'POS'),\n",
       " (\"'released\", 'VBD'),\n",
       " (\"'New\", 'NNP'),\n",
       " (\"'\", 'POS'),\n",
       " (\"'York\", 'NNP'),\n",
       " (\"'\", 'POS'),\n",
       " (\"'City\", 'NNP'),\n",
       " (\"'\", 'POS'),\n",
       " (\"'London\", 'NNP'),\n",
       " (\"'\", 'POS'),\n",
       " (\"'July\", 'NNP'),\n",
       " (\"'\", 'POS'),\n",
       " (\"'features\", 'NNS'),\n",
       " (\"'\", 'POS'),\n",
       " (\"'voices\", 'NNS'),\n",
       " (\"'\", 'POS'),\n",
       " (\"'Kathryn\", 'NNP'),\n",
       " (\"'\", 'POS'),\n",
       " (\"'Beaumont\", 'NNP'),\n",
       " (\"'\", 'POS'),\n",
       " (\"'later\", 'NNP'),\n",
       " (\"'\", 'POS'),\n",
       " (\"'voiced\", 'VBD'),\n",
       " (\"'Wendy\", 'NNP'),\n",
       " (\"'\", 'POS'),\n",
       " (\"'Darling\", 'VBG'),\n",
       " (\"'film\", 'NNP'),\n",
       " (\"'\", 'POS'),\n",
       " (\"'Peter\", 'NNP'),\n",
       " (\"'\", 'POS'),\n",
       " (\"'Pan\", 'NNP'),\n",
       " (\"'\", 'POS'),\n",
       " (\"'Alice\", 'NNP'),\n",
       " (\"'\", 'POS'),\n",
       " (\"'Ed\", 'NNP'),\n",
       " (\"'\", 'POS'),\n",
       " (\"'Wynn\", 'NNP'),\n",
       " (\"'\", 'POS'),\n",
       " (\"'Mad\", 'NNP'),\n",
       " (\"'\", 'POS'),\n",
       " (\"'Hatter\", 'NNP'),\n",
       " (\"'\", 'POS'),\n",
       " (\"'song\", 'NNP'),\n",
       " (\"'\", 'POS'),\n",
       " (\"'Alice\", 'NNP'),\n",
       " (\"'\", 'POS'),\n",
       " (\"'Wonderland\", 'NNP'),\n",
       " (\"'\", 'POS'),\n",
       " (\"'since\", 'NN'),\n",
       " (\"'become\", 'NNP'),\n",
       " (\"'\", 'POS'),\n",
       " (\"'jazz\", 'NNP'),\n",
       " (\"'\", 'POS'),\n",
       " (\"'standard\", 'NNP'),\n",
       " (\"'\", 'POS'),\n",
       " (\"'Live\", 'CD'),\n",
       " (\"'action\", 'NNP'),\n",
       " (\"'\", 'POS'),\n",
       " (\"'films\", 'NNS'),\n",
       " (\"'\", 'POS'),\n",
       " (\"'edit\", 'NNP'),\n",
       " (\"'\", 'POS'),\n",
       " (\"'Alice\", 'NNP'),\n",
       " (\"'\", 'POS'),\n",
       " (\"'Wonderland\", 'NNP'),\n",
       " (\"'\", 'POS'),\n",
       " (\"'edit\", 'NNP'),\n",
       " (\"'\", 'POS'),\n",
       " (\"'article\", 'NNP'),\n",
       " (\"'\", 'POS'),\n",
       " (\"'Alice\", 'NNP'),\n",
       " (\"'\", 'POS'),\n",
       " (\"'Wonderland\", 'NNP'),\n",
       " (\"'\", 'POS'),\n",
       " (\"'film\", 'NNP'),\n",
       " (\"'\", 'POS'),\n",
       " (\"'Alice\", 'NNP'),\n",
       " (\"'\", 'POS'),\n",
       " (\"'Wonderland\", 'NNP'),\n",
       " (\"'\", 'POS'),\n",
       " (\"'American\", 'JJ'),\n",
       " (\"'fantasy\", 'NNP'),\n",
       " (\"'\", 'POS'),\n",
       " (\"'film\", 'NNP'),\n",
       " (\"'\", 'POS'),\n",
       " (\"'directed\", 'VBD'),\n",
       " (\"'Tim\", 'NNP'),\n",
       " (\"'\", 'POS'),\n",
       " (\"'Burton\", 'NNP'),\n",
       " (\"'\", 'POS'),\n",
       " (\"'Linda\", 'NNP'),\n",
       " (\"'\", 'POS'),\n",
       " (\"'Woolverton\", 'NNP'),\n",
       " (\"'\", 'POS'),\n",
       " (\"'Released\", 'VBD'),\n",
       " (\"'Walt\", 'NNP'),\n",
       " (\"'\", 'POS'),\n",
       " (\"'Disney\", 'NNP'),\n",
       " (\"'\", 'POS'),\n",
       " (\"'Pictures\", 'NNS'),\n",
       " (\"'\", 'POS'),\n",
       " (\"'film\", 'NNP'),\n",
       " (\"'\", 'POS'),\n",
       " (\"'stars\", 'NNS'),\n",
       " (\"'\", 'POS'),\n",
       " (\"'Mia\", 'NNP'),\n",
       " (\"'\", 'POS'),\n",
       " (\"'Wasikowska\", 'NNP'),\n",
       " (\"'\", 'POS'),\n",
       " (\"'Alice\", 'NNP'),\n",
       " (\"'\", 'POS'),\n",
       " (\"'Kingsleigh\", 'NNP'),\n",
       " (\"'\", 'POS'),\n",
       " (\"'Johnny\", 'NNP'),\n",
       " (\"'\", 'POS'),\n",
       " (\"'Depp\", 'NNP'),\n",
       " (\"'\", 'POS'),\n",
       " (\"'Anne\", 'NNP'),\n",
       " (\"'\", 'POS'),\n",
       " (\"'Hathaway\", 'NNP'),\n",
       " (\"'\", 'POS'),\n",
       " (\"'Helena\", 'NNP'),\n",
       " (\"'\", 'POS'),\n",
       " (\"'Bonham\", 'NNP'),\n",
       " (\"'\", 'POS'),\n",
       " (\"'Carter\", 'NNP'),\n",
       " (\"'\", 'POS'),\n",
       " (\"'film\", 'NNP'),\n",
       " (\"'\", 'POS'),\n",
       " (\"'shot\", 'NNP'),\n",
       " (\"'\", 'POS'),\n",
       " (\"'United\", 'VBD'),\n",
       " (\"'Kingdom\", 'NNP'),\n",
       " (\"'\", 'POS'),\n",
       " (\"'United\", 'VBD'),\n",
       " (\"'States\", 'VBZ'),\n",
       " (\"'\", 'POS'),\n",
       " (\"'Alice\", 'NNP'),\n",
       " (\"'\", 'POS'),\n",
       " (\"'Through\", 'IN'),\n",
       " (\"'Looking\", 'VBG'),\n",
       " (\"'Glass\", 'NNP'),\n",
       " (\"'\", 'POS'),\n",
       " (\"'edit\", 'NNP'),\n",
       " (\"'\", 'POS'),\n",
       " (\"'article\", 'NNP'),\n",
       " (\"'\", 'POS'),\n",
       " (\"'Alice\", 'NNP'),\n",
       " (\"'\", 'POS'),\n",
       " (\"'Through\", 'IN'),\n",
       " (\"'Looking\", 'VBG'),\n",
       " (\"'Glass\", 'NNP'),\n",
       " (\"'\", 'POS'),\n",
       " (\"'film\", 'NNP'),\n",
       " (\"'\", 'POS'),\n",
       " (\"'Alice\", 'NNP'),\n",
       " (\"'\", 'POS'),\n",
       " (\"'Through\", 'IN'),\n",
       " (\"'Looking\", 'VBG'),\n",
       " (\"'Glass\", 'NNP'),\n",
       " (\"'\", 'POS'),\n",
       " (\"'American\", 'JJ'),\n",
       " (\"'fantasy\", 'NNP'),\n",
       " (\"'\", 'POS'),\n",
       " (\"'film\", 'NNP'),\n",
       " (\"'\", 'POS'),\n",
       " (\"'directed\", 'VBD'),\n",
       " (\"'James\", 'NNS'),\n",
       " (\"'\", 'POS'),\n",
       " (\"'Bobin\", 'NNP'),\n",
       " (\"'\", 'POS'),\n",
       " (\"'Linda\", 'NNP'),\n",
       " (\"'\", 'POS'),\n",
       " (\"'Woolverton\", 'NNP'),\n",
       " (\"'\", 'POS'),\n",
       " (\"'It\", 'NNP'),\n",
       " (\"'\", 'POS'),\n",
       " (\"'sequel\", 'NNP'),\n",
       " (\"'\", 'POS'),\n",
       " (\"'film\", 'NNP'),\n",
       " (\"'\", 'POS'),\n",
       " (\"'Alice\", 'NNP'),\n",
       " (\"'\", 'POS'),\n",
       " (\"'Wonderland\", 'NNP'),\n",
       " (\"'\", 'POS'),\n",
       " (\"'film\", 'NNP'),\n",
       " (\"'\", 'POS'),\n",
       " (\"'stars\", 'NNS'),\n",
       " (\"'\", 'POS'),\n",
       " (\"'Mia\", 'NNP'),\n",
       " (\"'\", 'POS'),\n",
       " (\"'Wasikowska\", 'NNP'),\n",
       " (\"'\", 'POS'),\n",
       " (\"'Johnny\", 'NNP'),\n",
       " (\"'\", 'POS'),\n",
       " (\"'Depp\", 'NNP'),\n",
       " (\"'\", 'POS'),\n",
       " (\"'Helena\", 'NNP'),\n",
       " (\"'\", 'POS'),\n",
       " ...]"
      ]
     },
     "execution_count": 31,
     "metadata": {},
     "output_type": "execute_result"
    }
   ],
   "source": [
    "tags_list"
   ]
  },
  {
   "cell_type": "code",
   "execution_count": 32,
   "id": "1c8b77af-4a1a-4730-abe1-7a429e12c1d4",
   "metadata": {
    "tags": []
   },
   "outputs": [],
   "source": [
    "df_text = pd.DataFrame(tags_list)\n",
    "df_text.columns = ['Words', \"Word type\"]"
   ]
  },
  {
   "cell_type": "code",
   "execution_count": 33,
   "id": "5f91bf31-87a3-42fa-91b8-d5d1768b774a",
   "metadata": {
    "tags": []
   },
   "outputs": [],
   "source": [
    "df_t = df_text.groupby('Word type').count().reset_index()\n",
    "top20 = df_t.nlargest(20, 'Words')"
   ]
  },
  {
   "cell_type": "code",
   "execution_count": 34,
   "id": "8156b372-e743-481c-aa53-0b5da33b8eeb",
   "metadata": {
    "tags": []
   },
   "outputs": [
    {
     "data": {
      "image/png": "[encoded data removed]",
      "text/plain": [
       "<Figure size 1000x500 with 1 Axes>"
      ]
     },
     "metadata": {},
     "output_type": "display_data"
    }
   ],
   "source": [
    "plt.figure(figsize = (10, 5))\n",
    "with sns.dark_palette(\"xkcd:blue\", 20):\n",
    "    sns.barplot(x = \"Words\", y = \"Word type\",\n",
    "    saturation = 0.9, data = top20).set_title(\"Alice in Wonderland - top 20 word types used\")"
   ]
  },
  {
   "cell_type": "code",
   "execution_count": 35,
   "id": "089f79f0-a02d-42cd-afc1-de2066b4ef73",
   "metadata": {
    "tags": []
   },
   "outputs": [],
   "source": [
    "# def word_analysis(word_type):\n",
    "#     filtered = [row for row in my_list if str(word_type) in row[1]]\n",
    "#     print(\"filtered for \" + word_type)\n",
    "#     df = pd.DataFrame(filtered)\n",
    "#     df.columns = [\"Word\", \"Occurences\"]\n",
    "#     x=df.groupby('Word').count().reset_index()\n",
    "#     y=x.sort_values(by=['Occurences'], ascending=False)\n",
    "#     top10=y.nlargest(10, 'Occurences')\n",
    "#     plt.figure(figsize=(10, 5))\n",
    "#     sns.barplot(x=\"Word\", y=\"Occurences\", palette=\"rocket\", saturation=0.9, data=top10).set_title(\"Lord of the rings - most frequently used \"+ word_type +\" type word\")"
   ]
  },
  {
   "cell_type": "markdown",
   "id": "97382525-6eef-4d1f-a8ee-2b4b879555cb",
   "metadata": {},
   "source": [
    "### Nouns"
   ]
  },
  {
   "cell_type": "code",
   "execution_count": 36,
   "id": "4654dd6c-2c35-4860-8494-e20c4c561e24",
   "metadata": {
    "tags": []
   },
   "outputs": [],
   "source": [
    "df = df_text[(df_text['Word type'] == \"NN\") | (df_text['Word type'] == \"NNS\") | (df_text['Word type'] == \"NNP\")]\n",
    "df.columns = [\"Word\", \"Occurences\"]\n",
    "x = df.groupby('Word').count().reset_index()\n",
    "y = x.sort_values(by = ['Occurences'], ascending=False)\n",
    "top10 = y.nlargest(10, 'Occurences')"
   ]
  },
  {
   "cell_type": "code",
   "execution_count": 37,
   "id": "0ddd5ad7-94a3-4de6-92df-5c7eedff386c",
   "metadata": {
    "tags": []
   },
   "outputs": [
    {
     "data": {
      "text/html": [
       "<div>\n",
       "<style scoped>\n",
       "    .dataframe tbody tr th:only-of-type {\n",
       "        vertical-align: middle;\n",
       "    }\n",
       "\n",
       "    .dataframe tbody tr th {\n",
       "        vertical-align: top;\n",
       "    }\n",
       "\n",
       "    .dataframe thead th {\n",
       "        text-align: right;\n",
       "    }\n",
       "</style>\n",
       "<table border=\"1\" class=\"dataframe\">\n",
       "  <thead>\n",
       "    <tr style=\"text-align: right;\">\n",
       "      <th></th>\n",
       "      <th>Word</th>\n",
       "      <th>Occurences</th>\n",
       "    </tr>\n",
       "  </thead>\n",
       "  <tbody>\n",
       "    <tr>\n",
       "      <th>16</th>\n",
       "      <td>'Alice</td>\n",
       "      <td>170</td>\n",
       "    </tr>\n",
       "    <tr>\n",
       "      <th>661</th>\n",
       "      <td>'Wonderland</td>\n",
       "      <td>121</td>\n",
       "    </tr>\n",
       "    <tr>\n",
       "      <th>155</th>\n",
       "      <td>'Disney</td>\n",
       "      <td>61</td>\n",
       "    </tr>\n",
       "    <tr>\n",
       "      <th>752</th>\n",
       "      <td>'film</td>\n",
       "      <td>29</td>\n",
       "    </tr>\n",
       "    <tr>\n",
       "      <th>737</th>\n",
       "      <td>'edit</td>\n",
       "      <td>28</td>\n",
       "    </tr>\n",
       "    <tr>\n",
       "      <th>267</th>\n",
       "      <td>'Hearts</td>\n",
       "      <td>25</td>\n",
       "    </tr>\n",
       "    <tr>\n",
       "      <th>238</th>\n",
       "      <td>'Glass</td>\n",
       "      <td>23</td>\n",
       "    </tr>\n",
       "    <tr>\n",
       "      <th>10</th>\n",
       "      <td>'Adventures</td>\n",
       "      <td>20</td>\n",
       "    </tr>\n",
       "    <tr>\n",
       "      <th>381</th>\n",
       "      <td>'Mad</td>\n",
       "      <td>19</td>\n",
       "    </tr>\n",
       "    <tr>\n",
       "      <th>855</th>\n",
       "      <td>'series</td>\n",
       "      <td>19</td>\n",
       "    </tr>\n",
       "  </tbody>\n",
       "</table>\n",
       "</div>"
      ],
      "text/plain": [
       "            Word  Occurences\n",
       "16        'Alice         170\n",
       "661  'Wonderland         121\n",
       "155      'Disney          61\n",
       "752        'film          29\n",
       "737        'edit          28\n",
       "267      'Hearts          25\n",
       "238       'Glass          23\n",
       "10   'Adventures          20\n",
       "381         'Mad          19\n",
       "855      'series          19"
      ]
     },
     "execution_count": 37,
     "metadata": {},
     "output_type": "execute_result"
    }
   ],
   "source": [
    "top10"
   ]
  },
  {
   "cell_type": "code",
   "execution_count": 38,
   "id": "f636f2b0-f1f4-4531-9704-3901c6ae43ab",
   "metadata": {
    "tags": []
   },
   "outputs": [
    {
     "data": {
      "image/png": "[encoded data removed]",
      "text/plain": [
       "<Figure size 1000x500 with 1 Axes>"
      ]
     },
     "metadata": {},
     "output_type": "display_data"
    }
   ],
   "source": [
    "plt.figure(figsize=(10, 5))\n",
    "with sns.dark_palette(\"xkcd:blue\", 10):\n",
    "    sns.barplot(x=\"Word\", y=\"Occurences\",\n",
    "    saturation=0.9, data = top10).set_title(\"Alice in Wonderland - most frequently used nouns\")"
   ]
  },
  {
   "cell_type": "markdown",
   "id": "f0f64ab0-d493-4d03-9739-54694d28c6d6",
   "metadata": {},
   "source": [
    "## Verbs"
   ]
  },
  {
   "cell_type": "code",
   "execution_count": 39,
   "id": "feb6d2bd-bb7e-4029-88a9-2e4ffbcb5ef4",
   "metadata": {
    "tags": []
   },
   "outputs": [],
   "source": [
    "df = df_text[(df_text['Word type'] == \"VB\")  | (df_text['Word type'] == \"VBD\")]\n",
    "df.columns = [\"Word\", \"Occurences\"]\n",
    "x = df.groupby('Word').count().reset_index()\n",
    "y = x.sort_values(by = ['Occurences'], ascending=False)\n",
    "top10 = y.nlargest(10, 'Occurences')"
   ]
  },
  {
   "cell_type": "code",
   "execution_count": 41,
   "id": "caeef752-0764-4347-ae7d-41ba2d0b014a",
   "metadata": {
    "tags": []
   },
   "outputs": [
    {
     "data": {
      "image/png": "[encoded data removed]",
      "text/plain": [
       "<Figure size 1000x500 with 1 Axes>"
      ]
     },
     "metadata": {},
     "output_type": "display_data"
    }
   ],
   "source": [
    "plt.figure(figsize = (10, 5))\n",
    "with sns.dark_palette(\"xkcd:red\", 10):\n",
    "    sns.barplot(x = \"Word\", y = \"Occurences\",\n",
    "    saturation = 0.9, data = top10).set_title(\"Alice in Wonderland - most frequently used verbs\")"
   ]
  },
  {
   "cell_type": "markdown",
   "id": "baf6b0d9-d9cd-425f-b2fa-9efb10b4af9a",
   "metadata": {},
   "source": [
    "# Adjectives"
   ]
  },
  {
   "cell_type": "code",
   "execution_count": 42,
   "id": "0b3e8721-15e5-4f37-b8cd-2f71b30ef956",
   "metadata": {
    "tags": []
   },
   "outputs": [],
   "source": [
    "df = df_text[df_text['Word type'] == \"JJ\"]\n",
    "df.columns = [\"Word\", \"Occurences\"]\n",
    "x = df.groupby('Word').count().reset_index()\n",
    "y = x.sort_values(by=['Occurences'], ascending=False)\n",
    "top10 = y.nlargest(10, 'Occurences')"
   ]
  },
  {
   "cell_type": "code",
   "execution_count": 43,
   "id": "848ad785-4488-4e77-884d-a5707cce67eb",
   "metadata": {
    "tags": []
   },
   "outputs": [
    {
     "data": {
      "image/png": "[encoded data removed]",
      "text/plain": [
       "<Figure size 1000x500 with 1 Axes>"
      ]
     },
     "metadata": {},
     "output_type": "display_data"
    }
   ],
   "source": [
    "plt.figure(figsize=(10, 5))\n",
    "with sns.dark_palette(\"xkcd:blue\", 10):\n",
    "    sns.barplot(x=\"Word\", y=\"Occurences\",\n",
    "    saturation=0.9, data=top10).set_title(\"Alice in Wonderland - most frequently used adjectives\")"
   ]
  },
  {
   "cell_type": "markdown",
   "id": "3754e881-7fdd-4224-b112-8f6b26ec0b96",
   "metadata": {},
   "source": [
    "# Creating character occurences"
   ]
  },
  {
   "cell_type": "code",
   "execution_count": 44,
   "id": "1c76c0e0-4a07-499f-a505-295fbf80b7b3",
   "metadata": {
    "tags": []
   },
   "outputs": [
    {
     "name": "stdout",
     "output_type": "stream",
     "text": [
      "Alice Wonderland franchise Wikipedia Jump content Main menu Main menu move sidebar hide Navigation Main pageContentsCurrent eventsRandom articleAbout WikipediaContact usDonate Contribute HelpLearn editCommunity portalRecent changesUpload file Search Search Create account Log Personal tools Create account Log Pages logged editors learn ContributionsTalk Contents move sidebar hide Top Films Toggle Films subsection Animated films Alice Wonderland Live action films Alice Wonderland Alice Through Looking Glass TV series Toggle TV series subsection Adventures Wonderland Once Upon Time Wonderland Alice Wonderland Bakery Video games Toggle Video games subsection Alice Wonderland Kingdom Hearts series Alice Wonderland Disney Infinity series Disney Magic Kingdoms Theme park attractions rides Toggle Theme park attractions rides subsection Alice Wonderland Maze Alice Curious Labyrinth Mad Tea Party Alice Wonderland ride Mad T Party Stage version Toggle Stage version subsection Alice Wonderland Jr Music Toggle Music subsection Alice Wonderland soundtrack Almost Alice References Toggle table contents Alice Wonderland franchise language Espa ol Edit links ArticleTalk English ReadEditView history Tools Tools move sidebar hide Actions ReadEditView history General What links hereRelated changesUpload fileSpecial pagesPermanent linkPage informationCite pageGet shortened URLDownload QR codeWikidata item Print export Download PDFPrintable version From Wikipedia free encyclopedia Disney media franchise based Alice books Lewis Carroll See also Portrayals Alice Wonderland Disney Alice WonderlandAbove A logo used represent animated filmBelow Logo used live action filmCreated byWalt DisneyOriginal workAlice Wonderland OwnerThe Walt Disney CompanyBased onAlice Adventures Wonderland Through Looking Glassby Lewis CarrollFilms televisionFilm Alice Wonderland animated Alice Wonderland live action Alice Through Looking Glass Television series Adventures Wonderland Once Upon Time Wonderland Alice Wonderland Bakery Theatrical presentationsPlay Alice Wonderland Jr GamesVideo game Alice Wonderland Alice Wonderland Disney Infinity AudioSoundtrack Alice Wonderland Alice Wonderland An Original Walt Disney Records Soundtrack Alice Through Looking Glass Original Motion Picture Soundtrack Original musicAlmost Alice MiscellaneousTheme park attraction Mad Tea Party present Alice Wonderland present Alice Curious Labyrinth present Mad T Party Work franchise characters settings appeared part crossover Spin off TV series Once Upon Time Alice Wonderland simply Alice Disney media franchise commencing theatrical release animated film Alice Wonderland film adaptation books Lewis Carroll novel Alice Adventures Wonderland sequel Through Looking Glass featured character Alice A live action film directed Tim Burton released Films edit Film U S release date Director Screenwriter Story Producer Animated films Alice Wonderland September Clyde Geronimi Wilfred Jackson Hamilton Luske Winston Hibler Ted Sears Bill Peet Erdman Penner Joe Rinaldi Milt Banta Bill Cottrell Dick Kelsey Joe Grant Dick Huemer Del Connell Tom Oreb John Walbridge Walt Disney Ben Sharpsteen Live action films Alice Wonderland March Tim Burton Linda Woolverton Richard D Zanuck Joe Roth Suzanne Todd Jennifer Todd Alice Through Looking Glass May James Bobin Joe Roth Suzanne Todd Jennifer Todd Tim Burton Animated films edit Alice Wonderland edit Main article Alice Wonderland film Alice Wonderland American animated fantasy comedy adventure film produced Walt Disney Productions based primarily Lewis Carroll Alice Adventures Wonderland several additional elements sequel Through Looking Glass film released New York City London July features voices Kathryn Beaumont later voiced Wendy Darling film Peter Pan Alice Ed Wynn Mad Hatter theme song Alice Wonderland since become jazz standard Live action films edit Alice Wonderland edit Main article Alice Wonderland film Alice Wonderland American fantasy film directed Tim Burton written Linda Woolverton Released Walt Disney Pictures film stars Mia Wasikowska Alice Kingsleigh Johnny Depp Anne Hathaway Helena Bonham Carter film shot United Kingdom United States Alice Through Looking Glass edit Main article Alice Through Looking Glass film Alice Through Looking Glass American fantasy film directed James Bobin written Linda Woolverton It sequel film Alice Wonderland film stars Mia Wasikowska Johnny Depp Helena Bonham Carter Anne Hathaway Sacha Baron Cohen Rhys Ifans released May TV series edit Adventures Wonderland edit Main article Adventures Wonderland TV series Adventures Wonderland live action musical television series based Walt Disney animated film Alice Wonderland aired Disney Channel In series Alice Elisabeth Harnois portrayed girl come go Wonderland simply walking mirror reference Wonderland source material Lewis Carroll Through Looking Glass Once Upon Time Wonderland edit Main article Once Upon Time Wonderland Once Upon Time Wonderland American fantasy drama series aired ABC October April It created Edward Kitsis Adam Horowitz Zack Estrin Jane Espenson ABC Studios Although directly based Disney film primarily Lewis Carroll novels include elements inspired Disney version series spin off Once Upon Time Alice Wonderland Bakery edit Main article Alice Wonderland Bakery Alice Wonderland Bakery American animated television series produced Disney Television Animation aired Disney Junior February April Video games edit Alice Wonderland edit Main article Alice Wonderland video game Alice Wonderland platform video game developed Digital Eclipse Software published Nintendo Game Boy Color It released North America October game follows plot animated film name Kingdom Hearts series edit Wonderland playable world Kingdom Hearts video game series appearing first time first Kingdom Hearts returns Kingdom Hearts Chain Memories Kingdom Hearts Days Kingdom Hearts coded digitized version world originating data Jiminy Cricket royal journal Kingdom Hearts Alice also major character overall plot first game due role one seven Princesses Heart Other characters movie appear include Queen Hearts Cheshire Cat White Rabbit Doorknob Card Soldiers All except Doorknob also appear Chain Memories albeit form illusions made main character memory Mad Hatter March Hare appear portrait form well appearing corporeal form Kingdom Hearts addition Tweedle Dee Tweedle Dum Caterpillar appears non official game Kingdom Hearts V Cast also manga adpatation Kingdom Hearts Alice Wonderland edit Main article Alice Wonderland video game Alice Wonderland action adventure video game published Disney Interactive Studios game used Wii Nintendo DS Windows PC Zeebo soundtrack composed video game music composer Richard Jacques Disney Infinity series edit film referenced throughout Disney Infinity series power discs in game toys released game In May Alice Mad Hatter Time Alice Through Looking Glass added Disney Infinity three Alice characters penultimate additions series Disney cancelled Disney Infinity franchise earlier month Finding Dory playset Dory Nemo figures released following month June final releases Disney Magic Kingdoms edit world builder game Disney Magic Kingdoms includes attraction Mad Tea Party since launch March Alice Curious Labyrinth also appears part environment next Fantasyland area During limited time Event focused Alice Wonderland included Alice White Rabbit Mad Hatter March Hare Cheshire Cat Queen Hearts Caterpillar playable characters along attractions Alice Wonderland Golden Afternoon Tweedle Wacky Fairway White Rabbit House characters involved new storylines Theme park attractions rides edit Alice Wonderland Maze edit A labyrinth opened Shangha Disneyland June Park It based Tim Burton film Alice Curious Labyrinth edit Main article Alice Curious Labyrinth Alice Curious Labyrinth hedge maze attraction Disneyland Park within Disneyland Paris It opened Park belongs British part Fantasyland Mad Tea Party edit Main article Mad Tea Party Mad Tea Party spinning tea cup ride five Disneyland style theme parks ride theme inspired Unbirthday Party scene Alice In Wonderland ride gained attention years number people get motion sickness result spinning component ride Alice Wonderland ride edit Main article Alice Wonderland Disneyland attraction Alice Wonderland dark ride Fantasyland Disneyland Anaheim California Based animated adaptation name attraction resides next second ride Mad Tea Party based scene adaptation presence two rides based film unusual Walt Disney said regretted making lacked connection audience hearts Mad T Party edit Main article Mad T Party Mad T Party show Disney California Adventure occurs Hollywood Studios subsection Hollywood Land section park Mad T Party premiered June day park re dedicated show inspired Tim Burton Alice Wonderland Stage version edit Alice Wonderland Jr edit Alice Wonderland Jr one act stage version intended middle high school productions It includes majority film songs others including Song South Zip a Dee Doo Dah two new reprises I m Late three new numbers entitled Ocean Tears Simon Says Who Are You respectively This minute version owned Music Theatre International Broadway Jr Collection Music edit Alice Wonderland soundtrack edit Alice Wonderland first released LP record July re released Audio CD Almost Alice edit Main article Almost Alice Almost Alice concept album various artists music inspired Burton Alice Wonderland album also notable featuring songs inspired quotes directly Lewis Carroll original novel album released Buena Vista Records March It debuted number five Billboard References edit Kingdom Hearts Official Page Retrieved July Disney Magic Kingdoms Official Launch Trailer YouTube March Update Alice Wonderland Livestream YouTube October vteDisney Alice Wonderland Works based Alice Wonderland Films Alice Wonderland Alice Wonderland accolades Alice Through Looking Glass Television Adventures Wonderland Once Upon Time Wonderland Alice Wonderland Bakery Amusement parks Mad Tea Party Alice Wonderland Alice Curious Labyrinth Mad T Party Music Alice Wonderland Alice Wonderland score Almost Alice Alice Follow Me Down Tea Party Just Like Fire Video games Alice Paint Adventure Alice Wonderland Alice Wonderland Related Mickey Mousecapade Disney Villains Revenge Kingdom Hearts Kingdom Hearts Chain Memories Coded Days Disney Universe Kinect Disneyland Adventures Disney Infinity Disney Magic Kingdoms Disney Mirrorverse Related Tarrant Hightopp Unbirthday A Twisted Tale One Hour Wonderland Disney Greatest Villains Descendants Rise Red Alice Comedies Thru Mirror vteLewis Carroll Alice Alice Adventures Wonderland Through Looking Glass UniverseCharactersAlice Adventuresin Wonderland Alice portrayals Bill Lizard Caterpillar Cheshire Cat Dodo Dormouse Duchess Gryphon Hatter Tarrant Hightopp King Hearts Knave Hearts March Hare Mock Turtle Mouse Pat Puppy Queen Hearts White Rabbit Minor characters Through theLooking Glass Bandersnatch Humpty Dumpty Jubjub bird Red King Red Queen Sheep Lion Unicorn Tweedledum Tweedledee White King White Knight White Queen Minor characters Locationsand events Wonderland Looking Glass world Unbirthday Poems All golden afternoon How Doth Little Crocodile Mouse Tale Twinkle Twinkle Little Bat You Are Old Father William T Voice Lobster Jabberwocky Vorpal sword Walrus Carpenter Haddocks Eyes Mock Turtle Song Hunting Snark Related Alice Liddell Alice syndrome Alice Shop Illustrators John Tenniel Theophilus Carter Annotated Alice Mischmasch Translations Alice Adventures Wonderland Through Looking Glass AdaptationsStage Alice Wonderland musical Alice Wonderland opera But Never Jam Today musical Through Looking Glass opera Alice Adventures Wonderland ballet Wonderland musical Peter Alice play Wonder land musical Alice Adventures Under Ground opera Alice Heart musical Film Alice Comedies Alice Wonderland Paris Spanish Alice Last Escapade Care Bears Adventure Wonderland Czechoslovak Australian Malice Wonderland Alice Murderland Alice Through Looking Glass Come Away Alice Land Wonders Alice Through Looking Television Alice Wonderland Alice Wonderland What Nice Kid like You Doing Place like This Alice Wonderland Alice Through Looking Glass TV film Fushigi Kuni Alice TV film Adventures Wonderland Alice Looking Glass Alice Wonderland Alice Once Upon Time Wonderland Alice Wonderland Bakery Music White Rabbit song Do Come Around Here No More music video Alice Wonderland Almost Alice Alice Follow Me Down Tea Party Alice Through Looking Glass Just Like Fire Alice song Video games Through Looking Glass Alice Wonderland M rchen Maze Wonderland Alice An Interactive Museum Alice Paint Adventure Alice Wonderland American McGee Alice Kingdom Hearts Alice Country Hearts Alice Wonderland Alice Madness Returns Kingdom Hearts Sequels A New Alice Old Wonderland New Adventures Alice Alice Through Needle Eye Automated Alice Retellings Nursery Alice Alice Adventures Wonderland Retold Words One Syllable American McGee Alice Alice Verse Lost Rhymes Wonderland Alice Madness Returns Parodies Westminster Alice Clara Blunderland Lost Blunderland John Bull Adventures Fiscal Wonderland Alice Blunderland An Iridescent Dream Looking Glass Wars Imitations Mopsa Fairy Davy Goblin Admiral Caravan Gladys Grammarland Rollo Emblemland Alice Orchestralia Literary Alice Borderland Alice Country Hearts Alice Murderland Alice Sunderland Lost Girls Miyuki chan Wonderland Pandora Hearts Tweedledum Tweedledee Unbirthday A Twisted Tale Related Betty Blunderland animated short Thru Mirror animated short Jabberwocky film Jabberwocky film Donald Mathmagic Land film Malice Wonderland animated short Dungeonland module Land Beyond Magic Mirror module Dreamchild film Hunting Snark musical How Doth Little Crocodile artworks Abby Wonderland film Disney franchise Category vteDisney franchises seriesWalt DisneyStudiosWalt DisneyAnimation Studios Dalmatians Aladdin Alice Wonderland Atlantis Beauty Beast Cinderella Donald Duck Emperor New Groove Fantasia Frozen Goofy Hercules Hunchback Notre Dame Jungle Book Lilo Stitch Lion King Little Mermaid Mickey Mouse Oswald Lucky Rabbit Mulan Peter Pan Pocahontas Prep Landing Sleeping Beauty Silly Symphonies Snow White Tangled Tarzan Winnie Pooh Wreck It Ralph Zootopia Walt DisneyPictures Air Bud Beverly Hills Chihuahua Chronicles Narnia Dexter Riley Father Bride Flubber Freaky Friday Fright Night Herbie Hocus Pocus Honey I Shrunk Kids Maleficent Mighty Ducks Muppets National Treasure Parent Trap Pirates Caribbean Santa Clause Shaggy Dog Sister Act Step Up Tron Turner Hooch Unbreakable Who Framed Roger Rabbit Witch Mountain Pixar Cars Finding Nemo Incredibles Inside Out Monsters Inc Toy Story Disneytoon Studios Tinker Bell Marvel Studios Marvel Cinematic Universe Captain America Spider Man Lucasfilm Indiana Jones Star Wars th CenturyStudios Alien Nation Alien Alien vs Predator Alvin Chipmunks Avatar Behind Enemy Lines Cheaper Dozen Diary Wimpy Kid Die Hard Dr Dolittle Fantastic Four Fly Hills Have Eyes Home Alone Ice Age Independence Day Kingsman Maze Runner Night Museum Omen Percy Jackson Planet Apes Predator Revenge Nerds Rio Rocky Horror Show Taken World Watches X Men Disney GeneralEntertainment ContentDisney Channel Cheetah Girls Descendants Halloweentown High School Musical Zombies FX Networks American Story th Television Buffyverse Firefly M A S H Walking Dead international X Files th TVA Family Guy Simpsons Disney Experiences Pirates Caribbean Disney ConsumerProducts Disney Fairies Disney Princess Disney Tsum Tsum Disney Villains Marvel Universe Mickey Mouse Friends Donald Duck Muppets Disney PublishingWorldwide A Twisted Tale Kingdom Keepers W I T C H Disney Games Marvel Games Hulk Marvel vs Capcom Marvel Spider Man Punisher Spider Man X Men Pirates Caribbean video games Simpsons video games Star Wars video games Battlefront Knights Old Republic Lego Rogue Squadron Club Penguin Disney Infinity Disney Activity Center Disney Animated Storybook Disney Magical Quest Disney Print Studio Illusion Incredible Machine Kim Possible Kingdom Hearts Monkey Island Spectrobes Tap Tap Includes Touchstone Pictures Hollywood Pictures Includes Searchlight Pictures th Century Animation related assets Shared Walt Disney Pictures Shared th Century Studios Shared Marvel Studios Shared Universal Pictures Shared Sony Pictures Shared Lionsgate Shared Square Enix Category vteWalt Disney Animation StudiosFeature filmsReleased Snow White Seven Dwarfs Pinocchio Fantasia Dumbo Bambi Saludos Amigos Three Caballeros Make Mine Music Fun Fancy Free Melody Time Adventures Ichabod Mr Toad Cinderella Alice Wonderland Peter Pan Lady Tramp Sleeping Beauty One Hundred One Dalmatians Sword Stone Jungle Book Aristocats Robin Hood Many Adventures Winnie Pooh Rescuers Fox Hound Black Cauldron Great Mouse Detective Oliver Company Little Mermaid Rescuers Down Under Beauty Beast Aladdin Lion King Pocahontas Hunchback Notre Dame Hercules Mulan Tarzan Fantasia Dinosaur Emperor New Groove Atlantis Lost Empire Lilo Stitch Treasure Planet Brother Bear Home Range Chicken Little Meet Robinsons Bolt Princess Frog Tangled Winnie Pooh Wreck It Ralph Frozen Big Hero Zootopia Moana Ralph Breaks Internet Frozen II Raya Last Dragon Encanto Strange World Wish Upcoming Moana Cancelled My Peoples Associatedproductions Reluctant Dragon Victory Through Air Power Song South So Dear My Heart Mary Poppins Bedknobs Broomsticks Pete Dragon Who Framed Roger Rabbit Television productionsTV specials Prep Landing Prep Landing Naughty vs Nice TV series Baymax Zootopia Iw j PeopleExecutives Edwin Catmull Roy Conli Roy E Disney Walt Disney Don Hahn Jeffrey Katzenberg John Lasseter Jennifer Lee Peter Schneider Thomas Schumacher David Stainton Clark Spencer Disney LegendsanimatorsDisney Nine Old Men Les Clark Marc Davis Ollie Johnston Milt Kahl Ward Kimball Eric Larson John Lounsbery Wolfgang Reitherman Frank Thomas James Algar Ken Anderson Xavier Atencio Art Babbitt Grace Bailey Carl Barks Mary Blair Joyce Carlson Marge Champion Claude Coats Don DaGradi Virginia Davis Andreas Deja Norm Ferguson Eyvind Earle Clyde Geronimi Manuel Gonzales Floyd Gottfredson Yale Gracey Joe Grant David Hand Jack Hannah John Hench Dick Huemer Ub Iwerks Wilfred Jackson Steve Jobs Bill Justice Glen Keane Hamilton Luske Burny Mattinson Fred Moore Floyd Norman Bill Peet Walter Peregoy Joe Ranft Retta Scott Ben Sharpsteen Mel Shaw Ruthie Tompson Roy Williams Tyrus WongRelated topicsHistory Disney animators strike animators strike Disney Renaissance Methods andtechnologies Disney Animation Illusion Life Twelve basic principles animation Computer Animation Production System Documentaries Frank Ollie Sweatbox Dream On Silly Dreamer Waking Sleeping Beauty Walt El Grupo Miscellaneous Alice Comedies Laugh O Gram Studio List Walt Disney Animation Studios short films Oswald Lucky Rabbit Mickey Mouse Silly Symphonies Donald Duck Pluto Goofy Academy Award Review Disneytoon Studios List Disney theatrical animated features unproduced live action adaptations List Disney animated films based fairy tales Retrieved https en wikipedia org w index php title Alice in Wonderland franchise oldid Categories Alice Wonderland franchise Walt Disney Studios division franchisesWorks based Alice WonderlandHidden categories Articles short descriptionShort description matches Wikidata This page last edited May UTC Text available Creative Commons Attribution ShareAlike License additional terms may apply By using site agree Terms Use Privacy Policy Wikipedia registered trademark Wikimedia Foundation Inc non profit organization Privacy policy About Wikipedia Disclaimers Contact Wikipedia Code Conduct Developers Statistics Cookie statement Mobile view Toggle limited content width\n"
     ]
    }
   ],
   "source": [
    "listToStr = ' '.join([str(elem) for elem in filtered])\n",
    " \n",
    "print(listToStr)"
   ]
  },
  {
   "cell_type": "code",
   "execution_count": 45,
   "id": "55102a1f-2218-4085-b83f-cc9a55ca87e3",
   "metadata": {
    "tags": []
   },
   "outputs": [],
   "source": [
    "# Create a count for the main characters\n",
    "\n",
    "all_counts = Counter(re.sub(r'\\W+', ' ', listToStr).split())"
   ]
  },
  {
   "cell_type": "code",
   "execution_count": 46,
   "id": "3a253dca-8f7e-420d-bc65-1fd4d4d617d1",
   "metadata": {
    "tags": []
   },
   "outputs": [],
   "source": [
    "chars = pd.read_csv(\"Alice_characters.csv\", index_col = 0)"
   ]
  },
  {
   "cell_type": "code",
   "execution_count": 47,
   "id": "5b4328d9-30ae-4e32-8b6e-8264fc2c7e32",
   "metadata": {
    "tags": []
   },
   "outputs": [
    {
     "data": {
      "text/html": [
       "<div>\n",
       "<style scoped>\n",
       "    .dataframe tbody tr th:only-of-type {\n",
       "        vertical-align: middle;\n",
       "    }\n",
       "\n",
       "    .dataframe tbody tr th {\n",
       "        vertical-align: top;\n",
       "    }\n",
       "\n",
       "    .dataframe thead th {\n",
       "        text-align: right;\n",
       "    }\n",
       "</style>\n",
       "<table border=\"1\" class=\"dataframe\">\n",
       "  <thead>\n",
       "    <tr style=\"text-align: right;\">\n",
       "      <th></th>\n",
       "      <th>character</th>\n",
       "    </tr>\n",
       "  </thead>\n",
       "  <tbody>\n",
       "    <tr>\n",
       "      <th>0</th>\n",
       "      <td>Alice</td>\n",
       "    </tr>\n",
       "    <tr>\n",
       "      <th>1</th>\n",
       "      <td>The White Rabbit</td>\n",
       "    </tr>\n",
       "    <tr>\n",
       "      <th>2</th>\n",
       "      <td>The Mouse</td>\n",
       "    </tr>\n",
       "    <tr>\n",
       "      <th>3</th>\n",
       "      <td>The Dodo</td>\n",
       "    </tr>\n",
       "    <tr>\n",
       "      <th>4</th>\n",
       "      <td>The Lory</td>\n",
       "    </tr>\n",
       "  </tbody>\n",
       "</table>\n",
       "</div>"
      ],
      "text/plain": [
       "          character\n",
       "0             Alice\n",
       "1  The White Rabbit\n",
       "2         The Mouse\n",
       "3          The Dodo\n",
       "4          The Lory"
      ]
     },
     "execution_count": 47,
     "metadata": {},
     "output_type": "execute_result"
    }
   ],
   "source": [
    "chars.head()"
   ]
  },
  {
   "cell_type": "code",
   "execution_count": 48,
   "id": "59ac344e-3623-43ee-8a36-bfcda05822c8",
   "metadata": {
    "tags": []
   },
   "outputs": [],
   "source": [
    "# Replace names with aliases\n",
    "\n",
    "chars['character'] = chars['character'].replace('Bill the Lizard','Bill')\n",
    "chars['character'] = chars['character'].replace('The Queen of Hearts','Queen')\n",
    "chars['character'] = chars['character'].replace('The King of Hearts','King')\n",
    "chars['character'] = chars['character'].replace('The Knave of Hearts','Knave')"
   ]
  },
  {
   "cell_type": "code",
   "execution_count": 49,
   "id": "aaf2089d-9798-4d6f-90c6-05af5d51dd68",
   "metadata": {
    "tags": []
   },
   "outputs": [],
   "source": [
    "chars['character_alias'] = chars['character'].apply(lambda x: x.rsplit(' ', 1)[-1])"
   ]
  },
  {
   "cell_type": "code",
   "execution_count": 50,
   "id": "40882e86-16fa-4874-849a-2ce43d746984",
   "metadata": {
    "tags": []
   },
   "outputs": [],
   "source": [
    "char_list = chars['character_alias'].to_list()"
   ]
  },
  {
   "cell_type": "code",
   "execution_count": 51,
   "id": "05542f4b-c5f9-4f3c-bc4e-7b8db920f010",
   "metadata": {
    "tags": []
   },
   "outputs": [],
   "source": [
    "dict_of_counts = {d : all_counts[d] for d in char_list}"
   ]
  },
  {
   "cell_type": "code",
   "execution_count": 52,
   "id": "8b2ea91d-8539-4cfe-a0e2-6dcdc92d8a47",
   "metadata": {
    "tags": []
   },
   "outputs": [
    {
     "data": {
      "text/plain": [
       "{'Alice': 170,\n",
       " 'Rabbit': 9,\n",
       " 'Mouse': 6,\n",
       " 'Dodo': 1,\n",
       " 'Lory': 0,\n",
       " 'Eaglet': 0,\n",
       " 'Duck': 3,\n",
       " 'Pat': 1,\n",
       " 'Bill': 5,\n",
       " 'Puppy': 1,\n",
       " 'Caterpillar': 3,\n",
       " 'Duchess': 1,\n",
       " 'Cat': 3,\n",
       " 'Hatter': 5,\n",
       " 'Hare': 3,\n",
       " 'Dormouse': 1,\n",
       " 'Queen': 5,\n",
       " 'King': 5,\n",
       " 'Knave': 1,\n",
       " 'Gryphon': 1,\n",
       " 'Turtle': 2}"
      ]
     },
     "execution_count": 52,
     "metadata": {},
     "output_type": "execute_result"
    }
   ],
   "source": [
    "dict_of_counts"
   ]
  },
  {
   "cell_type": "code",
   "execution_count": 53,
   "id": "9ffa69f3-b539-4d9f-a473-7f7d894663a2",
   "metadata": {
    "tags": []
   },
   "outputs": [],
   "source": [
    "# Search for the names from the list in the dictionary\n",
    "\n",
    "dct = {v:[k] for v,k in dict_of_counts.items()}  \n",
    "df = pd.DataFrame(dct)"
   ]
  },
  {
   "cell_type": "code",
   "execution_count": 54,
   "id": "63b7c283-a972-440d-935a-7c36ef1bac96",
   "metadata": {
    "tags": []
   },
   "outputs": [],
   "source": [
    "df = df.transpose().reset_index()"
   ]
  },
  {
   "cell_type": "code",
   "execution_count": 55,
   "id": "fc81f87d-c07a-4948-8b2a-9eea0b2cbe35",
   "metadata": {
    "tags": []
   },
   "outputs": [
    {
     "data": {
      "text/plain": [
       "index    object\n",
       "0         int64\n",
       "dtype: object"
      ]
     },
     "execution_count": 55,
     "metadata": {},
     "output_type": "execute_result"
    }
   ],
   "source": [
    "df.dtypes"
   ]
  },
  {
   "cell_type": "code",
   "execution_count": 56,
   "id": "5dedd533-358c-43e2-be8e-4f64a76cd8be",
   "metadata": {
    "tags": []
   },
   "outputs": [
    {
     "data": {
      "text/html": [
       "<div>\n",
       "<style scoped>\n",
       "    .dataframe tbody tr th:only-of-type {\n",
       "        vertical-align: middle;\n",
       "    }\n",
       "\n",
       "    .dataframe tbody tr th {\n",
       "        vertical-align: top;\n",
       "    }\n",
       "\n",
       "    .dataframe thead th {\n",
       "        text-align: right;\n",
       "    }\n",
       "</style>\n",
       "<table border=\"1\" class=\"dataframe\">\n",
       "  <thead>\n",
       "    <tr style=\"text-align: right;\">\n",
       "      <th></th>\n",
       "      <th>index</th>\n",
       "      <th>0</th>\n",
       "    </tr>\n",
       "  </thead>\n",
       "  <tbody>\n",
       "    <tr>\n",
       "      <th>0</th>\n",
       "      <td>Alice</td>\n",
       "      <td>170</td>\n",
       "    </tr>\n",
       "    <tr>\n",
       "      <th>1</th>\n",
       "      <td>Rabbit</td>\n",
       "      <td>9</td>\n",
       "    </tr>\n",
       "    <tr>\n",
       "      <th>2</th>\n",
       "      <td>Mouse</td>\n",
       "      <td>6</td>\n",
       "    </tr>\n",
       "    <tr>\n",
       "      <th>3</th>\n",
       "      <td>Dodo</td>\n",
       "      <td>1</td>\n",
       "    </tr>\n",
       "    <tr>\n",
       "      <th>4</th>\n",
       "      <td>Lory</td>\n",
       "      <td>0</td>\n",
       "    </tr>\n",
       "    <tr>\n",
       "      <th>5</th>\n",
       "      <td>Eaglet</td>\n",
       "      <td>0</td>\n",
       "    </tr>\n",
       "    <tr>\n",
       "      <th>6</th>\n",
       "      <td>Duck</td>\n",
       "      <td>3</td>\n",
       "    </tr>\n",
       "    <tr>\n",
       "      <th>7</th>\n",
       "      <td>Pat</td>\n",
       "      <td>1</td>\n",
       "    </tr>\n",
       "    <tr>\n",
       "      <th>8</th>\n",
       "      <td>Bill</td>\n",
       "      <td>5</td>\n",
       "    </tr>\n",
       "    <tr>\n",
       "      <th>9</th>\n",
       "      <td>Puppy</td>\n",
       "      <td>1</td>\n",
       "    </tr>\n",
       "    <tr>\n",
       "      <th>10</th>\n",
       "      <td>Caterpillar</td>\n",
       "      <td>3</td>\n",
       "    </tr>\n",
       "    <tr>\n",
       "      <th>11</th>\n",
       "      <td>Duchess</td>\n",
       "      <td>1</td>\n",
       "    </tr>\n",
       "    <tr>\n",
       "      <th>12</th>\n",
       "      <td>Cat</td>\n",
       "      <td>3</td>\n",
       "    </tr>\n",
       "    <tr>\n",
       "      <th>13</th>\n",
       "      <td>Hatter</td>\n",
       "      <td>5</td>\n",
       "    </tr>\n",
       "    <tr>\n",
       "      <th>14</th>\n",
       "      <td>Hare</td>\n",
       "      <td>3</td>\n",
       "    </tr>\n",
       "    <tr>\n",
       "      <th>15</th>\n",
       "      <td>Dormouse</td>\n",
       "      <td>1</td>\n",
       "    </tr>\n",
       "    <tr>\n",
       "      <th>16</th>\n",
       "      <td>Queen</td>\n",
       "      <td>5</td>\n",
       "    </tr>\n",
       "    <tr>\n",
       "      <th>17</th>\n",
       "      <td>King</td>\n",
       "      <td>5</td>\n",
       "    </tr>\n",
       "    <tr>\n",
       "      <th>18</th>\n",
       "      <td>Knave</td>\n",
       "      <td>1</td>\n",
       "    </tr>\n",
       "    <tr>\n",
       "      <th>19</th>\n",
       "      <td>Gryphon</td>\n",
       "      <td>1</td>\n",
       "    </tr>\n",
       "    <tr>\n",
       "      <th>20</th>\n",
       "      <td>Turtle</td>\n",
       "      <td>2</td>\n",
       "    </tr>\n",
       "  </tbody>\n",
       "</table>\n",
       "</div>"
      ],
      "text/plain": [
       "          index    0\n",
       "0         Alice  170\n",
       "1        Rabbit    9\n",
       "2         Mouse    6\n",
       "3          Dodo    1\n",
       "4          Lory    0\n",
       "5        Eaglet    0\n",
       "6          Duck    3\n",
       "7           Pat    1\n",
       "8          Bill    5\n",
       "9         Puppy    1\n",
       "10  Caterpillar    3\n",
       "11      Duchess    1\n",
       "12          Cat    3\n",
       "13       Hatter    5\n",
       "14         Hare    3\n",
       "15     Dormouse    1\n",
       "16        Queen    5\n",
       "17         King    5\n",
       "18        Knave    1\n",
       "19      Gryphon    1\n",
       "20       Turtle    2"
      ]
     },
     "execution_count": 56,
     "metadata": {},
     "output_type": "execute_result"
    }
   ],
   "source": [
    "df"
   ]
  },
  {
   "cell_type": "code",
   "execution_count": 57,
   "id": "3d8f24cc-5539-40fc-b1f7-b7fd0aa510ae",
   "metadata": {
    "tags": []
   },
   "outputs": [],
   "source": [
    "df.rename(columns = {\"index\":\"Character\", 0:\"Times mentioned\"}, inplace = True)"
   ]
  },
  {
   "cell_type": "code",
   "execution_count": 58,
   "id": "62f3cf2b-cbec-4cf8-93ea-1bed743ed318",
   "metadata": {
    "tags": []
   },
   "outputs": [
    {
     "data": {
      "text/html": [
       "<div>\n",
       "<style scoped>\n",
       "    .dataframe tbody tr th:only-of-type {\n",
       "        vertical-align: middle;\n",
       "    }\n",
       "\n",
       "    .dataframe tbody tr th {\n",
       "        vertical-align: top;\n",
       "    }\n",
       "\n",
       "    .dataframe thead th {\n",
       "        text-align: right;\n",
       "    }\n",
       "</style>\n",
       "<table border=\"1\" class=\"dataframe\">\n",
       "  <thead>\n",
       "    <tr style=\"text-align: right;\">\n",
       "      <th></th>\n",
       "      <th>Character</th>\n",
       "      <th>Times mentioned</th>\n",
       "    </tr>\n",
       "  </thead>\n",
       "  <tbody>\n",
       "    <tr>\n",
       "      <th>0</th>\n",
       "      <td>Alice</td>\n",
       "      <td>170</td>\n",
       "    </tr>\n",
       "    <tr>\n",
       "      <th>1</th>\n",
       "      <td>Rabbit</td>\n",
       "      <td>9</td>\n",
       "    </tr>\n",
       "    <tr>\n",
       "      <th>2</th>\n",
       "      <td>Mouse</td>\n",
       "      <td>6</td>\n",
       "    </tr>\n",
       "    <tr>\n",
       "      <th>3</th>\n",
       "      <td>Dodo</td>\n",
       "      <td>1</td>\n",
       "    </tr>\n",
       "    <tr>\n",
       "      <th>4</th>\n",
       "      <td>Lory</td>\n",
       "      <td>0</td>\n",
       "    </tr>\n",
       "    <tr>\n",
       "      <th>5</th>\n",
       "      <td>Eaglet</td>\n",
       "      <td>0</td>\n",
       "    </tr>\n",
       "    <tr>\n",
       "      <th>6</th>\n",
       "      <td>Duck</td>\n",
       "      <td>3</td>\n",
       "    </tr>\n",
       "    <tr>\n",
       "      <th>7</th>\n",
       "      <td>Pat</td>\n",
       "      <td>1</td>\n",
       "    </tr>\n",
       "    <tr>\n",
       "      <th>8</th>\n",
       "      <td>Bill</td>\n",
       "      <td>5</td>\n",
       "    </tr>\n",
       "    <tr>\n",
       "      <th>9</th>\n",
       "      <td>Puppy</td>\n",
       "      <td>1</td>\n",
       "    </tr>\n",
       "    <tr>\n",
       "      <th>10</th>\n",
       "      <td>Caterpillar</td>\n",
       "      <td>3</td>\n",
       "    </tr>\n",
       "    <tr>\n",
       "      <th>11</th>\n",
       "      <td>Duchess</td>\n",
       "      <td>1</td>\n",
       "    </tr>\n",
       "    <tr>\n",
       "      <th>12</th>\n",
       "      <td>Cat</td>\n",
       "      <td>3</td>\n",
       "    </tr>\n",
       "    <tr>\n",
       "      <th>13</th>\n",
       "      <td>Hatter</td>\n",
       "      <td>5</td>\n",
       "    </tr>\n",
       "    <tr>\n",
       "      <th>14</th>\n",
       "      <td>Hare</td>\n",
       "      <td>3</td>\n",
       "    </tr>\n",
       "    <tr>\n",
       "      <th>15</th>\n",
       "      <td>Dormouse</td>\n",
       "      <td>1</td>\n",
       "    </tr>\n",
       "    <tr>\n",
       "      <th>16</th>\n",
       "      <td>Queen</td>\n",
       "      <td>5</td>\n",
       "    </tr>\n",
       "    <tr>\n",
       "      <th>17</th>\n",
       "      <td>King</td>\n",
       "      <td>5</td>\n",
       "    </tr>\n",
       "    <tr>\n",
       "      <th>18</th>\n",
       "      <td>Knave</td>\n",
       "      <td>1</td>\n",
       "    </tr>\n",
       "    <tr>\n",
       "      <th>19</th>\n",
       "      <td>Gryphon</td>\n",
       "      <td>1</td>\n",
       "    </tr>\n",
       "    <tr>\n",
       "      <th>20</th>\n",
       "      <td>Turtle</td>\n",
       "      <td>2</td>\n",
       "    </tr>\n",
       "  </tbody>\n",
       "</table>\n",
       "</div>"
      ],
      "text/plain": [
       "      Character  Times mentioned\n",
       "0         Alice              170\n",
       "1        Rabbit                9\n",
       "2         Mouse                6\n",
       "3          Dodo                1\n",
       "4          Lory                0\n",
       "5        Eaglet                0\n",
       "6          Duck                3\n",
       "7           Pat                1\n",
       "8          Bill                5\n",
       "9         Puppy                1\n",
       "10  Caterpillar                3\n",
       "11      Duchess                1\n",
       "12          Cat                3\n",
       "13       Hatter                5\n",
       "14         Hare                3\n",
       "15     Dormouse                1\n",
       "16        Queen                5\n",
       "17         King                5\n",
       "18        Knave                1\n",
       "19      Gryphon                1\n",
       "20       Turtle                2"
      ]
     },
     "execution_count": 58,
     "metadata": {},
     "output_type": "execute_result"
    }
   ],
   "source": [
    "df"
   ]
  },
  {
   "cell_type": "code",
   "execution_count": 59,
   "id": "ca280a7d-8759-498a-b8b2-3c7a4df645aa",
   "metadata": {
    "tags": []
   },
   "outputs": [
    {
     "data": {
      "text/plain": [
       "(21, 2)"
      ]
     },
     "execution_count": 59,
     "metadata": {},
     "output_type": "execute_result"
    }
   ],
   "source": [
    "df.shape"
   ]
  },
  {
   "cell_type": "code",
   "execution_count": 60,
   "id": "fe2d9f68-c263-4b04-b158-021c45df022b",
   "metadata": {
    "tags": []
   },
   "outputs": [
    {
     "data": {
      "image/png": "[encoded data removed]",
      "text/plain": [
       "<Figure size 1000x500 with 1 Axes>"
      ]
     },
     "metadata": {},
     "output_type": "display_data"
    }
   ],
   "source": [
    "plt.figure(figsize=(10, 5))\n",
    "with sns.dark_palette(\"#79C\", 27):\n",
    "    sns.barplot(x = \"Times mentioned\", y = \"Character\",\n",
    "    saturation=0.9, data = df.sort_values(\"Times mentioned\", ascending = False)).set_title(\"Alice in Wonderland - most frequently mentioned characters\")"
   ]
  },
  {
   "cell_type": "code",
   "execution_count": 61,
   "id": "c10b6b31-142c-463a-b8db-db06aeb8aebd",
   "metadata": {
    "tags": []
   },
   "outputs": [],
   "source": [
    "chars.to_csv(\"characters_alice.csv\")"
   ]
  },
  {
   "cell_type": "markdown",
   "id": "0fca207d-f96a-4a4e-9d4c-8b25a4f3497e",
   "metadata": {},
   "source": [
    "# Sentiment Analysis"
   ]
  },
  {
   "cell_type": "code",
   "execution_count": 62,
   "id": "e2a500e4-0518-4958-95f5-2fe60338f10a",
   "metadata": {
    "tags": []
   },
   "outputs": [
    {
     "name": "stdout",
     "output_type": "stream",
     "text": [
      "Sentiment(polarity=-0.002394995877138736, subjectivity=0.43938371813371824)\n"
     ]
    }
   ],
   "source": [
    "text_sent = TextBlob(str(filtered))\n",
    "print(text_sent.sentiment)"
   ]
  },
  {
   "cell_type": "code",
   "execution_count": null,
   "id": "cb489308-7e32-4595-9c56-750ce19debc0",
   "metadata": {},
   "outputs": [],
   "source": []
  }
 ],
 "metadata": {
  "kernelspec": {
   "display_name": "Python [conda env:venv_alice]",
   "language": "python",
   "name": "conda-env-venv_alice-py"
  },
  "language_info": {
   "codemirror_mode": {
    "name": "ipython",
    "version": 3
   },
   "file_extension": ".py",
   "mimetype": "text/x-python",
   "name": "python",
   "nbconvert_exporter": "python",
   "pygments_lexer": "ipython3",
   "version": "3.12.3"
  }
 },
 "nbformat": 4,
 "nbformat_minor": 5
}
